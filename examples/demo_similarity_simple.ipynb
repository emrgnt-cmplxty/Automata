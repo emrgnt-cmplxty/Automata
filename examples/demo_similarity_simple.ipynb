{
 "cells": [
  {
   "cell_type": "code",
   "execution_count": 1,
   "id": "b6002338",
   "metadata": {},
   "outputs": [],
   "source": [
    "import os\n",
    "import logging\n",
    "\n",
    "from automata.singletons.dependency_factory import dependency_factory, DependencyFactory\n",
    "from automata.singletons.py_module_loader import py_module_loader\n",
    "from automata.symbol.graph import SymbolGraph\n",
    "from automata.symbol_embedding.vector_databases import (\n",
    "    ChromaSymbolEmbeddingVectorDatabase,\n",
    ")\n",
    "from automata.symbol_embedding.base import SymbolCodeEmbedding\n",
    "from automata.llm.providers.openai import OpenAIEmbeddingProvider\n",
    "\n"
   ]
  },
  {
   "cell_type": "code",
   "execution_count": 2,
   "id": "cfa450db",
   "metadata": {},
   "outputs": [],
   "source": [
    "py_module_loader.reset()\n",
    "\n",
    "root_path = \"/Users/ocolegrove/repo_store/llama_index\"\n",
    "project_name = \"langchain\"\n",
    "\n",
    "py_module_loader.initialize(root_path, project_name)"
   ]
  },
  {
   "cell_type": "code",
   "execution_count": 4,
   "id": "72fca92d",
   "metadata": {
    "scrolled": false
   },
   "outputs": [
    {
     "name": "stdout",
     "output_type": "stream",
     "text": [
      "Demonstrating code embedding search results for query = 'How do I build an agent?'\n",
      "rank 0 = langchain.agents.agent_toolkits.openapi.base.create_openapi_agent with distance 0.779\n",
      "rank 1 = langchain.agents.react.base.ReActDocstoreAgent with distance 0.775\n",
      "rank 2 = langchain.agents.chat.base.ChatAgent with distance 0.774\n",
      "rank 3 = langchain.agents.agent_toolkits.openapi.planner._create_api_controller_agent with distance 0.773\n",
      "rank 4 = langchain.agents.agent_toolkits.sql.base.create_sql_agent with distance 0.772\n",
      "rank 5 = langchain.agents.agent_toolkits.spark_sql.base.create_spark_sql_agent with distance 0.771\n",
      "rank 6 = langchain.agents.self_ask_with_search.base.SelfAskWithSearchAgent with distance 0.768\n",
      "rank 7 = langchain.agents.agent.Agent with distance 0.767\n",
      "rank 8 = langchain.agents.structured_chat.base.StructuredChatAgent with distance 0.767\n",
      "rank 9 = langchain.agents.agent_toolkits.json.base.create_json_agent with distance 0.766\n"
     ]
    }
   ],
   "source": [
    "\n",
    "code_embedding_db = ChromaSymbolEmbeddingVectorDatabase(\n",
    "    project_name,\n",
    "    persist_directory=DependencyFactory.DEFAULT_CODE_EMBEDDING_FPATH,\n",
    "    factory=SymbolCodeEmbedding.from_args,\n",
    ")\n",
    "\n",
    "dependency_factory.set_overrides(\n",
    "    **{\n",
    "        \"code_embedding_db\": code_embedding_db,\n",
    "    }\n",
    "    \n",
    ")\n",
    "\n",
    "symbol_code_embedding_handler = dependency_factory.get(\"symbol_code_embedding_handler\")\n",
    "embedding_similarity_calculator = dependency_factory.get(\"embedding_similarity_calculator\")\n",
    "\n",
    "\n",
    "code_embeddings = symbol_code_embedding_handler.get_ordered_entries()\n",
    "\n",
    "query = \"How do I build an agent?\"\n",
    "\n",
    "print(f\"Demonstrating embedding Similarity Search search results for query = '{query}'\")\n",
    "code_similarity_results = embedding_similarity_calculator.calculate_query_similarity_dict(code_embeddings, query)\n",
    "for i,rank in enumerate(list(code_similarity_results.items())[0:10]):\n",
    "    print(f\"rank {i} = {rank[0].dotpath} with distance {rank[1]:.3f}\")"
   ]
  }
 ],
 "metadata": {
  "kernelspec": {
   "display_name": "Python 3 (ipykernel)",
   "language": "python",
   "name": "python3"
  },
  "language_info": {
   "codemirror_mode": {
    "name": "ipython",
    "version": 3
   },
   "file_extension": ".py",
   "mimetype": "text/x-python",
   "name": "python",
   "nbconvert_exporter": "python",
   "pygments_lexer": "ipython3",
   "version": "3.9.13"
  }
 },
 "nbformat": 4,
 "nbformat_minor": 5
}
