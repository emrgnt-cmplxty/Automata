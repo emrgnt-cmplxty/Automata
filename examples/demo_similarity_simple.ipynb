{
 "cells": [
  {
   "cell_type": "code",
   "execution_count": 1,
   "id": "b6002338",
   "metadata": {},
   "outputs": [],
   "source": [
    "import os\n",
    "import logging\n",
    "import numpy as np\n",
    "\n",
    "from automata.singletons.dependency_factory import dependency_factory, DependencyFactory\n",
    "from automata.singletons.py_module_loader import py_module_loader\n",
    "from automata.symbol.graph import SymbolGraph\n",
    "from automata.symbol_embedding.vector_databases import (\n",
    "    ChromaSymbolEmbeddingVectorDatabase,\n",
    ")\n",
    "from automata.symbol_embedding import SymbolCodeEmbedding\n",
    "from automata.llm.providers.openai_llm import OpenAIEmbeddingProvider\n",
    "\n"
   ]
  },
  {
   "cell_type": "code",
   "execution_count": 2,
   "id": "cfa450db",
   "metadata": {},
   "outputs": [],
   "source": [
    "py_module_loader.reset()\n",
    "dependency_factory.reset()\n",
    "project_name = \"automata\"\n",
    "py_module_loader.initialize(f\"..\", project_name) # ! Can replace with your own project\n"
   ]
  },
  {
   "cell_type": "code",
   "execution_count": 4,
   "id": "72fca92d",
   "metadata": {
    "scrolled": false
   },
   "outputs": [
    {
     "name": "stdout",
     "output_type": "stream",
     "text": [
      "Demonstrating embedding Similarity Search search results for query = 'How do I build an agent?'\n",
      "rank 0 = automata.config.config_base.AgentConfigBuilder.build with distance 0.798\n",
      "rank 1 = automata.tasks.task_executor.IAutomataTaskExecution._build_agent with distance 0.789\n",
      "rank 2 = automata.tests.unit.sample_modules.sample2.PythonAgentToolkit.build with distance 0.781\n",
      "rank 3 = automata.cli.scripts.run_agent.main with distance 0.780\n",
      "rank 4 = automata.tests.unit.sample_modules.sample2.PythonAgentToolkit.python_agent_python_task with distance 0.779\n",
      "rank 5 = automata.agent.agent.Agent with distance 0.776\n",
      "rank 6 = automata.agent.openai_agent.OpenAIAutomataAgent with distance 0.773\n",
      "rank 7 = automata.tests.unit.sample_modules.sample2.PythonAgentToolkit with distance 0.772\n",
      "rank 8 = automata.tests.unit.agentified_search.test_agentified_search.test_build with distance 0.772\n",
      "rank 9 = automata.agent.agent.AgentToolkitBuilder with distance 0.770\n"
     ]
    }
   ],
   "source": [
    "symbol_graph = SymbolGraph(\n",
    "    os.path.join(DependencyFactory.DEFAULT_SCIP_FPATH, f\"{project_name}.scip\")\n",
    ")\n",
    "\n",
    "code_embedding_db = ChromaSymbolEmbeddingVectorDatabase(\n",
    "    project_name,\n",
    "    persist_directory=DependencyFactory.DEFAULT_CODE_EMBEDDING_FPATH,\n",
    "    factory=SymbolCodeEmbedding.from_args,\n",
    ")\n",
    "\n",
    "dependency_factory.set_overrides(\n",
    "    **{\n",
    "        \"symbol_graph\": symbol_graph,\n",
    "        \"code_embedding_db\": code_embedding_db,\n",
    "    }\n",
    ")\n",
    "\n",
    "symbol_search = dependency_factory.get('symbol_search')\n",
    "symbol_code_embedding_handler = dependency_factory.get(\"symbol_code_embedding_handler\")\n",
    "embedding_similarity_calculator = dependency_factory.get('embedding_similarity_calculator')\n",
    "\n",
    "code_embeddings = symbol_code_embedding_handler.get_all_ordered_embeddings()\n",
    "\n",
    "code_embeddings_array = np.array([np.array(ele.vector) for ele in code_embeddings])\n",
    "\n",
    "query = \"How do I build an agent?\"\n",
    "\n",
    "print(f\"Demonstrating embedding Similarity Search search results for query = '{query}'\")\n",
    "code_similarity_results = embedding_similarity_calculator.calculate_query_similarity_dict(code_embeddings, query)\n",
    "for i,rank in enumerate(list(code_similarity_results.items())[:10]):\n",
    "    print(f\"rank {i} = {rank[0].dotpath} with distance {rank[1]:.3f}\")\n",
    "\n"
   ]
  }
 ],
 "metadata": {
  "kernelspec": {
   "display_name": "Python 3 (ipykernel)",
   "language": "python",
   "name": "python3"
  },
  "language_info": {
   "codemirror_mode": {
    "name": "ipython",
    "version": 3
   },
   "file_extension": ".py",
   "mimetype": "text/x-python",
   "name": "python",
   "nbconvert_exporter": "python",
   "pygments_lexer": "ipython3",
   "version": "3.10.12"
  }
 },
 "nbformat": 4,
 "nbformat_minor": 5
}
