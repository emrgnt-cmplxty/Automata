{
 "cells": [
  {
   "cell_type": "code",
   "execution_count": 1,
   "id": "019bfa33",
   "metadata": {},
   "outputs": [
    {
     "name": "stderr",
     "output_type": "stream",
     "text": [
      "\u001b[32mLoading modules with root path: /Users/ocolegrove/automata_fresh_2/automata/core/../.. and py path: /Users/ocolegrove/automata_fresh_2/automata/core/../../automata\u001b[0m\n"
     ]
    }
   ],
   "source": [
    "import logging\n",
    "\n",
    "from automata.cli.commands import reconfigure_logging\n",
    "from automata.config.base import AgentConfigName\n",
    "from automata.config.openai_agent import OpenAIAutomataAgentConfigBuilder\n",
    "from automata.agent.providers import OpenAIAutomataAgent\n",
    "from automata.singletons.dependency_factory import dependency_factory\n",
    "from automata.singletons.py_module_loader import py_module_loader\n",
    "from automata.tools.factory import AgentToolFactory\n",
    "\n",
    "logger = logging.getLogger(__name__)\n",
    "reconfigure_logging(\"DEBUG\")\n",
    "\n",
    "py_module_loader.initialize()"
   ]
  },
  {
   "cell_type": "code",
   "execution_count": 2,
   "id": "a9852e2c",
   "metadata": {
    "scrolled": true
   },
   "outputs": [
    {
     "name": "stderr",
     "output_type": "stream",
     "text": [
      "\u001b[32mBuilding dependencies for toolkits ['document-oracle', 'py-reader']...\u001b[0m\n",
      "\u001b[32mBuilding py_reader...\u001b[0m\n",
      "\u001b[32mCreating dependency py_reader\u001b[0m\n",
      "\u001b[32mBuilding symbol_search...\u001b[0m\n",
      "\u001b[32mCreating dependency symbol_search\u001b[0m\n",
      "\u001b[32mCreating dependency symbol_graph\u001b[0m\n",
      "\u001b[32mCreating dependency symbol_code_embedding_handler\u001b[0m\n",
      "\u001b[32mAnonymized telemetry enabled. See https://docs.trychroma.com/telemetry for more information.\u001b[0m\n",
      "\u001b[32mSuccessfully imported ClickHouse Connect C data optimizations\u001b[0m\n",
      "\u001b[32mUsing python library for writing JSON byte strings\u001b[0m\n",
      "\u001b[32mloaded in 876 embeddings\u001b[0m\n",
      "\u001b[32mloaded in 1 collections\u001b[0m\n",
      "\u001b[32mcollection with name automata already exists, returning existing collection\u001b[0m\n",
      "\u001b[32mCreating dependency embedding_similarity_calculator\u001b[0m\n",
      "\u001b[32mBuilding symbol_doc_embedding_handler...\u001b[0m\n",
      "\u001b[32mCreating dependency symbol_doc_embedding_handler\u001b[0m\n",
      "\u001b[32mAnonymized telemetry enabled. See https://docs.trychroma.com/telemetry for more information.\u001b[0m\n",
      "\u001b[32mloaded in 1428 embeddings\u001b[0m\n",
      "\u001b[32mloaded in 1 collections\u001b[0m\n",
      "\u001b[32mcollection with name automata already exists, returning existing collection\u001b[0m\n",
      "\u001b[32mCreating dependency py_context_handler\u001b[0m\n",
      "\u001b[32mCreating dependency py_context_retriever\u001b[0m\n"
     ]
    }
   ],
   "source": [
    "# Construct the set of all dependencies that will be used to build the tools\n",
    "toolkit_list = [\"document-oracle\",\"py-reader\"]\n",
    "tool_dependencies = dependency_factory.build_dependencies_for_tools(toolkit_list)"
   ]
  },
  {
   "cell_type": "code",
   "execution_count": 3,
   "id": "fb0430f9",
   "metadata": {},
   "outputs": [],
   "source": [
    "# Build the tools\n",
    "tools = AgentToolFactory.build_tools(toolkit_list, **tool_dependencies)"
   ]
  },
  {
   "cell_type": "code",
   "execution_count": 4,
   "id": "1e5b36ce",
   "metadata": {
    "scrolled": true
   },
   "outputs": [
    {
     "name": "stderr",
     "output_type": "stream",
     "text": [
      "\u001b[32mCreating dependency symbol_rank\u001b[0m\n",
      "\u001b[32mCreating dependency subgraph\u001b[0m\n",
      "\u001b[32mPre-computing bounding boxes for all rankable symbols\u001b[0m\n",
      "Error computing bounding box for scip-python python automata 85358531cb1d06a1b53846f8f365e186e986700b `automata.tools.builders.context_oracle`/ContextOracleOpenAIToolkitBuilder#: Module automata.tools.builders.context_oracle not found\n",
      "Error computing bounding box for scip-python python automata 85358531cb1d06a1b53846f8f365e186e986700b `automata.tools.builders.context_oracle`/ContextOracleOpenAIToolkitBuilder#build_for_open_ai().: Module automata.tools.builders.context_oracle not found\n",
      "Error computing bounding box for scip-python python automata 85358531cb1d06a1b53846f8f365e186e986700b `automata.tools.builders.context_oracle`/ContextOracleToolkitBuilder#: Module automata.tools.builders.context_oracle not found\n",
      "Error computing bounding box for scip-python python automata 85358531cb1d06a1b53846f8f365e186e986700b `automata.tools.builders.context_oracle`/ContextOracleToolkitBuilder#__init__().: Module automata.tools.builders.context_oracle not found\n",
      "Error computing bounding box for scip-python python automata 85358531cb1d06a1b53846f8f365e186e986700b `automata.tools.builders.context_oracle`/ContextOracleToolkitBuilder#_get_context().: Module automata.tools.builders.context_oracle not found\n",
      "Error computing bounding box for scip-python python automata 85358531cb1d06a1b53846f8f365e186e986700b `automata.tools.builders.context_oracle`/ContextOracleToolkitBuilder#build().: Module automata.tools.builders.context_oracle not found\n",
      "\u001b[32mFinished pre-computing bounding boxes for all rankable symbols in 2.1575522422790527 seconds\u001b[0m\n",
      "\u001b[32mBuilding the rankable symbol subgraph...\u001b[0m\n",
      " 94%|█████████████████████████████████████████████████████████████████████████████████████████████████████████████████████████████████████████████████████████████████████████████████████████████████████▏            | 786/837 [00:03<00:00, 213.53it/s]\u001b[31mError processing scip-python python automata 85358531cb1d06a1b53846f8f365e186e986700b `automata.tools.builders.context_oracle`/ContextOracleOpenAIToolkitBuilder#: Symbol(scip-python python automata 85358531cb1d06a1b53846f8f365e186e986700b `automata.tools.builders.context_oracle`/ContextOracleOpenAIToolkitBuilder#, scip-python, Package(python automata 85358531cb1d06a1b53846f8f365e186e986700b), (Descriptor(automata.tools.builders.context_oracle, 1), Descriptor(ContextOracleOpenAIToolkitBuilder, 2)))\u001b[0m\n",
      "\u001b[31mError processing scip-python python automata 85358531cb1d06a1b53846f8f365e186e986700b `automata.tools.builders.context_oracle`/ContextOracleOpenAIToolkitBuilder#build_for_open_ai().: Symbol(scip-python python automata 85358531cb1d06a1b53846f8f365e186e986700b `automata.tools.builders.context_oracle`/ContextOracleOpenAIToolkitBuilder#build_for_open_ai()., scip-python, Package(python automata 85358531cb1d06a1b53846f8f365e186e986700b), (Descriptor(automata.tools.builders.context_oracle, 1), Descriptor(ContextOracleOpenAIToolkitBuilder, 2), Descriptor(build_for_open_ai, 4)))\u001b[0m\n",
      "\u001b[31mError processing scip-python python automata 85358531cb1d06a1b53846f8f365e186e986700b `automata.tools.builders.context_oracle`/ContextOracleToolkitBuilder#: Symbol(scip-python python automata 85358531cb1d06a1b53846f8f365e186e986700b `automata.tools.builders.context_oracle`/ContextOracleToolkitBuilder#, scip-python, Package(python automata 85358531cb1d06a1b53846f8f365e186e986700b), (Descriptor(automata.tools.builders.context_oracle, 1), Descriptor(ContextOracleToolkitBuilder, 2)))\u001b[0m\n",
      "\u001b[31mError processing scip-python python automata 85358531cb1d06a1b53846f8f365e186e986700b `automata.tools.builders.context_oracle`/ContextOracleToolkitBuilder#__init__().: Symbol(scip-python python automata 85358531cb1d06a1b53846f8f365e186e986700b `automata.tools.builders.context_oracle`/ContextOracleToolkitBuilder#__init__()., scip-python, Package(python automata 85358531cb1d06a1b53846f8f365e186e986700b), (Descriptor(automata.tools.builders.context_oracle, 1), Descriptor(ContextOracleToolkitBuilder, 2), Descriptor(__init__, 4)))\u001b[0m\n",
      "\u001b[31mError processing scip-python python automata 85358531cb1d06a1b53846f8f365e186e986700b `automata.tools.builders.context_oracle`/ContextOracleToolkitBuilder#_get_context().: Symbol(scip-python python automata 85358531cb1d06a1b53846f8f365e186e986700b `automata.tools.builders.context_oracle`/ContextOracleToolkitBuilder#_get_context()., scip-python, Package(python automata 85358531cb1d06a1b53846f8f365e186e986700b), (Descriptor(automata.tools.builders.context_oracle, 1), Descriptor(ContextOracleToolkitBuilder, 2), Descriptor(_get_context, 4)))\u001b[0m\n",
      "\u001b[31mError processing scip-python python automata 85358531cb1d06a1b53846f8f365e186e986700b `automata.tools.builders.context_oracle`/ContextOracleToolkitBuilder#build().: Symbol(scip-python python automata 85358531cb1d06a1b53846f8f365e186e986700b `automata.tools.builders.context_oracle`/ContextOracleToolkitBuilder#build()., scip-python, Package(python automata 85358531cb1d06a1b53846f8f365e186e986700b), (Descriptor(automata.tools.builders.context_oracle, 1), Descriptor(ContextOracleToolkitBuilder, 2), Descriptor(build, 4)))\u001b[0m\n",
      "100%|██████████████████████████████████████████████████████████████████████████████████████████████████████████████████████████████████████████████████████████████████████████████████████████████████████████████████| 837/837 [00:03<00:00, 234.31it/s]\n",
      "\u001b[32mBuilt the rankable symbol subgraph\u001b[0m\n"
     ]
    }
   ],
   "source": [
    "# Build the agent config\n",
    "config_name = AgentConfigName(\"automata-main\")\n",
    "\n",
    "agent_config = (\n",
    "    OpenAIAutomataAgentConfigBuilder.from_name(config_name)\n",
    "    .with_tools(tools)\n",
    "    .with_model(\"gpt-4\")\n",
    "    .with_max_iterations(3)\n",
    "    .build()\n",
    ")"
   ]
  },
  {
   "cell_type": "code",
   "execution_count": 5,
   "id": "67aa2161",
   "metadata": {
    "scrolled": true
   },
   "outputs": [],
   "source": [
    "import textwrap\n",
    "instructions = textwrap.dedent('''\n",
    "Provide a markdown python snippet, which can validly executed by `exec`. When ran, the snippet produces a valid instance of an openai agent config in the local variable `x`.\n",
    "''')\n",
    "agent = OpenAIAutomataAgent(instructions, config=agent_config)"
   ]
  },
  {
   "cell_type": "code",
   "execution_count": 6,
   "id": "4cad1214",
   "metadata": {},
   "outputs": [
    {
     "name": "stdout",
     "output_type": "stream",
     "text": [
      "\u001b[32mFunction\u001b[0m \u001b[32mCall:\n",
      "py-retriever-code\n",
      "\n",
      "Arguments:\n",
      "{\n",
      "\u001b[0m \u001b[32m\u001b[0m \u001b[32m\"module_path\":\u001b[0m \u001b[32m\"automata.config.openai_agent\",\n",
      "\u001b[0m \u001b[32m\u001b[0m \u001b[32m\"node_path\":\u001b[0m \u001b[32m\"OpenAIAutomataAgentConfig\"\n",
      "}\n",
      "\n",
      "\u001b[0m \u001b[32mFunction\u001b[0m \u001b[32mCall:\n",
      "call_termination\n",
      "\n",
      "Arguments:\n",
      "{\n",
      "\u001b[0m \u001b[32m\u001b[0m \u001b[32m\"result\":\u001b[0m \u001b[32m\"```python\\nfrom\u001b[0m \u001b[32mautomata.config.openai_agent\u001b[0m \u001b[32mimport\u001b[0m \u001b[32mOpenAIAutomataAgentConfig\\n\\nx\u001b[0m \u001b[32m=\u001b[0m \u001b[32mOpenAIAutomataAgentConfig()\\nx.setup()\\n```\"\n",
      "}\n",
      "\n",
      "\u001b[0m "
     ]
    }
   ],
   "source": [
    "# Run the agent\n",
    "result = agent.run()"
   ]
  },
  {
   "cell_type": "code",
   "execution_count": 7,
   "id": "8809bae0",
   "metadata": {},
   "outputs": [
    {
     "name": "stdout",
     "output_type": "stream",
     "text": [
      "Result:\n",
      "```python\n",
      "from automata.config.openai_agent import OpenAIAutomataAgentConfig\n",
      "\n",
      "x = OpenAIAutomataAgentConfig()\n",
      "x.setup()\n",
      "```\n"
     ]
    }
   ],
   "source": [
    "# Print the result\n",
    "print(f\"Result:\\n{result}\")"
   ]
  },
  {
   "cell_type": "code",
   "execution_count": 8,
   "id": "03e805b4",
   "metadata": {},
   "outputs": [
    {
     "name": "stdout",
     "output_type": "stream",
     "text": [
      "# We need to first import PyReader\n",
      "from automata.tools.builders.py_reader import PyReader\n",
      "\n",
      "# Next we create an instance of PyReader and assign it to the variable x\n",
      "x = PyReader()\n",
      "\n"
     ]
    }
   ],
   "source": [
    "result='```python\\nfrom automata.config.openai_agent import OpenAIAutomataAgentConfig\\n\\nx = OpenAIAutomataAgentConfig()\\nx.setup()```'\n",
    "result='```python\\n# We need to first import PyReader\\nfrom automata.tools.builders.py_reader import PyReader\\n\\n# Next we create an instance of PyReader and assign it to the variable x\\nx = PyReader()\\n```'\n",
    "cleaned_result = result.split('```python\\n')[1].replace('```','')\n",
    "print(cleaned_result)"
   ]
  },
  {
   "cell_type": "code",
   "execution_count": 9,
   "id": "96300734-4095-4f29-a812-5f33b4ffa286",
   "metadata": {},
   "outputs": [],
   "source": [
    "exec(cleaned_result)"
   ]
  },
  {
   "cell_type": "code",
   "execution_count": 10,
   "id": "003e4d4f-d11c-4048-810a-001028dd2bed",
   "metadata": {},
   "outputs": [
    {
     "data": {
      "text/plain": [
       "'\\n# We need to first import PyReader\\nfrom automata.tools.builders.py_reader import PyReader\\n\\n# Next we create an instance of PyReader and assign it to the variable x\\nx = PyReader()\\n'"
      ]
     },
     "execution_count": 10,
     "metadata": {},
     "output_type": "execute_result"
    }
   ],
   "source": [
    "from automata.eval import (\n",
    "    AgentEval,\n",
    "    AgentEvalSetLoader,\n",
    "    AgentEvaluationHarness,\n",
    "    CodeWritingEval,\n",
    "    OpenAIFunctionEval,\n",
    "    CodeWritingAction\n",
    ")\n",
    "CodeWritingAction._extract_snippet(result)"
   ]
  }
 ],
 "metadata": {
  "kernelspec": {
   "display_name": "Python 3 (ipykernel)",
   "language": "python",
   "name": "python3"
  },
  "language_info": {
   "codemirror_mode": {
    "name": "ipython",
    "version": 3
   },
   "file_extension": ".py",
   "mimetype": "text/x-python",
   "name": "python",
   "nbconvert_exporter": "python",
   "pygments_lexer": "ipython3",
   "version": "3.11.4"
  }
 },
 "nbformat": 4,
 "nbformat_minor": 5
}
