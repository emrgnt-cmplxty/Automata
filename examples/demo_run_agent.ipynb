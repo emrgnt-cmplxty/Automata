{
 "cells": [
  {
   "cell_type": "code",
   "execution_count": null,
   "id": "019bfa33",
   "metadata": {},
   "outputs": [],
   "source": [
    "import logging\n",
    "\n",
    "from automata.cli.commands import reconfigure_logging\n",
    "from automata.config.config_base import AgentConfigName\n",
    "from automata.config.openai_config import OpenAIAutomataAgentConfigBuilder\n",
    "from automata.agent.openai_agent import OpenAIAutomataAgent\n",
    "from automata.singletons.dependency_factory import dependency_factory\n",
    "from automata.singletons.py_module_loader import py_module_loader\n",
    "from automata.tools.agent_tool_factory import AgentToolFactory\n",
    "\n",
    "logger = logging.getLogger(__name__)\n",
    "reconfigure_logging(\"DEBUG\")\n",
    "\n",
    "py_module_loader.initialize()"
   ]
  },
  {
   "cell_type": "code",
   "execution_count": null,
   "id": "a9852e2c",
   "metadata": {
    "scrolled": true
   },
   "outputs": [],
   "source": [
    "# Construct the set of all dependencies that will be used to build the tools\n",
    "toolkit_list = [\"document-oracle\",\"py-reader\"]\n",
    "tool_dependencies = dependency_factory.build_dependencies_for_tools(toolkit_list)"
   ]
  },
  {
   "cell_type": "code",
   "execution_count": null,
   "id": "fb0430f9",
   "metadata": {},
   "outputs": [],
   "source": [
    "# Build the tools\n",
    "tools = AgentToolFactory.build_tools(toolkit_list, **tool_dependencies)"
   ]
  },
  {
   "cell_type": "code",
   "execution_count": null,
   "id": "1e5b36ce",
   "metadata": {
    "scrolled": true
   },
   "outputs": [],
   "source": [
    "# Build the agent config\n",
    "config_name = AgentConfigName(\"automata-main\")\n",
    "\n",
    "agent_config = (\n",
    "    OpenAIAutomataAgentConfigBuilder.from_name(config_name)\n",
    "    .with_tools(tools)\n",
    "    .with_model(\"gpt-3.5-turbo\")\n",
    "    .with_max_iterations(3)\n",
    "    .build()\n",
    ")"
   ]
  },
  {
   "cell_type": "code",
   "execution_count": null,
   "id": "67aa2161",
   "metadata": {
    "scrolled": true
   },
   "outputs": [],
   "source": [
    "import textwrap\n",
    "instructions = textwrap.dedent('''\n",
    "Provide a markdown python snippet, which can validly executed by `exec`. When ran, the snippet produces a valid instance of an openai agent config in the local variable `x`.\n",
    "''')\n",
    "agent = OpenAIAutomataAgent(instructions, config=agent_config)"
   ]
  },
  {
   "cell_type": "code",
   "execution_count": null,
   "id": "4cad1214",
   "metadata": {},
   "outputs": [],
   "source": [
    "# Run the agent\n",
    "result = agent.run()"
   ]
  },
  {
   "cell_type": "code",
   "execution_count": null,
   "id": "8809bae0",
   "metadata": {},
   "outputs": [],
   "source": [
    "# Print the result\n",
    "print(f\"Result:\\n{result}\")"
   ]
  },
  {
   "cell_type": "code",
   "execution_count": null,
   "id": "03e805b4",
   "metadata": {},
   "outputs": [],
   "source": [
    "result='```python\\nfrom automata.config.openai_agent import OpenAIAutomataAgentConfig\\n\\nx = OpenAIAutomataAgentConfig()\\nx.setup()```'\n",
    "result='```python\\n# We need to first import PyReader\\nfrom automata.code_parsers.py.py_reader import PyReader\\n\\n# Next we create an instance of PyReader and assign it to the variable x\\nx = PyReader()\\n```'\n",
    "cleaned_result = result.split('```python\\n')[1].replace('```','')\n",
    "print(cleaned_result)"
   ]
  },
  {
   "cell_type": "code",
   "execution_count": null,
   "id": "96300734-4095-4f29-a812-5f33b4ffa286",
   "metadata": {},
   "outputs": [],
   "source": [
    "exec(cleaned_result)"
   ]
  },
  {
   "cell_type": "code",
   "execution_count": null,
   "id": "003e4d4f-d11c-4048-810a-001028dd2bed",
   "metadata": {},
   "outputs": [],
   "source": [
    "from automata.eval import (\n",
    "    AgentEval,\n",
    "    AgentEvalSetLoader,\n",
    "    AgentEvaluationHarness,\n",
    "    CodeWritingEval,\n",
    "    OpenAIFunctionEval,\n",
    "    CodeWritingAction\n",
    ")\n",
    "CodeWritingAction._extract_snippet(result)"
   ]
  }
 ],
 "metadata": {
  "kernelspec": {
   "display_name": "Python 3 (ipykernel)",
   "language": "python",
   "name": "python3"
  },
  "language_info": {
   "codemirror_mode": {
    "name": "ipython",
    "version": 3
   },
   "file_extension": ".py",
   "mimetype": "text/x-python",
   "name": "python",
   "nbconvert_exporter": "python",
   "pygments_lexer": "ipython3",
   "version": "3.10.12"
  }
 },
 "nbformat": 4,
 "nbformat_minor": 5
}
