{
 "cells": [
  {
   "cell_type": "code",
   "execution_count": 1,
   "id": "659850e4",
   "metadata": {},
   "outputs": [],
   "source": [
    "import os\n",
    "import logging\n",
    "from typing import Any, Set\n",
    "\n",
    "\n",
    "from automata.config.base import AgentConfigName\n",
    "from automata.singletons.dependency_factory import dependency_factory, DependencyFactory\n",
    "from automata.singletons.py_module_loader import py_module_loader\n",
    "from automata.symbol.graph import SymbolGraph\n",
    "from automata.symbol_embedding.base import SymbolCodeEmbedding\n",
    "from automata.symbol_embedding.vector_databases import (\n",
    "    ChromaSymbolEmbeddingVectorDatabase,\n",
    ")\n",
    "\n",
    "    \n",
    "logger = logging.getLogger(__name__)"
   ]
  },
  {
   "cell_type": "code",
   "execution_count": 2,
   "id": "5f6acfc3",
   "metadata": {},
   "outputs": [],
   "source": [
    "py_module_loader.reset()\n",
    "dependency_factory.reset()\n",
    "project_name = \"llama_index\"\n",
    "py_rel_path = \"llama_index\"\n",
    "py_module_loader.initialize(f\"../../repo_store/{project_name}\", py_rel_path) # !!~replace w/ your path~!!\n"
   ]
  },
  {
   "cell_type": "code",
   "execution_count": 3,
   "id": "9389cb3f",
   "metadata": {
    "scrolled": true
   },
   "outputs": [],
   "source": [
    "symbol_graph = SymbolGraph(\n",
    "    os.path.join(DependencyFactory.DEFAULT_SCIP_FPATH, f\"{project_name}.scip\")\n",
    ")\n",
    "\n",
    "code_embedding_db = ChromaSymbolEmbeddingVectorDatabase(\n",
    "    project_name,\n",
    "    persist_directory=DependencyFactory.DEFAULT_CODE_EMBEDDING_FPATH,\n",
    "    factory=SymbolCodeEmbedding.from_args,\n",
    ")"
   ]
  },
  {
   "cell_type": "code",
   "execution_count": 4,
   "id": "11c1f32d",
   "metadata": {},
   "outputs": [],
   "source": [
    "dependency_factory.set_overrides(\n",
    "    **{\n",
    "        \"symbol_graph\": symbol_graph,\n",
    "        \"code_embedding_db\": code_embedding_db,\n",
    "    }\n",
    ")\n",
    "\n",
    "\n",
    "symbol_search = dependency_factory.get('symbol_search')\n",
    "symbol_code_embedding_handler = dependency_factory.get('symbol_code_embedding_handler')\n"
   ]
  },
  {
   "cell_type": "code",
   "execution_count": 5,
   "id": "988b52cc",
   "metadata": {
    "scrolled": true
   },
   "outputs": [
    {
     "name": "stderr",
     "output_type": "stream",
     "text": [
      "100%|████████████████████████████████████████████████████████████████████████████████████████████████████████████████████████████████████████████████████████████████████████| 2158/2158 [00:38<00:00, 56.58it/s]"
     ]
    },
    {
     "name": "stdout",
     "output_type": "stream",
     "text": [
      "Demonstrating SymbolRank (on llama_index) \n",
      "\n",
      "rank 0 = llama_index.schema.Document with rank 0.005\n",
      "rank 1 = llama_index.schema.BaseNode with rank 0.003\n",
      "rank 2 = llama_index.indices.query.schema.QueryBundle with rank 0.003\n",
      "rank 3 = llama_index.indices.service_context.ServiceContext with rank 0.002\n",
      "rank 4 = llama_index.llms.base.ChatMessage with rank 0.002\n",
      "rank 5 = llama_index.callbacks.base.CallbackManager with rank 0.002\n",
      "rank 6 = llama_index.indices.base.BaseIndex with rank 0.002\n",
      "rank 7 = llama_index.schema.TextNode with rank 0.002\n",
      "rank 8 = llama_index.schema.NodeWithScore with rank 0.002\n",
      "rank 9 = llama_index.schema.BaseNode.get_content with rank 0.002\n"
     ]
    },
    {
     "name": "stderr",
     "output_type": "stream",
     "text": [
      "\n"
     ]
    }
   ],
   "source": [
    "raw_ranks = symbol_search.symbol_rank.get_ranks()\n",
    "print(f\"Demonstrating SymbolRank (on {project_name}) \\n\")\n",
    "for i,rank in enumerate(raw_ranks[0:10]):\n",
    "    print(f\"rank {i} = {rank[0].dotpath} with rank {rank[1]:.3f}\")"
   ]
  },
  {
   "cell_type": "code",
   "execution_count": 6,
   "id": "4ec627fb",
   "metadata": {},
   "outputs": [
    {
     "name": "stdout",
     "output_type": "stream",
     "text": [
      "Demonstrating Similarity Search (on llama_index) for query = How do I make an index? \n",
      "\n",
      "rank 0 = llama_index.vector_stores.redis.RedisVectorStore._create_index with distance 0.794\n",
      "rank 1 = llama_index.vector_stores.tair.TairVectorStore._create_index with distance 0.789\n",
      "rank 2 = llama_index.vector_stores.milvus.MilvusVectorStore._create_index with distance 0.783\n",
      "rank 3 = llama_index.vector_stores.myscale.MyScaleVectorStore._create_index with distance 0.768\n",
      "rank 4 = llama_index.indices.base.BaseIndex.index_id with distance 0.763\n",
      "rank 5 = llama_index.storage.index_store.types.BaseIndexStore with distance 0.763\n",
      "rank 6 = llama_index.indices.tree.all_leaf_retriever.TreeAllLeafRetriever.__init__ with distance 0.761\n",
      "rank 7 = llama_index.indices.tree.tree_root_retriever.TreeRootRetriever.__init__ with distance 0.761\n",
      "rank 8 = llama_index.readers.faiss.FaissReader.__init__ with distance 0.757\n",
      "rank 9 = llama_index.vector_stores.redis.RedisVectorStore.delete_index with distance 0.756\n"
     ]
    }
   ],
   "source": [
    "query = \"How do I make an index?\"\n",
    "\n",
    "embedding_similarity_calculator = dependency_factory.get('embedding_similarity_calculator')\n",
    "code_embeddings = symbol_code_embedding_handler.get_ordered_entries()\n",
    "\n",
    "print(f\"Demonstrating Similarity Search (on {project_name}) for query = {query} \\n\")\n",
    "code_similarity_results = embedding_similarity_calculator.calculate_query_similarity_dict(code_embeddings, query)\n",
    "for i,rank in enumerate(list(code_similarity_results.items())[0:10]):\n",
    "    print(f\"rank {i} = {rank[0].dotpath} with distance {rank[1]:.3f}\")"
   ]
  },
  {
   "cell_type": "code",
   "execution_count": 7,
   "id": "2ce0bb66",
   "metadata": {
    "scrolled": true
   },
   "outputs": [
    {
     "name": "stdout",
     "output_type": "stream",
     "text": [
      "Demonstrating SymbolRank (on llama_index) for query = How do I make an index? \n",
      "\n",
      "rank 0 = llama_index.schema.Document with rank 0.005\n",
      "rank 1 = llama_index.indices.base.BaseIndex with rank 0.004\n",
      "rank 2 = llama_index.schema.BaseNode with rank 0.003\n",
      "rank 3 = llama_index.data_structs.struct_type.IndexStructType with rank 0.003\n",
      "rank 4 = llama_index.indices.base.BaseIndex.index_struct with rank 0.003\n",
      "rank 5 = llama_index.indices.composability.graph.ComposableGraph with rank 0.003\n",
      "rank 6 = llama_index.vector_stores.redis.RedisVectorStore._create_index with rank 0.003\n",
      "rank 7 = llama_index.vector_stores.redis.RedisVectorStore with rank 0.003\n",
      "rank 8 = llama_index.vector_stores.tair.TairVectorStore with rank 0.003\n",
      "rank 9 = llama_index.indices.vector_store.base.VectorStoreIndex with rank 0.003\n"
     ]
    }
   ],
   "source": [
    "symbol_rank_search_results = symbol_search.symbol_rank_search(query)\n",
    "print(f\"Demonstrating SymbolRank (on {project_name}) for query = {query} \\n\")\n",
    "for i,rank in enumerate(symbol_rank_search_results[0:10]):\n",
    "    print(f\"rank {i} = {rank[0].dotpath} with rank {rank[1]:.3f}\")"
   ]
  },
  {
   "cell_type": "code",
   "execution_count": 8,
   "id": "fb9da8fd",
   "metadata": {},
   "outputs": [],
   "source": [
    "# defaults to 'automata' project\n",
    "project_name = 'automata'\n",
    "py_module_loader.reset()\n",
    "dependency_factory.reset()\n",
    "\n",
    "py_module_loader.initialize()\n",
    "symbol_search = dependency_factory.get('symbol_search')\n",
    "symbol_code_embedding_handler = dependency_factory.get('symbol_code_embedding_handler')\n"
   ]
  },
  {
   "cell_type": "code",
   "execution_count": 9,
   "id": "034639e5",
   "metadata": {},
   "outputs": [
    {
     "name": "stderr",
     "output_type": "stream",
     "text": [
      "100%|█████████████████████████████████████████████████████████████████████████████████████████████████████████████████████████████████████████████████████████████████████████| 661/661 [00:02<00:00, 264.92it/s]"
     ]
    },
    {
     "name": "stdout",
     "output_type": "stream",
     "text": [
      "Demonstrating SymbolRank (on automata) \n",
      "\n",
      "rank 0 = automata.symbol.base.Symbol with rank 0.006\n",
      "rank 1 = automata.core.base.database.vector.ChromaVectorDatabase with rank 0.005\n",
      "rank 2 = automata.agent.providers.OpenAIAutomataAgent with rank 0.005\n",
      "rank 3 = automata.core.base.database.vector.VectorDatabaseProvider with rank 0.005\n",
      "rank 4 = automata.symbol.graph.SymbolGraph with rank 0.004\n",
      "rank 5 = automata.core.base.database.vector.JSONVectorDatabase with rank 0.004\n",
      "rank 6 = automata.retrievers.py.context.PyContextRetriever with rank 0.004\n",
      "rank 7 = automata.singletons.dependency_factory.DependencyFactory with rank 0.004\n",
      "rank 8 = automata.symbol_embedding.vector_databases.ChromaSymbolEmbeddingVectorDatabase with rank 0.004\n",
      "rank 9 = automata.singletons.github_client.RepositoryClient with rank 0.004\n"
     ]
    },
    {
     "name": "stderr",
     "output_type": "stream",
     "text": [
      "\n"
     ]
    }
   ],
   "source": [
    "raw_ranks = symbol_search.symbol_rank.get_ranks()\n",
    "print(f\"Demonstrating SymbolRank (on {project_name}) \\n\")\n",
    "for i,rank in enumerate(raw_ranks[0:10]):\n",
    "    print(f\"rank {i} = {rank[0].dotpath} with rank {rank[1]:.3f}\")"
   ]
  },
  {
   "cell_type": "code",
   "execution_count": 10,
   "id": "c0b8994f",
   "metadata": {},
   "outputs": [
    {
     "name": "stdout",
     "output_type": "stream",
     "text": [
      "Demonstrating Similarity Search (on automata) for query = How do I make an agent? \n",
      "\n",
      "rank 0 = automata.agent.agent.Agent with distance 0.777\n",
      "rank 1 = automata.agent.agent.AgentInstance with distance 0.774\n",
      "rank 2 = automata.config.base.AgentConfigBuilder.build with distance 0.766\n",
      "rank 3 = automata.agent.providers.OpenAIAutomataAgent with distance 0.765\n",
      "rank 4 = automata.config.openai_agent.OpenAIAutomataAgentConfig.get_llm_provider with distance 0.762\n",
      "rank 5 = automata.cli.commands.run_agent with distance 0.760\n",
      "rank 6 = automata.agent.agent.AgentInstance.create with distance 0.755\n",
      "rank 7 = automata.config.base.AgentConfig.get_llm_provider with distance 0.752\n",
      "rank 8 = automata.tasks.executor.IAutomataTaskExecution._build_agent with distance 0.751\n",
      "rank 9 = automata.cli.options.agent_options with distance 0.750\n"
     ]
    }
   ],
   "source": [
    "embedding_similarity_calculator = dependency_factory.get('embedding_similarity_calculator')\n",
    "code_embeddings = symbol_code_embedding_handler.get_ordered_entries()\n",
    "\n",
    "query = \"How do I make an agent?\"\n",
    "print(f\"Demonstrating Similarity Search (on {project_name}) for query = {query} \\n\")\n",
    "code_similarity_results = embedding_similarity_calculator.calculate_query_similarity_dict(code_embeddings, query)\n",
    "for i,rank in enumerate(list(code_similarity_results.items())[0:10]):\n",
    "    print(f\"rank {i} = {rank[0].dotpath} with distance {rank[1]:.3f}\")"
   ]
  },
  {
   "cell_type": "code",
   "execution_count": 11,
   "id": "09634b75",
   "metadata": {},
   "outputs": [
    {
     "name": "stdout",
     "output_type": "stream",
     "text": [
      "Demonstrating SymbolRank (on automata) for query = How do I make an agent? \n",
      "\n",
      "rank 0 = automata.agent.providers.OpenAIAutomataAgent with rank 0.011\n",
      "rank 1 = automata.agent.agent.Agent with rank 0.008\n",
      "rank 2 = automata.config.openai_agent.OpenAIAutomataAgentConfigBuilder with rank 0.008\n",
      "rank 3 = automata.agent.agent.AgentInstance with rank 0.008\n",
      "rank 4 = automata.config.openai_agent.OpenAIAutomataAgentConfig with rank 0.007\n",
      "rank 5 = automata.config.base.AgentConfig with rank 0.007\n",
      "rank 6 = automata.cli.scripts.run_agent.main with rank 0.006\n",
      "rank 7 = automata.config.base.AgentConfigBuilder with rank 0.006\n",
      "rank 8 = automata.tools.factory.AgentToolFactory with rank 0.006\n",
      "rank 9 = automata.config.openai_agent.OpenAIAutomataAgentConfigBuilder.create_from_args with rank 0.006\n"
     ]
    }
   ],
   "source": [
    "symbol_rank_search_results = symbol_search.symbol_rank_search(query)\n",
    "print(f\"Demonstrating SymbolRank (on {project_name}) for query = {query} \\n\")\n",
    "for i,rank in enumerate(symbol_rank_search_results[0:10]):\n",
    "    print(f\"rank {i} = {rank[0].dotpath} with rank {rank[1]:.3f}\")"
   ]
  }
 ],
 "metadata": {
  "kernelspec": {
   "display_name": "Python 3 (ipykernel)",
   "language": "python",
   "name": "python3"
  },
  "language_info": {
   "codemirror_mode": {
    "name": "ipython",
    "version": 3
   },
   "file_extension": ".py",
   "mimetype": "text/x-python",
   "name": "python",
   "nbconvert_exporter": "python",
   "pygments_lexer": "ipython3",
   "version": "3.9.13"
  }
 },
 "nbformat": 4,
 "nbformat_minor": 5
}
