{
 "cells": [
  {
   "cell_type": "code",
   "execution_count": 1,
   "id": "659850e4",
   "metadata": {},
   "outputs": [],
   "source": [
    "import os\n",
    "import logging\n",
    "from typing import Any, Set\n",
    "\n",
    "\n",
    "from automata.config.base import AgentConfigName\n",
    "from automata.singletons.dependency_factory import dependency_factory, DependencyFactory\n",
    "from automata.singletons.py_module_loader import py_module_loader\n",
    "from automata.symbol.graph import SymbolGraph\n",
    "from automata.symbol_embedding.base import SymbolCodeEmbedding\n",
    "from automata.symbol_embedding.vector_databases import (\n",
    "    ChromaSymbolEmbeddingVectorDatabase,\n",
    ")\n",
    "\n",
    "    \n",
    "logger = logging.getLogger(__name__)"
   ]
  },
  {
   "cell_type": "code",
   "execution_count": 2,
   "id": "5f6acfc3",
   "metadata": {},
   "outputs": [],
   "source": [
    "py_module_loader.reset()\n",
    "dependency_factory.reset()\n",
    "project_name = \"automata\"\n",
    "py_module_loader.initialize(f\"..\", project_name) # ! Can replace with your own project\n"
   ]
  },
  {
   "cell_type": "code",
   "execution_count": 3,
   "id": "9389cb3f",
   "metadata": {
    "scrolled": true
   },
   "outputs": [],
   "source": [
    "symbol_graph = SymbolGraph(\n",
    "    os.path.join(DependencyFactory.DEFAULT_SCIP_FPATH, f\"{project_name}.scip\")\n",
    ")\n",
    "\n",
    "code_embedding_db = ChromaSymbolEmbeddingVectorDatabase(\n",
    "    project_name,\n",
    "    persist_directory=DependencyFactory.DEFAULT_CODE_EMBEDDING_FPATH,\n",
    "    factory=SymbolCodeEmbedding.from_args,\n",
    ")"
   ]
  },
  {
   "cell_type": "code",
   "execution_count": 4,
   "id": "7bbc5eb8",
   "metadata": {},
   "outputs": [
    {
     "data": {
      "text/plain": [
       "(2534, 727)"
      ]
     },
     "execution_count": 4,
     "metadata": {},
     "output_type": "execute_result"
    }
   ],
   "source": [
    "symbol_graph.is_synchronized = True\n",
    "len(symbol_graph.get_sorted_supported_symbols()),len(code_embedding_db)"
   ]
  },
  {
   "cell_type": "code",
   "execution_count": 5,
   "id": "326eb7c2",
   "metadata": {},
   "outputs": [
    {
     "data": {
      "text/plain": [
       "Symbol(scip-python python automata 189bb1fb0a9a91262c1280413fa8542b94ebdca6 `automata.tools.factory`/logger., scip-python, Package(python automata 189bb1fb0a9a91262c1280413fa8542b94ebdca6), (Descriptor(automata.tools.factory, 1), Descriptor(logger, 3)))"
      ]
     },
     "execution_count": 5,
     "metadata": {},
     "output_type": "execute_result"
    }
   ],
   "source": [
    "symbol_graph.get_sorted_supported_symbols()[-1]"
   ]
  },
  {
   "cell_type": "code",
   "execution_count": 6,
   "id": "a7d54b0c",
   "metadata": {},
   "outputs": [
    {
     "data": {
      "text/plain": [
       "Symbol(scip-python python automata 189bb1fb0a9a91262c1280413fa8542b94ebdca6 `automata.tools.factory`/AgentToolFactory#create_tools_from_builder()., scip-python, Package(python automata 189bb1fb0a9a91262c1280413fa8542b94ebdca6), (Descriptor(automata.tools.factory, 1), Descriptor(AgentToolFactory, 2), Descriptor(create_tools_from_builder, 4)))"
      ]
     },
     "execution_count": 6,
     "metadata": {},
     "output_type": "execute_result"
    }
   ],
   "source": [
    "code_embedding_db.get_ordered_embeddings()[-1].symbol"
   ]
  },
  {
   "cell_type": "code",
   "execution_count": 7,
   "id": "11c1f32d",
   "metadata": {},
   "outputs": [],
   "source": [
    "dependency_factory.set_overrides(\n",
    "    **{\n",
    "        \"symbol_graph\": symbol_graph,\n",
    "        \"code_embedding_db\": code_embedding_db,\n",
    "    }\n",
    ")\n",
    "\n",
    "\n",
    "symbol_search = dependency_factory.get('symbol_search')\n",
    "symbol_code_embedding_handler = dependency_factory.get('symbol_code_embedding_handler')\n"
   ]
  },
  {
   "cell_type": "code",
   "execution_count": 8,
   "id": "988b52cc",
   "metadata": {
    "scrolled": true
   },
   "outputs": [
    {
     "name": "stderr",
     "output_type": "stream",
     "text": [
      "100%|██████████████████████████████████████████████████████████████████████████████████████████████████████████████████████████████████████████████████████████████████████████████| 692/692 [00:01<00:00, 396.22it/s]"
     ]
    },
    {
     "name": "stdout",
     "output_type": "stream",
     "text": [
      "Demonstrating SymbolRank (on automata) \n",
      "\n",
      "rank 0 = automata.singletons.github_client.GitHubClient with rank 0.007\n",
      "rank 1 = automata.core.base.database.vector.VectorDatabaseProvider with rank 0.006\n",
      "rank 2 = automata.core.base.database.vector.ChromaVectorDatabase with rank 0.005\n",
      "rank 3 = automata.symbol.base.Symbol with rank 0.004\n",
      "rank 4 = automata.singletons.dependency_factory.DependencyFactory with rank 0.004\n",
      "rank 5 = automata.core.base.database.vector.JSONVectorDatabase with rank 0.004\n",
      "rank 6 = automata.llm.foundation.LLMConversation with rank 0.004\n",
      "rank 7 = automata.symbol.graph.symbol_graph.SymbolGraph with rank 0.004\n",
      "rank 8 = automata.config.base.AgentConfigBuilder with rank 0.004\n",
      "rank 9 = automata.symbol_embedding.vector_databases.ChromaSymbolEmbeddingVectorDatabase with rank 0.004\n"
     ]
    },
    {
     "name": "stderr",
     "output_type": "stream",
     "text": [
      "\n"
     ]
    }
   ],
   "source": [
    "raw_ranks = symbol_search.symbol_rank.get_ordered_ranks()\n",
    "print(f\"Demonstrating SymbolRank (on {project_name}) \\n\")\n",
    "for i,rank in enumerate(raw_ranks[0:10]):\n",
    "    print(f\"rank {i} = {rank[0].full_dotpath} with rank {rank[1]:.3f}\")"
   ]
  },
  {
   "cell_type": "code",
   "execution_count": 9,
   "id": "4ec627fb",
   "metadata": {},
   "outputs": [
    {
     "name": "stdout",
     "output_type": "stream",
     "text": [
      "Demonstrating Similarity Search (on automata) for query = How do I create an agent? \n",
      "\n",
      "rank 0 = automata.agent.agent.Agent with distance 0.776\n",
      "rank 1 = automata.agent.agent.AgentInstance with distance 0.773\n",
      "rank 2 = automata.agent.agent.AgentInstance.create with distance 0.773\n",
      "rank 3 = automata.agent.providers.OpenAIAutomataAgent with distance 0.767\n",
      "rank 4 = automata.config.base.AgentConfigBuilder.build with distance 0.764\n",
      "rank 5 = automata.config.openai_agent.OpenAIAutomataAgentConfig.get_llm_provider with distance 0.761\n",
      "rank 6 = automata.cli.commands.run_agent with distance 0.760\n",
      "rank 7 = automata.tools.factory.AgentToolFactory with distance 0.760\n",
      "rank 8 = automata.tasks.executor.IAutomataTaskExecution._build_agent with distance 0.759\n",
      "rank 9 = automata.tools.factory.AgentToolFactory.create_tools_from_builder with distance 0.755\n"
     ]
    }
   ],
   "source": [
    "query = \"How do I create an agent?\"\n",
    "\n",
    "embedding_similarity_calculator = dependency_factory.get('embedding_similarity_calculator')\n",
    "code_embeddings = symbol_code_embedding_handler.get_ordered_embeddings()\n",
    "\n",
    "print(f\"Demonstrating Similarity Search (on {project_name}) for query = {query} \\n\")\n",
    "code_similarity_results = embedding_similarity_calculator.calculate_query_similarity_dict(code_embeddings, query)\n",
    "for i,rank in enumerate(list(code_similarity_results.items())[0:10]):\n",
    "    print(f\"rank {i} = {rank[0].full_dotpath} with distance {rank[1]:.3f}\")"
   ]
  },
  {
   "cell_type": "code",
   "execution_count": 10,
   "id": "2ce0bb66",
   "metadata": {
    "scrolled": true
   },
   "outputs": [
    {
     "name": "stdout",
     "output_type": "stream",
     "text": [
      "Demonstrating SymbolRank (on automata) for query = How do I create an agent? \n",
      "\n",
      "rank 0 = automata.config.base.AgentConfigBuilder with rank 0.010\n",
      "rank 1 = automata.agent.providers.OpenAIAutomataAgent with rank 0.009\n",
      "rank 2 = automata.agent.agent.Agent with rank 0.008\n",
      "rank 3 = automata.agent.agent.AgentInstance with rank 0.008\n",
      "rank 4 = automata.singletons.github_client.GitHubClient with rank 0.007\n",
      "rank 5 = automata.config.openai_agent.OpenAIAutomataAgentConfigBuilder with rank 0.007\n",
      "rank 6 = automata.singletons.dependency_factory.DependencyFactory with rank 0.007\n",
      "rank 7 = automata.config.openai_agent.OpenAIAutomataAgentConfig with rank 0.007\n",
      "rank 8 = automata.config.base.AgentConfig with rank 0.007\n",
      "rank 9 = automata.tools.factory.AgentToolFactory with rank 0.006\n"
     ]
    }
   ],
   "source": [
    "symbol_rank_search_results = symbol_search.get_symbol_rank_results(query)\n",
    "print(f\"Demonstrating SymbolRank (on {project_name}) for query = {query} \\n\")\n",
    "for i,rank in enumerate(symbol_rank_search_results[0:10]):\n",
    "    print(f\"rank {i} = {rank[0].full_dotpath} with rank {rank[1]:.3f}\")"
   ]
  }
 ],
 "metadata": {
  "kernelspec": {
   "display_name": "Python 3 (ipykernel)",
   "language": "python",
   "name": "python3"
  },
  "language_info": {
   "codemirror_mode": {
    "name": "ipython",
    "version": 3
   },
   "file_extension": ".py",
   "mimetype": "text/x-python",
   "name": "python",
   "nbconvert_exporter": "python",
   "pygments_lexer": "ipython3",
   "version": "3.11.4"
  }
 },
 "nbformat": 4,
 "nbformat_minor": 5
}
