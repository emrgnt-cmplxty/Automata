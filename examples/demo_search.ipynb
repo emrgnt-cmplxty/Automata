{
 "cells": [
  {
   "cell_type": "code",
   "execution_count": 1,
   "id": "659850e4",
   "metadata": {},
   "outputs": [],
   "source": [
    "import logging\n",
    "from typing import Any, Set\n",
    "\n",
    "from automata.config.base import AgentConfigName\n",
    "from automata.singletons.dependency_factory import dependency_factory\n",
    "from automata.singletons.py_module_loader import py_module_loader\n",
    "from automata.context_providers.symbol_synchronization import (\n",
    "    SymbolProviderSynchronizationContext,\n",
    ")\n",
    "    \n",
    "logger = logging.getLogger(__name__)\n",
    "\n",
    "py_module_loader.initialize()"
   ]
  },
  {
   "cell_type": "code",
   "execution_count": 2,
   "id": "9389cb3f",
   "metadata": {
    "scrolled": true
   },
   "outputs": [
    {
     "ename": "RuntimeError",
     "evalue": "Must synchronize symbol providers in synchronization context",
     "output_type": "error",
     "traceback": [
      "\u001b[0;31m---------------------------------------------------------------------------\u001b[0m",
      "\u001b[0;31mRuntimeError\u001b[0m                              Traceback (most recent call last)",
      "File \u001b[0;32m~/AutomataNoCruft/automata/singletons/dependency_factory.py:149\u001b[0m, in \u001b[0;36mDependencyFactory._synchronize_provider\u001b[0;34m(self, provider)\u001b[0m\n\u001b[1;32m    148\u001b[0m synchronization_context\u001b[38;5;241m.\u001b[39mregister_provider(provider)\n\u001b[0;32m--> 149\u001b[0m \u001b[43msynchronization_context\u001b[49m\u001b[38;5;241;43m.\u001b[39;49m\u001b[43msynchronize\u001b[49m\u001b[43m(\u001b[49m\u001b[43m)\u001b[49m\n",
      "File \u001b[0;32m~/AutomataNoCruft/automata/context_providers/symbol_synchronization.py:69\u001b[0m, in \u001b[0;36mSymbolProviderSynchronizationContext.synchronize\u001b[0;34m(self)\u001b[0m\n\u001b[1;32m     68\u001b[0m \u001b[38;5;28;01mdef\u001b[39;00m \u001b[38;5;21msynchronize\u001b[39m(\u001b[38;5;28mself\u001b[39m):\n\u001b[0;32m---> 69\u001b[0m     \u001b[43mSymbolProviderRegistry\u001b[49m\u001b[38;5;241;43m.\u001b[39;49m\u001b[43msynchronize\u001b[49m\u001b[43m(\u001b[49m\u001b[43m)\u001b[49m\n\u001b[1;32m     70\u001b[0m     \u001b[38;5;28mself\u001b[39m\u001b[38;5;241m.\u001b[39m_was_synchronized \u001b[38;5;241m=\u001b[39m \u001b[38;5;28;01mTrue\u001b[39;00m\n",
      "File \u001b[0;32m~/AutomataNoCruft/automata/context_providers/symbol_synchronization.py:40\u001b[0m, in \u001b[0;36mSymbolProviderRegistry.synchronize\u001b[0;34m()\u001b[0m\n\u001b[1;32m     39\u001b[0m \u001b[38;5;28;01mif\u001b[39;00m \u001b[38;5;129;01mnot\u001b[39;00m SymbolProviderRegistry\u001b[38;5;241m.\u001b[39msorted_supported_symbols:\n\u001b[0;32m---> 40\u001b[0m     \u001b[38;5;28;01mraise\u001b[39;00m \u001b[38;5;167;01mRuntimeError\u001b[39;00m(\u001b[38;5;124m\"\u001b[39m\u001b[38;5;124mNo symbols are supported by any symbol provider\u001b[39m\u001b[38;5;124m\"\u001b[39m)\n",
      "\u001b[0;31mRuntimeError\u001b[0m: No symbols are supported by any symbol provider",
      "\nDuring handling of the above exception, another exception occurred:\n",
      "\u001b[0;31mRuntimeError\u001b[0m                              Traceback (most recent call last)",
      "Cell \u001b[0;32mIn[2], line 1\u001b[0m\n\u001b[0;32m----> 1\u001b[0m symbol_search \u001b[38;5;241m=\u001b[39m \u001b[43mdependency_factory\u001b[49m\u001b[38;5;241;43m.\u001b[39;49m\u001b[43mget\u001b[49m\u001b[43m(\u001b[49m\u001b[38;5;124;43m'\u001b[39;49m\u001b[38;5;124;43msymbol_search\u001b[39;49m\u001b[38;5;124;43m'\u001b[39;49m\u001b[43m)\u001b[49m\n\u001b[1;32m      2\u001b[0m symbol_code_embedding_handler \u001b[38;5;241m=\u001b[39m dependency_factory\u001b[38;5;241m.\u001b[39mget(\u001b[38;5;124m'\u001b[39m\u001b[38;5;124msymbol_code_embedding_handler\u001b[39m\u001b[38;5;124m'\u001b[39m)\n",
      "File \u001b[0;32m~/AutomataNoCruft/automata/singletons/dependency_factory.py:109\u001b[0m, in \u001b[0;36mDependencyFactory.get\u001b[0;34m(self, dependency)\u001b[0m\n\u001b[1;32m    107\u001b[0m     creation_method \u001b[38;5;241m=\u001b[39m \u001b[38;5;28mgetattr\u001b[39m(\u001b[38;5;28mself\u001b[39m, method_name)\n\u001b[1;32m    108\u001b[0m     logger\u001b[38;5;241m.\u001b[39minfo(\u001b[38;5;124mf\u001b[39m\u001b[38;5;124m\"\u001b[39m\u001b[38;5;124mCreating dependency \u001b[39m\u001b[38;5;132;01m{\u001b[39;00mdependency\u001b[38;5;132;01m}\u001b[39;00m\u001b[38;5;124m\"\u001b[39m)\n\u001b[0;32m--> 109\u001b[0m     instance \u001b[38;5;241m=\u001b[39m \u001b[43mcreation_method\u001b[49m\u001b[43m(\u001b[49m\u001b[43m)\u001b[49m\n\u001b[1;32m    110\u001b[0m \u001b[38;5;28;01melse\u001b[39;00m:\n\u001b[1;32m    111\u001b[0m     \u001b[38;5;28;01mraise\u001b[39;00m AgentGeneralError(\u001b[38;5;124mf\u001b[39m\u001b[38;5;124m\"\u001b[39m\u001b[38;5;124mDependency \u001b[39m\u001b[38;5;132;01m{\u001b[39;00mdependency\u001b[38;5;132;01m}\u001b[39;00m\u001b[38;5;124m not found.\u001b[39m\u001b[38;5;124m\"\u001b[39m)\n",
      "File \u001b[0;32m~/AutomataNoCruft/automata/singletons/dependency_factory.py:241\u001b[0m, in \u001b[0;36mDependencyFactory.create_symbol_search\u001b[0;34m(self)\u001b[0m\n\u001b[1;32m    237\u001b[0m symbol_graph: SymbolGraph \u001b[38;5;241m=\u001b[39m \u001b[38;5;28mself\u001b[39m\u001b[38;5;241m.\u001b[39mget(\u001b[38;5;124m\"\u001b[39m\u001b[38;5;124msymbol_graph\u001b[39m\u001b[38;5;124m\"\u001b[39m)\n\u001b[1;32m    238\u001b[0m symbol_rank_config: SymbolRankConfig \u001b[38;5;241m=\u001b[39m \u001b[38;5;28mself\u001b[39m\u001b[38;5;241m.\u001b[39moverrides\u001b[38;5;241m.\u001b[39mget(\n\u001b[1;32m    239\u001b[0m     \u001b[38;5;124m\"\u001b[39m\u001b[38;5;124msymbol_rank_config\u001b[39m\u001b[38;5;124m\"\u001b[39m, SymbolRankConfig()\n\u001b[1;32m    240\u001b[0m )\n\u001b[0;32m--> 241\u001b[0m symbol_code_embedding_handler: SymbolCodeEmbeddingBuilder \u001b[38;5;241m=\u001b[39m \u001b[38;5;28;43mself\u001b[39;49m\u001b[38;5;241;43m.\u001b[39;49m\u001b[43mget\u001b[49m\u001b[43m(\u001b[49m\n\u001b[1;32m    242\u001b[0m \u001b[43m    \u001b[49m\u001b[38;5;124;43m\"\u001b[39;49m\u001b[38;5;124;43msymbol_code_embedding_handler\u001b[39;49m\u001b[38;5;124;43m\"\u001b[39;49m\n\u001b[1;32m    243\u001b[0m \u001b[43m\u001b[49m\u001b[43m)\u001b[49m\n\u001b[1;32m    244\u001b[0m embedding_similarity_calculator: EmbeddingSimilarityCalculator \u001b[38;5;241m=\u001b[39m \u001b[38;5;28mself\u001b[39m\u001b[38;5;241m.\u001b[39mget(\n\u001b[1;32m    245\u001b[0m     \u001b[38;5;124m\"\u001b[39m\u001b[38;5;124membedding_similarity_calculator\u001b[39m\u001b[38;5;124m\"\u001b[39m\n\u001b[1;32m    246\u001b[0m )\n\u001b[1;32m    247\u001b[0m \u001b[38;5;28;01mreturn\u001b[39;00m SymbolSearch(\n\u001b[1;32m    248\u001b[0m     symbol_graph,\n\u001b[1;32m    249\u001b[0m     symbol_rank_config,\n\u001b[0;32m   (...)\u001b[0m\n\u001b[1;32m    252\u001b[0m     embedding_similarity_calculator,\n\u001b[1;32m    253\u001b[0m )\n",
      "File \u001b[0;32m~/AutomataNoCruft/automata/singletons/dependency_factory.py:117\u001b[0m, in \u001b[0;36mDependencyFactory.get\u001b[0;34m(self, dependency)\u001b[0m\n\u001b[1;32m    115\u001b[0m \u001b[38;5;66;03m# Perform synchronization\u001b[39;00m\n\u001b[1;32m    116\u001b[0m \u001b[38;5;28;01mif\u001b[39;00m \u001b[38;5;28misinstance\u001b[39m(instance, ISymbolProvider):\n\u001b[0;32m--> 117\u001b[0m     \u001b[38;5;28;43mself\u001b[39;49m\u001b[38;5;241;43m.\u001b[39;49m\u001b[43m_synchronize_provider\u001b[49m\u001b[43m(\u001b[49m\u001b[43minstance\u001b[49m\u001b[43m)\u001b[49m\n\u001b[1;32m    119\u001b[0m \u001b[38;5;28;01mreturn\u001b[39;00m instance\n",
      "File \u001b[0;32m~/AutomataNoCruft/automata/singletons/dependency_factory.py:149\u001b[0m, in \u001b[0;36mDependencyFactory._synchronize_provider\u001b[0;34m(self, provider)\u001b[0m\n\u001b[1;32m    147\u001b[0m \u001b[38;5;28;01mwith\u001b[39;00m SymbolProviderSynchronizationContext() \u001b[38;5;28;01mas\u001b[39;00m synchronization_context:\n\u001b[1;32m    148\u001b[0m     synchronization_context\u001b[38;5;241m.\u001b[39mregister_provider(provider)\n\u001b[0;32m--> 149\u001b[0m     synchronization_context\u001b[38;5;241m.\u001b[39msynchronize()\n",
      "File \u001b[0;32m~/AutomataNoCruft/automata/context_providers/symbol_synchronization.py:62\u001b[0m, in \u001b[0;36mSymbolProviderSynchronizationContext.__exit__\u001b[0;34m(self, type, value, traceback)\u001b[0m\n\u001b[1;32m     60\u001b[0m \u001b[38;5;28;01mdef\u001b[39;00m \u001b[38;5;21m__exit__\u001b[39m(\u001b[38;5;28mself\u001b[39m, \u001b[38;5;28mtype\u001b[39m, value, traceback):\n\u001b[1;32m     61\u001b[0m     \u001b[38;5;28;01mif\u001b[39;00m \u001b[38;5;129;01mnot\u001b[39;00m \u001b[38;5;28mself\u001b[39m\u001b[38;5;241m.\u001b[39m_was_synchronized:\n\u001b[0;32m---> 62\u001b[0m         \u001b[38;5;28;01mraise\u001b[39;00m \u001b[38;5;167;01mRuntimeError\u001b[39;00m(\u001b[38;5;124m\"\u001b[39m\u001b[38;5;124mMust synchronize symbol providers in synchronization context\u001b[39m\u001b[38;5;124m\"\u001b[39m)\n",
      "\u001b[0;31mRuntimeError\u001b[0m: Must synchronize symbol providers in synchronization context"
     ]
    }
   ],
   "source": [
    "symbol_search = dependency_factory.get('symbol_search')\n",
    "symbol_code_embedding_handler = dependency_factory.get('symbol_code_embedding_handler')\n"
   ]
  },
  {
   "cell_type": "code",
   "execution_count": null,
   "id": "8cf5f36b",
   "metadata": {},
   "outputs": [],
   "source": []
  },
  {
   "cell_type": "code",
   "execution_count": null,
   "id": "988b52cc",
   "metadata": {
    "scrolled": true
   },
   "outputs": [],
   "source": [
    "raw_ranks = symbol_search.symbol_rank.get_ranks()\n",
    "print(\"Demonstrating SymbolRank\\n\")\n",
    "for i,rank in enumerate(raw_ranks[0:10]):\n",
    "    print(f\"rank {i} = {rank[0].dotpath} with rank {rank[1]:.3f}\")"
   ]
  },
  {
   "cell_type": "code",
   "execution_count": null,
   "id": "2ce0bb66",
   "metadata": {
    "scrolled": true
   },
   "outputs": [],
   "source": [
    "query = \"SymbolGraph\"\n",
    "symbol_rank_search_results = symbol_search.symbol_rank_search(query)\n",
    "print(\"Demonstrating SymbolRank results for query = `SymbolGraph`\\n\")\n",
    "raw_ranks = symbol_search.symbol_rank.get_ranks()\n",
    "for i,rank in enumerate(symbol_rank_search_results[0:10]):\n",
    "    print(f\"rank {i} = {rank[0].dotpath} with rank {rank[1]:.3f}\")"
   ]
  },
  {
   "cell_type": "code",
   "execution_count": null,
   "id": "4ec627fb",
   "metadata": {},
   "outputs": [],
   "source": [
    "embedding_similarity_calculator = dependency_factory.get('embedding_similarity_calculator')\n",
    "code_embeddings = symbol_code_embedding_handler.get_ordered_entries()\n",
    "\n",
    "print(\"Demonstrating code embedding search results for query = `SymbolGraph`\\n\")\n",
    "code_similarity_results = embedding_similarity_calculator.calculate_query_similarity_dict(code_embeddings, query)\n",
    "for i,rank in enumerate(list(code_similarity_results.items())[0:10]):\n",
    "    print(f\"rank {i} = {rank[0].dotpath} with distance {rank[1]:.3f}\")"
   ]
  },
  {
   "cell_type": "code",
   "execution_count": null,
   "id": "eb9c2a74",
   "metadata": {},
   "outputs": [],
   "source": [
    "doc_embeddings = symbol_doc_embedding_handler.get_ordered_entries()\n",
    "\n",
    "print(\"Demonstrating doc embedding search results for query = `SymbolGraph`\\n\")\n",
    "doc_similarity_results = embedding_similarity_calculator.calculate_query_similarity_dict(doc_embeddings, query)\n",
    "for i,rank in enumerate(list(doc_similarity_results.items())[0:10]):\n",
    "    print(f\"rank {i} = {rank[0].dotpath} with distance {rank[1]:.3f}\")"
   ]
  },
  {
   "cell_type": "code",
   "execution_count": null,
   "id": "699111b3",
   "metadata": {},
   "outputs": [],
   "source": []
  },
  {
   "cell_type": "code",
   "execution_count": null,
   "id": "5f9a74e5",
   "metadata": {},
   "outputs": [],
   "source": []
  }
 ],
 "metadata": {
  "kernelspec": {
   "display_name": "Python 3 (ipykernel)",
   "language": "python",
   "name": "python3"
  },
  "language_info": {
   "codemirror_mode": {
    "name": "ipython",
    "version": 3
   },
   "file_extension": ".py",
   "mimetype": "text/x-python",
   "name": "python",
   "nbconvert_exporter": "python",
   "pygments_lexer": "ipython3",
   "version": "3.9.13"
  }
 },
 "nbformat": 4,
 "nbformat_minor": 5
}
