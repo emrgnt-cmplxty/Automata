{
 "cells": [
  {
   "cell_type": "code",
   "execution_count": null,
   "id": "659850e4",
   "metadata": {},
   "outputs": [],
   "source": [
    "import os\n",
    "import logging\n",
    "from typing import Any, Set\n",
    "\n",
    "\n",
    "from automata.config.config_base import AgentConfigName\n",
    "from automata.singletons.dependency_factory import dependency_factory, DependencyFactory\n",
    "from automata.singletons.py_module_loader import py_module_loader\n",
    "from automata.symbol.graph import SymbolGraph\n",
    "from automata.symbol_embedding import SymbolCodeEmbedding\n",
    "from automata.symbol_embedding.vector_databases import (\n",
    "    ChromaSymbolEmbeddingVectorDatabase,\n",
    ")\n",
    "\n",
    "    \n",
    "logger = logging.getLogger(__name__)"
   ]
  },
  {
   "cell_type": "code",
   "execution_count": null,
   "id": "5f6acfc3",
   "metadata": {},
   "outputs": [],
   "source": [
    "py_module_loader.reset()\n",
    "dependency_factory.reset()\n",
    "project_name = \"automata\"\n",
    "py_module_loader.initialize(f\"..\", project_name) # ! Can replace with your own project\n"
   ]
  },
  {
   "cell_type": "code",
   "execution_count": null,
   "id": "9389cb3f",
   "metadata": {
    "scrolled": true
   },
   "outputs": [],
   "source": [
    "symbol_graph = SymbolGraph(\n",
    "    os.path.join(DependencyFactory.DEFAULT_SCIP_FPATH, f\"{project_name}.scip\")\n",
    ")\n",
    "\n",
    "code_embedding_db = ChromaSymbolEmbeddingVectorDatabase(\n",
    "    project_name,\n",
    "    persist_directory=DependencyFactory.DEFAULT_CODE_EMBEDDING_FPATH,\n",
    "    factory=SymbolCodeEmbedding.from_args,\n",
    ")"
   ]
  },
  {
   "cell_type": "code",
   "execution_count": null,
   "id": "7bbc5eb8",
   "metadata": {},
   "outputs": [],
   "source": [
    "symbol_graph.is_synchronized = True\n",
    "len(symbol_graph.get_sorted_supported_symbols()),len(code_embedding_db)"
   ]
  },
  {
   "cell_type": "code",
   "execution_count": null,
   "id": "326eb7c2",
   "metadata": {},
   "outputs": [],
   "source": [
    "symbol_graph.get_sorted_supported_symbols()[-1]"
   ]
  },
  {
   "cell_type": "code",
   "execution_count": null,
   "id": "a7d54b0c",
   "metadata": {},
   "outputs": [],
   "source": [
    "code_embedding_db.get_all_ordered_embeddings()[-1].symbol"
   ]
  },
  {
   "cell_type": "code",
   "execution_count": null,
   "id": "11c1f32d",
   "metadata": {},
   "outputs": [],
   "source": [
    "dependency_factory.set_overrides(\n",
    "    **{\n",
    "        \"symbol_graph\": symbol_graph,\n",
    "        \"code_embedding_db\": code_embedding_db,\n",
    "    }\n",
    ")\n",
    "\n",
    "\n",
    "symbol_search = dependency_factory.get('symbol_search')\n",
    "symbol_code_embedding_handler = dependency_factory.get('symbol_code_embedding_handler')\n"
   ]
  },
  {
   "cell_type": "code",
   "execution_count": null,
   "id": "988b52cc",
   "metadata": {
    "scrolled": true
   },
   "outputs": [],
   "source": [
    "raw_ranks = symbol_search.symbol_rank.get_ordered_ranks()\n",
    "print(f\"Demonstrating SymbolRank (on {project_name}) \\n\")\n",
    "for i,rank in enumerate(raw_ranks[0:10]):\n",
    "    print(f\"rank {i} = {rank[0].full_dotpath} with rank {rank[1]:.3f}\")"
   ]
  },
  {
   "cell_type": "code",
   "execution_count": null,
   "id": "4ec627fb",
   "metadata": {},
   "outputs": [],
   "source": [
    "query = \"How do I create an agent?\"\n",
    "\n",
    "embedding_similarity_calculator = dependency_factory.get('embedding_similarity_calculator')\n",
    "code_embeddings = symbol_code_embedding_handler.get_all_ordered_embeddings()\n",
    "\n",
    "print(f\"Demonstrating Similarity Search (on {project_name}) for query = {query} \\n\")\n",
    "code_similarity_results = embedding_similarity_calculator.calculate_query_similarity_dict(code_embeddings, query)\n",
    "for i,rank in enumerate(list(code_similarity_results.items())[0:10]):\n",
    "    print(f\"rank {i} = {rank[0].full_dotpath} with distance {rank[1]:.3f}\")"
   ]
  },
  {
   "cell_type": "code",
   "execution_count": null,
   "id": "2ce0bb66",
   "metadata": {
    "scrolled": true
   },
   "outputs": [],
   "source": [
    "symbol_rank_search_results = symbol_search.get_symbol_rank_results(query)\n",
    "print(f\"Demonstrating SymbolRank (on {project_name}) for query = {query} \\n\")\n",
    "for i,rank in enumerate(symbol_rank_search_results[0:10]):\n",
    "    print(f\"rank {i} = {rank[0].full_dotpath} with rank {rank[1]:.3f}\")"
   ]
  }
 ],
 "metadata": {
  "kernelspec": {
   "display_name": "Python 3 (ipykernel)",
   "language": "python",
   "name": "python3"
  },
  "language_info": {
   "codemirror_mode": {
    "name": "ipython",
    "version": 3
   },
   "file_extension": ".py",
   "mimetype": "text/x-python",
   "name": "python",
   "nbconvert_exporter": "python",
   "pygments_lexer": "ipython3",
   "version": "3.10.12"
  }
 },
 "nbformat": 4,
 "nbformat_minor": 5
}
