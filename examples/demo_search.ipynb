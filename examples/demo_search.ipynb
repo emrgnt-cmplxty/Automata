{
 "cells": [
  {
   "cell_type": "code",
   "execution_count": 1,
   "id": "659850e4",
   "metadata": {},
   "outputs": [],
   "source": [
    "import os\n",
    "import logging\n",
    "from typing import Any, Set\n",
    "\n",
    "\n",
    "from automata.config.config_base import AgentConfigName\n",
    "from automata.singletons.dependency_factory import dependency_factory, DependencyFactory\n",
    "from automata.singletons.py_module_loader import py_module_loader\n",
    "from automata.symbol.graph import SymbolGraph\n",
    "from automata.symbol_embedding import SymbolCodeEmbedding\n",
    "from automata.symbol_embedding.vector_databases import (\n",
    "    ChromaSymbolEmbeddingVectorDatabase,\n",
    ")\n",
    "\n",
    "    \n",
    "logger = logging.getLogger(__name__)"
   ]
  },
  {
   "cell_type": "code",
   "execution_count": 2,
   "id": "5f6acfc3",
   "metadata": {},
   "outputs": [],
   "source": [
    "py_module_loader.reset()\n",
    "dependency_factory.reset()\n",
    "project_name = \"automata\"\n",
    "py_module_loader.initialize(f\"..\", project_name) # ! Can replace with your own project\n"
   ]
  },
  {
   "cell_type": "code",
   "execution_count": 3,
   "id": "9389cb3f",
   "metadata": {
    "scrolled": true
   },
   "outputs": [],
   "source": [
    "symbol_graph = SymbolGraph(\n",
    "    os.path.join(DependencyFactory.DEFAULT_SCIP_FPATH, f\"{project_name}.scip\")\n",
    ")\n",
    "\n",
    "code_embedding_db = ChromaSymbolEmbeddingVectorDatabase(\n",
    "    project_name,\n",
    "    persist_directory=DependencyFactory.DEFAULT_CODE_EMBEDDING_FPATH,\n",
    "    factory=SymbolCodeEmbedding.from_args,\n",
    ")"
   ]
  },
  {
   "cell_type": "code",
   "execution_count": 4,
   "id": "7bbc5eb8",
   "metadata": {},
   "outputs": [
    {
     "data": {
      "text/plain": [
       "(8327, 971)"
      ]
     },
     "execution_count": 4,
     "metadata": {},
     "output_type": "execute_result"
    }
   ],
   "source": [
    "symbol_graph.is_synchronized = True\n",
    "len(symbol_graph.get_sorted_supported_symbols()),len(code_embedding_db)"
   ]
  },
  {
   "cell_type": "code",
   "execution_count": 5,
   "id": "326eb7c2",
   "metadata": {},
   "outputs": [
    {
     "data": {
      "text/plain": [
       "Symbol(scip-python python automata 8d461ca2e41b857ff2e7ee248f989ff6cffc6a15 `tests.utils.factories`/symbol_search_live()., scip-python, Package(python automata 8d461ca2e41b857ff2e7ee248f989ff6cffc6a15), (Descriptor(tests.utils.factories, 1), Descriptor(symbol_search_live, 4)))"
      ]
     },
     "execution_count": 5,
     "metadata": {},
     "output_type": "execute_result"
    }
   ],
   "source": [
    "symbol_graph.get_sorted_supported_symbols()[-1]"
   ]
  },
  {
   "cell_type": "code",
   "execution_count": 6,
   "id": "a7d54b0c",
   "metadata": {},
   "outputs": [
    {
     "data": {
      "text/plain": [
       "Symbol(scip-python python automata 8d461ca2e41b857ff2e7ee248f989ff6cffc6a15 `automata.tools.tool_executor`/ToolExecutor#execute()., scip-python, Package(python automata 8d461ca2e41b857ff2e7ee248f989ff6cffc6a15), (Descriptor(automata.tools.tool_executor, 1), Descriptor(ToolExecutor, 2), Descriptor(execute, 4)))"
      ]
     },
     "execution_count": 6,
     "metadata": {},
     "output_type": "execute_result"
    }
   ],
   "source": [
    "code_embedding_db.get_all_ordered_embeddings()[-1].symbol"
   ]
  },
  {
   "cell_type": "code",
   "execution_count": 7,
   "id": "11c1f32d",
   "metadata": {},
   "outputs": [],
   "source": [
    "dependency_factory.set_overrides(\n",
    "    **{\n",
    "        \"symbol_graph\": symbol_graph,\n",
    "        \"code_embedding_db\": code_embedding_db,\n",
    "    }\n",
    ")\n",
    "\n",
    "\n",
    "symbol_search = dependency_factory.get('symbol_search')\n",
    "symbol_code_embedding_handler = dependency_factory.get('symbol_code_embedding_handler')\n"
   ]
  },
  {
   "cell_type": "code",
   "execution_count": 8,
   "id": "988b52cc",
   "metadata": {
    "scrolled": true
   },
   "outputs": [
    {
     "name": "stderr",
     "output_type": "stream",
     "text": [
      "100%|██████████| 971/971 [00:22<00:00, 42.51it/s] \n"
     ]
    },
    {
     "name": "stdout",
     "output_type": "stream",
     "text": [
      "Demonstrating SymbolRank (on automata) \n",
      "\n",
      "rank 0 = automata.symbol.symbol_base.Symbol with rank 0.005\n",
      "rank 1 = automata.agent.openai_agent.OpenAIAutomataAgent with rank 0.004\n",
      "rank 2 = automata.singletons.github_client.GitHubClient with rank 0.004\n",
      "rank 3 = automata.core.base.database.vector_database.ChromaVectorDatabase with rank 0.003\n",
      "rank 4 = automata.singletons.dependency_factory.DependencyFactory with rank 0.003\n",
      "rank 5 = automata.core.base.database.vector_database.VectorDatabaseProvider with rank 0.003\n",
      "rank 6 = automata.core.base.database.vector_database.JSONVectorDatabase with rank 0.003\n",
      "rank 7 = automata.symbol.graph.symbol_graph.SymbolGraph with rank 0.003\n",
      "rank 8 = automata.symbol_embedding.vector_databases.ChromaSymbolEmbeddingVectorDatabase with rank 0.003\n",
      "rank 9 = automata.eval.agent.code_writing_eval.CodeWritingAction with rank 0.003\n"
     ]
    }
   ],
   "source": [
    "raw_ranks = symbol_search.symbol_rank.get_ordered_ranks()\n",
    "print(f\"Demonstrating SymbolRank (on {project_name}) \\n\")\n",
    "for i,rank in enumerate(raw_ranks[0:10]):\n",
    "    print(f\"rank {i} = {rank[0].dotpath} with rank {rank[1]:.3f}\")"
   ]
  },
  {
   "cell_type": "code",
   "execution_count": 9,
   "id": "4ec627fb",
   "metadata": {},
   "outputs": [
    {
     "name": "stdout",
     "output_type": "stream",
     "text": [
      "Demonstrating Similarity Search (on automata) for query = How do I create an agent? \n",
      "\n",
      "rank 0 = automata.agent.agent.Agent with distance 0.773\n",
      "rank 1 = automata.tasks.task_executor.IAutomataTaskExecution._build_agent with distance 0.769\n",
      "rank 2 = automata.agent.openai_agent.OpenAIAutomataAgent with distance 0.766\n",
      "rank 3 = automata.cli.scripts.run_agent.main with distance 0.765\n",
      "rank 4 = automata.config.config_base.AgentConfigBuilder.build with distance 0.764\n",
      "rank 5 = automata.core.run_handlers.create_task with distance 0.763\n",
      "rank 6 = automata.config.openai_config.OpenAIAutomataAgentConfig.get_llm_provider with distance 0.761\n",
      "rank 7 = automata.agent.agent.Agent._setup with distance 0.760\n",
      "rank 8 = automata.tools.agent_tool_factory.AgentToolFactory with distance 0.759\n",
      "rank 9 = automata.core.run_handlers.run_setup with distance 0.756\n"
     ]
    }
   ],
   "source": [
    "query = \"How do I create an agent?\"\n",
    "\n",
    "embedding_similarity_calculator = dependency_factory.get('embedding_similarity_calculator')\n",
    "code_embeddings = symbol_code_embedding_handler.get_all_ordered_embeddings()\n",
    "\n",
    "print(f\"Demonstrating Similarity Search (on {project_name}) for query = {query} \\n\")\n",
    "code_similarity_results = embedding_similarity_calculator.calculate_query_similarity_dict(code_embeddings, query)\n",
    "for i,rank in enumerate(list(code_similarity_results.items())[0:10]):\n",
    "    print(f\"rank {i} = {rank[0].dotpath} with distance {rank[1]:.3f}\")"
   ]
  },
  {
   "cell_type": "code",
   "execution_count": 10,
   "id": "2ce0bb66",
   "metadata": {
    "scrolled": true
   },
   "outputs": [
    {
     "name": "stdout",
     "output_type": "stream",
     "text": [
      "Demonstrating SymbolRank (on automata) for query = How do I create an agent? \n",
      "\n",
      "rank 0 = automata.agent.openai_agent.OpenAIAutomataAgent with rank 0.010\n",
      "rank 1 = automata.agent.agent.Agent with rank 0.009\n",
      "rank 2 = automata.config.openai_config.OpenAIAutomataAgentConfigBuilder with rank 0.006\n",
      "rank 3 = automata.cli.scripts.run_agent.main with rank 0.005\n",
      "rank 4 = automata.tools.agent_tool_factory.AgentToolFactory with rank 0.005\n",
      "rank 5 = automata.config.config_base.AgentConfigBuilder with rank 0.005\n",
      "rank 6 = automata.config.config_base.AgentConfig with rank 0.005\n",
      "rank 7 = automata.config.openai_config.OpenAIAutomataAgentConfig with rank 0.005\n",
      "rank 8 = automata.tasks.task_executor.IAutomataTaskExecution._build_agent with rank 0.005\n",
      "rank 9 = automata.singletons.github_client.GitHubClient with rank 0.004\n"
     ]
    }
   ],
   "source": [
    "symbol_rank_search_results = symbol_search.get_symbol_rank_results(query)\n",
    "print(f\"Demonstrating SymbolRank (on {project_name}) for query = {query} \\n\")\n",
    "for i,rank in enumerate(symbol_rank_search_results[0:10]):\n",
    "    print(f\"rank {i} = {rank[0].dotpath} with rank {rank[1]:.3f}\")"
   ]
  }
 ],
 "metadata": {
  "kernelspec": {
   "display_name": "Python 3 (ipykernel)",
   "language": "python",
   "name": "python3"
  },
  "language_info": {
   "codemirror_mode": {
    "name": "ipython",
    "version": 3
   },
   "file_extension": ".py",
   "mimetype": "text/x-python",
   "name": "python",
   "nbconvert_exporter": "python",
   "pygments_lexer": "ipython3",
   "version": "3.10.12"
  }
 },
 "nbformat": 4,
 "nbformat_minor": 5
}
