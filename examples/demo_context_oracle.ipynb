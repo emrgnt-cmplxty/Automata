{
 "cells": [
  {
   "cell_type": "code",
   "execution_count": null,
   "id": "25b4c489",
   "metadata": {},
   "outputs": [],
   "source": [
    "import logging\n",
    "from typing import Any, Set\n",
    "\n",
    "from automata.config.config_base import AgentConfigName\n",
    "from automata.singletons.dependency_factory import dependency_factory\n",
    "from automata.singletons.py_module_loader import py_module_loader\n",
    "from automata.context_providers.symbol_synchronization_context import (\n",
    "    SymbolProviderSynchronizationContext,\n",
    ")\n",
    "    \n",
    "from automata.tools.tool_base import Tool\n",
    "from automata.experimental.tools.builders.advanced_context_oracle_builder import AdvancedContextOracleToolkitBuilder\n",
    "\n",
    "logger = logging.getLogger(__name__)\n",
    "\n",
    "py_module_loader.initialize()"
   ]
  },
  {
   "cell_type": "code",
   "execution_count": null,
   "id": "df78604c",
   "metadata": {},
   "outputs": [],
   "source": [
    "symbol_search = dependency_factory.get('symbol_search')\n",
    "symbol_code_embedding_handler = dependency_factory.get('symbol_code_embedding_handler')\n",
    "symbol_doc_embedding_handler = dependency_factory.get('symbol_doc_embedding_handler')\n",
    "embedding_similarity_calculator = dependency_factory.get('embedding_similarity_calculator')"
   ]
  },
  {
   "cell_type": "code",
   "execution_count": null,
   "id": "d9b0114c",
   "metadata": {},
   "outputs": [],
   "source": [
    "context_oracle = AdvancedContextOracleToolkitBuilder(symbol_search, symbol_doc_embedding_handler, symbol_code_embedding_handler, embedding_similarity_calculator)"
   ]
  },
  {
   "cell_type": "code",
   "execution_count": null,
   "id": "ba92d460",
   "metadata": {
    "scrolled": true
   },
   "outputs": [],
   "source": [
    "context = context_oracle._get_context(\"Provide new code which refactors the SymbolDocEmbeddingHandler class to be more robust.\")"
   ]
  },
  {
   "cell_type": "code",
   "execution_count": null,
   "id": "35c3b343",
   "metadata": {
    "scrolled": true
   },
   "outputs": [],
   "source": [
    "print(context)"
   ]
  }
 ],
 "metadata": {
  "kernelspec": {
   "display_name": "Python 3 (ipykernel)",
   "language": "python",
   "name": "python3"
  },
  "language_info": {
   "codemirror_mode": {
    "name": "ipython",
    "version": 3
   },
   "file_extension": ".py",
   "mimetype": "text/x-python",
   "name": "python",
   "nbconvert_exporter": "python",
   "pygments_lexer": "ipython3",
   "version": "3.10.12"
  }
 },
 "nbformat": 4,
 "nbformat_minor": 5
}
