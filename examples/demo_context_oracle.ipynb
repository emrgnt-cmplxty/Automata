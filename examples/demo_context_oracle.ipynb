{
 "cells": [
  {
   "cell_type": "code",
   "execution_count": 1,
   "id": "25b4c489",
   "metadata": {},
   "outputs": [],
   "source": [
    "import logging\n",
    "from typing import Any, Set\n",
    "\n",
    "from automata.config.config_base import AgentConfigName\n",
    "from automata.singletons.dependency_factory import dependency_factory\n",
    "from automata.singletons.py_module_loader import py_module_loader\n",
    "from automata.context_providers.symbol_synchronization_context import (\n",
    "    SymbolProviderSynchronizationContext,\n",
    ")\n",
    "    \n",
    "from automata.tools.tool_base import Tool\n",
    "from automata.experimental.tools.builders.advanced_context_oracle_builder import AdvancedContextOracleToolkitBuilder\n",
    "\n",
    "logger = logging.getLogger(__name__)\n",
    "\n",
    "py_module_loader.initialize()"
   ]
  },
  {
   "cell_type": "code",
   "execution_count": 2,
   "id": "df78604c",
   "metadata": {},
   "outputs": [],
   "source": [
    "symbol_search = dependency_factory.get('symbol_search')\n",
    "symbol_code_embedding_handler = dependency_factory.get('symbol_code_embedding_handler')\n",
    "symbol_doc_embedding_handler = dependency_factory.get('symbol_doc_embedding_handler')\n",
    "embedding_similarity_calculator = dependency_factory.get('embedding_similarity_calculator')"
   ]
  },
  {
   "cell_type": "code",
   "execution_count": 3,
   "id": "d9b0114c",
   "metadata": {},
   "outputs": [],
   "source": [
    "context_oracle = AdvancedContextOracleToolkitBuilder(symbol_search, symbol_doc_embedding_handler, symbol_code_embedding_handler, embedding_similarity_calculator)"
   ]
  },
  {
   "cell_type": "code",
   "execution_count": 4,
   "id": "ba92d460",
   "metadata": {
    "scrolled": true
   },
   "outputs": [
    {
     "name": "stderr",
     "output_type": "stream",
     "text": [
      "100%|██████████| 791/791 [00:06<00:00, 118.11it/s]\n"
     ]
    }
   ],
   "source": [
    "context = context_oracle._get_context(\"Provide new code which refactors the SymbolDocEmbeddingHandler class to be more robust.\")"
   ]
  },
  {
   "cell_type": "code",
   "execution_count": 5,
   "id": "35c3b343",
   "metadata": {
    "scrolled": true
   },
   "outputs": [
    {
     "name": "stdout",
     "output_type": "stream",
     "text": [
      "\n",
      "\n",
      "def _create_new_embedding(self, source_code: str, symbol: Symbol) -> None:\n",
      "    'Creates a new embedding for a symbol.'\n",
      "    if (symbol.py_kind == SymbolDescriptor.PyKind.Class):\n",
      "        logger.debug(f'Creating a new class embedding for {symbol}')\n",
      "        symbol_embedding = self.embedding_builder.build(source_code, symbol)\n",
      "    elif isinstance(self.embedding_builder, SymbolDocEmbeddingBuilder):\n",
      "        logger.debug(f'Creating a new non-class embedding for {symbol}')\n",
      "        symbol_embedding = self.embedding_builder.build_non_class(source_code, symbol)\n",
      "    else:\n",
      "        raise ValueError('SymbolDocEmbeddingHandler requires a SymbolDocEmbeddingBuilder')\n",
      "    self.embedding_db.add(symbol_embedding)\n",
      "    logger.debug('Successfully added...')\n",
      "Documentation:\n",
      "\n",
      "Symbol: automata.experimental.memory_store.symbol_doc_embedding_handler.SymbolDocEmbeddingHandler._create_new_embedding\n",
      "Creates a new embedding for a symbol.Fetching related context now for 10 symbols...\n",
      "\n",
      "automata.symbol_embedding.symbol_embedding_handler.SymbolEmbeddingHandler.__init__\n",
      "\n",
      "Symbol: automata.symbol_embedding.symbol_embedding_handler.SymbolEmbeddingHandler.__init__\n",
      "An abstract constructor for SymbolEmbeddingHandler\n",
      "\n",
      "automata.experimental.memory_store.symbol_doc_embedding_handler.SymbolDocEmbeddingHandler.process_embedding\n",
      "\n",
      "Symbol: automata.experimental.memory_store.symbol_doc_embedding_handler.SymbolDocEmbeddingHandler.process_embedding\n",
      "Process the embedding for a `Symbol` -\n",
      "Currently we do nothing except update symbol commit hash and source code\n",
      "if the symbol is already in the database.\n",
      "\n",
      "automata.memory_store.symbol_code_embedding_handler.SymbolCodeEmbeddingHandler.process_embedding\n",
      "\n",
      "Symbol: automata.memory_store.symbol_code_embedding_handler.SymbolCodeEmbeddingHandler.process_embedding\n",
      "Process the embedding for a list of `Symbol`s by updating if the\n",
      "source code has changed.\n",
      "\n",
      "automata.cli.scripts.run_doc_embedding.initialize_providers\n",
      "\n",
      "Symbol: automata.cli.scripts.run_doc_embedding.initialize_providers\n",
      "Initialize the resources needed to build the doc embeddings.\n",
      "\n",
      "automata.experimental.symbol_embedding.symbol_doc_embedding_builder.SymbolDocEmbeddingBuilder.build_non_class\n",
      "\n",
      "Symbol: automata.experimental.symbol_embedding.symbol_doc_embedding_builder.SymbolDocEmbeddingBuilder.build_non_class\n",
      "Build the embedding for a non-class type symbol's documentation.\n",
      "\n",
      "automata.singletons.dependency_factory.DependencyFactory.create_symbol_doc_embedding_handler\n",
      "\n",
      "Symbol: automata.singletons.dependency_factory.DependencyFactory.create_symbol_doc_embedding_handler\n",
      "Creates a `SymbolDocEmbeddingHandler` instance.\n",
      "\n",
      "Associated Keyword Args:\n",
      "    doc_embedding_db (ChromaSymbolEmbeddingVectorDatabase): Database responsible for doc embeddings.\n",
      "    embedding_provider (OpenAIEmbedding())\n",
      "\n",
      "automata.experimental.symbol_embedding.symbol_doc_embedding_builder.SymbolDocEmbeddingBuilder.build\n",
      "\n",
      "Symbol: automata.experimental.symbol_embedding.symbol_doc_embedding_builder.SymbolDocEmbeddingBuilder.build\n",
      "Build the embedding for a symbol's documentation.\n",
      "Example Document Output:\n",
      "===========\n",
      "AgentConfig\n",
      "===========\n",
      "``AgentConfig`` is an abstract base class that provides a template for\n",
      "configurations related to providers. It contains abstract methods like\n",
      "``setup()`` and ``load()`` that need to be implemented by subclasses.\n",
      "This class also handles the configuration of arbitrary types during the\n",
      "initialization.\n",
      "Overview\n",
      "--------\n",
      "``AgentConfig`` is designed for ensuring configurability of providers.\n",
      "Subclasses need to provide implementations for the ``setup()`` and\n",
      "``load()`` methods in order to properly define the behavior during the\n",
      "agent setup and configuration loading processes. This class follows the\n",
      "BaseModel design, making it easy to extend and customize according to\n",
      "specific agent requirements.\n",
      "Related Symbols\n",
      "---------------\n",
      "-  ``automata.agent.instances.OpenAIAutomataAgentInstance.Config``\n",
      "-  ``automata.tests.unit.test_automata_agent_builder.test_builder_default_config``\n",
      "-  ``automata.tests.unit.test_task_environment.TestURL``\n",
      "-  ``automata.agent.agent.AgentInstance.Config``\n",
      "Example\n",
      "-------\n",
      "The following example demonstrates how to create a custom agent\n",
      "configuration by extending the ``AgentConfig`` class:\n",
      ".. code:: python\n",
      "from config.config_types import AgentConfig\n",
      "class CustomAgentConfig(AgentConfig):\n",
      "    def setup(self):\n",
      "        # Define your custom agent setup process\n",
      "        pass\n",
      "    @classmethod\n",
      "    def load(cls, config_name: AgentConfigName) -> \"CustomAgentConfig\":\n",
      "        # Load the config for your custom agent\n",
      "        pass\n",
      "Limitations\n",
      "-----------\n",
      "``AgentConfig`` itself is an abstract class and cannot directly be\n",
      "instantiated. It must be subclassed, and its methods need to be\n",
      "implemented by the extending class according to the specific agent\n",
      "requirements. Additionally, the current implementation allows for\n",
      "arbitrary types, which may lead to code that is not type-safe.\n",
      "Follow-up Questions:\n",
      "--------------------\n",
      "-  How can we ensure type safety while maintaining the flexibility and\n",
      "customizability provided by ``AgentConfig``?\n",
      "\n",
      "automata.experimental.memory_store.symbol_doc_embedding_handler.SymbolDocEmbeddingHandler._update_existing_embedding\n",
      "\n",
      "Symbol: automata.experimental.memory_store.symbol_doc_embedding_handler.SymbolDocEmbeddingHandler._update_existing_embedding\n",
      "Updates the existing embedding for a symbol if necessary.\n",
      "\n",
      "automata.memory_store.symbol_code_embedding_handler.SymbolCodeEmbeddingHandler._update_existing_embedding\n",
      "\n",
      "Symbol: automata.memory_store.symbol_code_embedding_handler.SymbolCodeEmbeddingHandler._update_existing_embedding\n",
      "Check for differences between the source code of the symbol and the source code\n",
      "of the existing embedding. If there are differences, update the embedding.\n",
      "\n",
      "automata.experimental.memory_store.symbol_doc_embedding_handler.SymbolDocEmbeddingHandler.__init__\n",
      "\n",
      "Symbol: automata.experimental.memory_store.symbol_doc_embedding_handler.SymbolDocEmbeddingHandler.__init__\n",
      "No result found.\n",
      "\n",
      "\n"
     ]
    }
   ],
   "source": [
    "print(context)"
   ]
  }
 ],
 "metadata": {
  "kernelspec": {
   "display_name": "Python 3 (ipykernel)",
   "language": "python",
   "name": "python3"
  },
  "language_info": {
   "codemirror_mode": {
    "name": "ipython",
    "version": 3
   },
   "file_extension": ".py",
   "mimetype": "text/x-python",
   "name": "python",
   "nbconvert_exporter": "python",
   "pygments_lexer": "ipython3",
   "version": "3.10.12"
  }
 },
 "nbformat": 4,
 "nbformat_minor": 5
}
