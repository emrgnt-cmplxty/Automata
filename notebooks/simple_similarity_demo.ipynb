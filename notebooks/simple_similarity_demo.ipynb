{
 "cells": [
  {
   "cell_type": "code",
   "execution_count": 1,
   "id": "b6002338",
   "metadata": {},
   "outputs": [],
   "source": [
    "import os\n",
    "import logging\n",
    "\n",
    "from automata.singletons.dependency_factory import dependency_factory, DependencyFactory\n",
    "from automata.singletons.py_module_loader import py_module_loader\n",
    "from automata.symbol.graph import SymbolGraph\n",
    "from automata.symbol_embedding.vector_databases import (\n",
    "    ChromaSymbolEmbeddingVectorDatabase,\n",
    ")\n",
    "from automata.symbol_embedding.base import SymbolCodeEmbedding\n",
    "from automata.llm.providers.openai import OpenAIEmbeddingProvider\n",
    "\n"
   ]
  },
  {
   "cell_type": "code",
   "execution_count": 2,
   "id": "cfa450db",
   "metadata": {},
   "outputs": [],
   "source": [
    "py_module_loader.reset()\n",
    "\n",
    "root_path = \"/Users/ocolegrove/repo_store/llama_index\"\n",
    "project_name = \"langchain\"\n",
    "\n",
    "py_module_loader.initialize(root_path, project_name)"
   ]
  },
  {
   "cell_type": "code",
   "execution_count": 3,
   "id": "2d0dd40c",
   "metadata": {
    "scrolled": true
   },
   "outputs": [
    {
     "data": {
      "text/plain": [
       "5321"
      ]
     },
     "execution_count": 3,
     "metadata": {},
     "output_type": "execute_result"
    }
   ],
   "source": [
    "code_embedding_db = ChromaSymbolEmbeddingVectorDatabase(\n",
    "    project_name,\n",
    "    persist_directory=DependencyFactory.DEFAULT_CODE_EMBEDDING_FPATH,\n",
    "    factory=SymbolCodeEmbedding.from_args,\n",
    ")\n",
    "len(code_embedding_db.get_ordered_entries())"
   ]
  },
  {
   "cell_type": "code",
   "execution_count": 4,
   "id": "72fca92d",
   "metadata": {
    "scrolled": false
   },
   "outputs": [
    {
     "name": "stdout",
     "output_type": "stream",
     "text": [
      "Demonstrating code embedding search results for query = 'What is langchain?'\n",
      "rank 0 = langchain.callbacks.mlflow_callback.MlflowLogger.langchain_artifact with distance 0.794\n",
      "rank 1 = langchain.callbacks.manager._get_debug with distance 0.786\n",
      "rank 2 = langchain.chains.llm.LLMChain._chain_type with distance 0.780\n",
      "rank 3 = langchain.chains.llm.LLMChain with distance 0.778\n",
      "rank 4 = langchain.chains.llm_bash.base.LLMBashChain with distance 0.777\n",
      "rank 5 = langchain.schema.output_parser.NoOpOutputParser.lc_serializable with distance 0.777\n",
      "rank 6 = langchain.chains.natbot.base.NatBotChain with distance 0.776\n",
      "rank 7 = langchain.chains.llm_math.base.LLMMathChain with distance 0.775\n",
      "rank 8 = langchain.chains.sql_database.base.SQLDatabaseChain with distance 0.774\n",
      "rank 9 = langchain.chains.llm_math.base.LLMMathChain._chain_type with distance 0.773\n"
     ]
    }
   ],
   "source": [
    "\n",
    "# symbol_graph = SymbolGraph(\n",
    "#     os.path.join(DependencyFactory.DEFAULT_SCIP_FPATH, f\"{project_name}.scip\")\n",
    "# )\n",
    "embedding_provider = OpenAIEmbeddingProvider()\n",
    "\n",
    "dependency_factory.set_overrides(\n",
    "    **{\n",
    "#         \"symbol_graph\": symbol_graph,\n",
    "        \"code_embedding_db\": code_embedding_db,\n",
    "        \"embedding_provider\": embedding_provider,\n",
    "    }\n",
    "    \n",
    ")\n",
    "\n",
    "symbol_code_embedding_handler = dependency_factory.get(\"symbol_code_embedding_handler\")\n",
    "embedding_similarity_calculator = dependency_factory.get(\"embedding_similarity_calculator\")\n",
    "\n",
    "\n",
    "code_embeddings = symbol_code_embedding_handler.get_ordered_entries()\n",
    "\n",
    "query = \"What is langchain?\"\n",
    "\n",
    "print(f\"Demonstrating code embedding search results for query = '{query}'\")\n",
    "code_similarity_results = embedding_similarity_calculator.calculate_query_similarity_dict(code_embeddings, query)\n",
    "for i,rank in enumerate(list(code_similarity_results.items())[0:10]):\n",
    "    print(f\"rank {i} = {rank[0].dotpath} with distance {rank[1]:.3f}\")\n",
    "    "
   ]
  }
 ],
 "metadata": {
  "kernelspec": {
   "display_name": "Python 3 (ipykernel)",
   "language": "python",
   "name": "python3"
  },
  "language_info": {
   "codemirror_mode": {
    "name": "ipython",
    "version": 3
   },
   "file_extension": ".py",
   "mimetype": "text/x-python",
   "name": "python",
   "nbconvert_exporter": "python",
   "pygments_lexer": "ipython3",
   "version": "3.9.13"
  }
 },
 "nbformat": 4,
 "nbformat_minor": 5
}
