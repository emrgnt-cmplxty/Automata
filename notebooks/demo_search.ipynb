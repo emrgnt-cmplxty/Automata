{
 "cells": [
  {
   "cell_type": "code",
   "execution_count": 1,
   "id": "659850e4",
   "metadata": {},
   "outputs": [],
   "source": [
    "import logging\n",
    "from typing import Any, Set\n",
    "\n",
    "from automata.config.base import AgentConfigName\n",
    "from automata.singletons.dependency_factory import dependency_factory\n",
    "from automata.singletons.py_module_loader import py_module_loader\n",
    "from automata.context_providers.symbol_synchronization import (\n",
    "    SymbolProviderSynchronizationContext,\n",
    ")\n",
    "    \n",
    "logger = logging.getLogger(__name__)\n",
    "\n",
    "py_module_loader.initialize()"
   ]
  },
  {
   "cell_type": "code",
   "execution_count": 2,
   "id": "9389cb3f",
   "metadata": {
    "scrolled": true
   },
   "outputs": [
    {
     "name": "stderr",
     "output_type": "stream",
     "text": [
      "Using embedded DuckDB with persistence: data will be stored in: /Users/ocolegrove/AutomataNoCruft/automata/core/../../embedding_data/code_embedding\n",
      "No embedding_function provided, using default embedding function: SentenceTransformerEmbeddingFunction\n",
      "Using embedded DuckDB with persistence: data will be stored in: /Users/ocolegrove/AutomataNoCruft/automata/core/../../embedding_data/doc_embedding_l2\n",
      "No embedding_function provided, using default embedding function: SentenceTransformerEmbeddingFunction\n"
     ]
    }
   ],
   "source": [
    "symbol_search = dependency_factory.get('symbol_search')\n",
    "symbol_code_embedding_handler = dependency_factory.get('symbol_code_embedding_handler')\n",
    "symbol_doc_embedding_handler = dependency_factory.get('symbol_doc_embedding_handler')"
   ]
  },
  {
   "cell_type": "code",
   "execution_count": 3,
   "id": "988b52cc",
   "metadata": {
    "scrolled": true
   },
   "outputs": [
    {
     "name": "stderr",
     "output_type": "stream",
     "text": [
      "100%|██████████████████████████████████████████████████████████████████████████████████████████████████████████████████████████████████████████████████████████████████████| 605/605 [00:03<00:00, 198.64it/s]"
     ]
    },
    {
     "name": "stdout",
     "output_type": "stream",
     "text": [
      "Demonstrating SymbolRank\n",
      "\n",
      "rank 0 = automata.symbol.base.Symbol with rank 0.007\n",
      "rank 1 = automata.agent.providers.OpenAIAutomataAgent with rank 0.004\n",
      "rank 2 = automata.code_handling.py.writer.PyWriter with rank 0.004\n",
      "rank 3 = automata.symbol.graph.SymbolGraph with rank 0.004\n",
      "rank 4 = automata.singletons.dependency_factory.DependencyFactory with rank 0.003\n",
      "rank 5 = automata.retrievers.py.context.PyContextRetriever with rank 0.003\n",
      "rank 6 = automata.tasks.environment.AutomataTaskEnvironment with rank 0.003\n",
      "rank 7 = automata.symbol.base.SymbolDescriptor with rank 0.003\n",
      "rank 8 = automata.experimental.search.symbol_search.SymbolSearch with rank 0.003\n",
      "rank 9 = automata.llm.foundation.LLMConversation with rank 0.003\n"
     ]
    },
    {
     "name": "stderr",
     "output_type": "stream",
     "text": [
      "\n"
     ]
    }
   ],
   "source": [
    "raw_ranks = symbol_search.symbol_rank.get_ranks()\n",
    "print(\"Demonstrating SymbolRank\\n\")\n",
    "for i,rank in enumerate(raw_ranks[0:10]):\n",
    "    print(f\"rank {i} = {rank[0].dotpath} with rank {rank[1]:.3f}\")"
   ]
  },
  {
   "cell_type": "code",
   "execution_count": 4,
   "id": "2ce0bb66",
   "metadata": {
    "scrolled": true
   },
   "outputs": [
    {
     "name": "stdout",
     "output_type": "stream",
     "text": [
      "Demonstrating SymbolRank results for query = `SymbolGraph`\n",
      "\n",
      "rank 0 = automata.symbol.base.Symbol with rank 0.013\n",
      "rank 1 = automata.symbol.graph.SymbolGraph with rank 0.011\n",
      "rank 2 = automata.symbol.graph.GraphBuilder with rank 0.006\n",
      "rank 3 = automata.singletons.dependency_factory.DependencyFactory.create_symbol_graph with rank 0.005\n",
      "rank 4 = automata.retrievers.py.context.PyContextRetriever with rank 0.005\n",
      "rank 5 = automata.singletons.dependency_factory.DependencyFactory.create_subgraph with rank 0.005\n",
      "rank 6 = automata.singletons.dependency_factory.DependencyFactory with rank 0.005\n",
      "rank 7 = automata.experimental.search.symbol_search.SymbolSearch with rank 0.005\n",
      "rank 8 = automata.symbol.graph._RelationshipProcessor with rank 0.005\n",
      "rank 9 = automata.symbol.graph.SymbolGraph.filter_symbols with rank 0.005\n"
     ]
    }
   ],
   "source": [
    "query = \"SymbolGraph\"\n",
    "symbol_rank_search_results = symbol_search.symbol_rank_search(query)\n",
    "print(\"Demonstrating SymbolRank results for query = `SymbolGraph`\\n\")\n",
    "raw_ranks = symbol_search.symbol_rank.get_ranks()\n",
    "for i,rank in enumerate(symbol_rank_search_results[0:10]):\n",
    "    print(f\"rank {i} = {rank[0].dotpath} with rank {rank[1]:.3f}\")"
   ]
  },
  {
   "cell_type": "code",
   "execution_count": 6,
   "id": "4ec627fb",
   "metadata": {},
   "outputs": [
    {
     "name": "stdout",
     "output_type": "stream",
     "text": [
      "Demonstrating code embedding search results for query = `SymbolGraph`\n",
      "\n",
      "rank 0 = automata.symbol.graph.SymbolGraph with distance 0.785\n",
      "rank 1 = automata.singletons.dependency_factory.DependencyFactory.create_symbol_graph with distance 0.761\n",
      "rank 2 = automata.singletons.dependency_factory.DependencyFactory.create_subgraph with distance 0.758\n",
      "rank 3 = automata.symbol.graph.SymbolGraph.filter_symbols with distance 0.753\n",
      "rank 4 = automata.symbol.graph.GraphBuilder._add_symbol_vertices with distance 0.745\n",
      "rank 5 = automata.symbol.graph.GraphBuilder with distance 0.744\n",
      "rank 6 = automata.symbol.graph._SymbolGraphNavigator.get_symbol_relationships with distance 0.744\n",
      "rank 7 = automata.symbol.graph._SymbolGraphNavigator.get_sorted_supported_symbols with distance 0.744\n",
      "rank 8 = automata.symbol.graph._CallerCalleeProcessor.__init__ with distance 0.743\n",
      "rank 9 = automata.experimental.search.symbol_search.SymbolSearch.symbol_rank with distance 0.741\n"
     ]
    }
   ],
   "source": [
    "embedding_similarity_calculator = dependency_factory.get('embedding_similarity_calculator')\n",
    "code_embeddings = symbol_code_embedding_handler.get_ordered_entries()\n",
    "\n",
    "print(\"Demonstrating code embedding search results for query = `SymbolGraph`\\n\")\n",
    "code_similarity_results = embedding_similarity_calculator.calculate_query_similarity_dict(code_embeddings, query)\n",
    "for i,rank in enumerate(list(code_similarity_results.items())[0:10]):\n",
    "    print(f\"rank {i} = {rank[0].dotpath} with distance {rank[1]:.3f}\")"
   ]
  },
  {
   "cell_type": "code",
   "execution_count": 7,
   "id": "eb9c2a74",
   "metadata": {},
   "outputs": [
    {
     "name": "stdout",
     "output_type": "stream",
     "text": [
      "Demonstrating doc embedding search results for query = `SymbolGraph`\n",
      "\n",
      "rank 0 = automata.symbol.graph.SymbolGraph.default_rankable_subgraph with distance 0.827\n",
      "rank 1 = automata.symbol.graph.SymbolGraph._build_default_rankable_subgraph with distance 0.822\n",
      "rank 2 = automata.symbol.graph.SymbolGraph.__init__ with distance 0.816\n",
      "rank 3 = automata.symbol.graph.SymbolGraph.filter_symbols with distance 0.813\n",
      "rank 4 = automata.symbol.graph.GraphBuilder.__init__ with distance 0.809\n",
      "rank 5 = automata.symbol.graph._SymbolGraphNavigator.__init__ with distance 0.809\n",
      "rank 6 = automata.symbol.graph.SymbolGraph.get_references_to_symbol with distance 0.805\n",
      "rank 7 = automata.symbol.graph._SymbolGraphNavigator.get_symbol_relationships with distance 0.805\n",
      "rank 8 = automata.symbol.graph.GraphBuilder._process_relationships with distance 0.805\n",
      "rank 9 = automata.singletons.dependency_factory.DependencyFactory.create_subgraph with distance 0.803\n"
     ]
    }
   ],
   "source": [
    "doc_embeddings = symbol_doc_embedding_handler.get_ordered_entries()\n",
    "\n",
    "print(\"Demonstrating doc embedding search results for query = `SymbolGraph`\\n\")\n",
    "doc_similarity_results = embedding_similarity_calculator.calculate_query_similarity_dict(doc_embeddings, query)\n",
    "for i,rank in enumerate(list(doc_similarity_results.items())[0:10]):\n",
    "    print(f\"rank {i} = {rank[0].dotpath} with distance {rank[1]:.3f}\")"
   ]
  },
  {
   "cell_type": "code",
   "execution_count": null,
   "id": "430c1904",
   "metadata": {},
   "outputs": [],
   "source": []
  },
  {
   "cell_type": "code",
   "execution_count": null,
   "id": "caeaf8da",
   "metadata": {},
   "outputs": [],
   "source": []
  },
  {
   "cell_type": "code",
   "execution_count": null,
   "id": "6de6f79d",
   "metadata": {},
   "outputs": [],
   "source": []
  }
 ],
 "metadata": {
  "kernelspec": {
   "display_name": "Python 3 (ipykernel)",
   "language": "python",
   "name": "python3"
  },
  "language_info": {
   "codemirror_mode": {
    "name": "ipython",
    "version": 3
   },
   "file_extension": ".py",
   "mimetype": "text/x-python",
   "name": "python",
   "nbconvert_exporter": "python",
   "pygments_lexer": "ipython3",
   "version": "3.9.13"
  }
 },
 "nbformat": 4,
 "nbformat_minor": 5
}
