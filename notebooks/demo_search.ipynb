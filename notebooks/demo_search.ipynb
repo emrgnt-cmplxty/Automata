{
 "cells": [
  {
   "cell_type": "code",
   "execution_count": 1,
   "id": "659850e4",
   "metadata": {},
   "outputs": [],
   "source": [
    "import logging\n",
    "from typing import Any, Set\n",
    "\n",
    "from automata.config.base import AgentConfigName\n",
    "from automata.singletons.dependency_factory import dependency_factory\n",
    "from automata.singletons.py_module_loader import py_module_loader\n",
    "from automata.context_providers.symbol_synchronization import (\n",
    "    SymbolProviderSynchronizationContext,\n",
    ")\n",
    "    \n",
    "logger = logging.getLogger(__name__)\n",
    "\n",
    "py_module_loader.initialize()"
   ]
  },
  {
   "cell_type": "code",
   "execution_count": 2,
   "id": "9389cb3f",
   "metadata": {
    "scrolled": true
   },
   "outputs": [],
   "source": [
    "symbol_search = dependency_factory.get('symbol_search')\n",
    "symbol_code_embedding_handler = dependency_factory.get('symbol_code_embedding_handler')\n",
    "symbol_doc_embedding_handler = dependency_factory.get('symbol_doc_embedding_handler')"
   ]
  },
  {
   "cell_type": "code",
   "execution_count": 3,
   "id": "988b52cc",
   "metadata": {
    "scrolled": true
   },
   "outputs": [
    {
     "name": "stderr",
     "output_type": "stream",
     "text": [
      "Error computing bounding box for scip-python python automata 8f8ac79f556fe456d27324c5955e5c6b909ac8e1 `automata.navigation.py.dot_path_map`/DotPathMap#: Module descriptor automata.navigation.py.dot_path_map not found\n",
      "Error computing bounding box for scip-python python automata 8f8ac79f556fe456d27324c5955e5c6b909ac8e1 `automata.navigation.py.dot_path_map`/DotPathMap#__init__().: Module descriptor automata.navigation.py.dot_path_map not found\n",
      "Error computing bounding box for scip-python python automata 8f8ac79f556fe456d27324c5955e5c6b909ac8e1 `automata.navigation.py.dot_path_map`/DotPathMap#_build_module_dotpath_to_fpath_map().: Module descriptor automata.navigation.py.dot_path_map not found\n",
      "Error computing bounding box for scip-python python automata 8f8ac79f556fe456d27324c5955e5c6b909ac8e1 `automata.navigation.py.dot_path_map`/DotPathMap#contains_dotpath().: Module descriptor automata.navigation.py.dot_path_map not found\n",
      "Error computing bounding box for scip-python python automata 8f8ac79f556fe456d27324c5955e5c6b909ac8e1 `automata.navigation.py.dot_path_map`/DotPathMap#contains_fpath().: Module descriptor automata.navigation.py.dot_path_map not found\n",
      "Error computing bounding box for scip-python python automata 8f8ac79f556fe456d27324c5955e5c6b909ac8e1 `automata.navigation.py.dot_path_map`/DotPathMap#get_module_dotpath_by_fpath().: Module descriptor automata.navigation.py.dot_path_map not found\n",
      "Error computing bounding box for scip-python python automata 8f8ac79f556fe456d27324c5955e5c6b909ac8e1 `automata.navigation.py.dot_path_map`/DotPathMap#get_module_fpath_by_dotpath().: Module descriptor automata.navigation.py.dot_path_map not found\n",
      "Error computing bounding box for scip-python python automata 8f8ac79f556fe456d27324c5955e5c6b909ac8e1 `automata.navigation.py.dot_path_map`/DotPathMap#items().: Module descriptor automata.navigation.py.dot_path_map not found\n",
      "Error computing bounding box for scip-python python automata 8f8ac79f556fe456d27324c5955e5c6b909ac8e1 `automata.navigation.py.dot_path_map`/convert_fpath_to_module_dotpath().: Module descriptor automata.navigation.py.dot_path_map not found\n",
      "Error computing bounding box for scip-python python automata 8f8ac79f556fe456d27324c5955e5c6b909ac8e1 `automata.navigation.py.dot_path_map`/DotPathMap#put_module().: Module descriptor automata.navigation.py.dot_path_map not found\n",
      "Error computing bounding box for scip-python python automata 8f8ac79f556fe456d27324c5955e5c6b909ac8e1 `automata.symbol_embedding.base`/JSONSymbolEmbeddingVectorDatabase#__init__().: Method descriptor found without module or class descriptor\n",
      "Error computing bounding box for scip-python python automata 8f8ac79f556fe456d27324c5955e5c6b909ac8e1 `automata.symbol_embedding.base`/JSONSymbolEmbeddingVectorDatabase#get_ordered_embeddings().: Method descriptor found without module or class descriptor\n",
      "Error computing bounding box for scip-python python automata 8f8ac79f556fe456d27324c5955e5c6b909ac8e1 `automata.symbol_embedding.base`/JSONSymbolEmbeddingVectorDatabase#: Symbol Symbol(scip-python python automata 8f8ac79f556fe456d27324c5955e5c6b909ac8e1 `automata.symbol_embedding.base`/JSONSymbolEmbeddingVectorDatabase#, scip-python, Package(python automata 8f8ac79f556fe456d27324c5955e5c6b909ac8e1), (Descriptor(automata.symbol_embedding.base, 1), Descriptor(JSONSymbolEmbeddingVectorDatabase, 2))) not found\n",
      "Error computing bounding box for scip-python python automata 8f8ac79f556fe456d27324c5955e5c6b909ac8e1 `automata.symbol_embedding.base`/JSONSymbolEmbeddingVectorDatabase#entry_to_key().: Method descriptor found without module or class descriptor\n",
      "Error computing bounding box for scip-python python automata 8f8ac79f556fe456d27324c5955e5c6b909ac8e1 `automata.symbol_embedding.base`/SymbolEmbeddingHandler#: Symbol Symbol(scip-python python automata 8f8ac79f556fe456d27324c5955e5c6b909ac8e1 `automata.symbol_embedding.base`/SymbolEmbeddingHandler#, scip-python, Package(python automata 8f8ac79f556fe456d27324c5955e5c6b909ac8e1), (Descriptor(automata.symbol_embedding.base, 1), Descriptor(SymbolEmbeddingHandler, 2))) not found\n",
      "Error computing bounding box for scip-python python automata 8f8ac79f556fe456d27324c5955e5c6b909ac8e1 `automata.symbol_embedding.base`/SymbolEmbeddingHandler#filter_symbols().: Method descriptor found without module or class descriptor\n",
      "Error computing bounding box for scip-python python automata 8f8ac79f556fe456d27324c5955e5c6b909ac8e1 `automata.symbol_embedding.base`/SymbolEmbeddingHandler#__init__().: Method descriptor found without module or class descriptor\n",
      "Error computing bounding box for scip-python python automata 8f8ac79f556fe456d27324c5955e5c6b909ac8e1 `automata.symbol_embedding.base`/SymbolEmbeddingHandler#get_embedding().: Method descriptor found without module or class descriptor\n",
      "Error computing bounding box for scip-python python automata 8f8ac79f556fe456d27324c5955e5c6b909ac8e1 `automata.symbol_embedding.base`/SymbolEmbeddingHandler#process_embedding().: Method descriptor found without module or class descriptor\n",
      "Error computing bounding box for scip-python python automata 8f8ac79f556fe456d27324c5955e5c6b909ac8e1 `automata.symbol_embedding.base`/SymbolEmbeddingHandler#get_ordered_embeddings().: Method descriptor found without module or class descriptor\n",
      "Error computing bounding box for scip-python python automata 8f8ac79f556fe456d27324c5955e5c6b909ac8e1 `automata.symbol_embedding.base`/SymbolEmbeddingHandler#_get_sorted_supported_symbols().: Method descriptor found without module or class descriptor\n",
      " 53%|████████████████████████████████████████████████████████████████████████████████████████████████████████████████████████████████████████████████████████████████████████████▏                                                                                                                                                     | 339/634 [00:02<00:01, 163.18it/s]Error processing scip-python python automata 8f8ac79f556fe456d27324c5955e5c6b909ac8e1 `automata.navigation.py.dot_path_map`/DotPathMap#: Symbol(scip-python python automata 8f8ac79f556fe456d27324c5955e5c6b909ac8e1 `automata.navigation.py.dot_path_map`/DotPathMap#, scip-python, Package(python automata 8f8ac79f556fe456d27324c5955e5c6b909ac8e1), (Descriptor(automata.navigation.py.dot_path_map, 1), Descriptor(DotPathMap, 2)))\n",
      "Error processing scip-python python automata 8f8ac79f556fe456d27324c5955e5c6b909ac8e1 `automata.navigation.py.dot_path_map`/DotPathMap#__init__().: Symbol(scip-python python automata 8f8ac79f556fe456d27324c5955e5c6b909ac8e1 `automata.navigation.py.dot_path_map`/DotPathMap#__init__()., scip-python, Package(python automata 8f8ac79f556fe456d27324c5955e5c6b909ac8e1), (Descriptor(automata.navigation.py.dot_path_map, 1), Descriptor(DotPathMap, 2), Descriptor(__init__, 4)))\n",
      "Error processing scip-python python automata 8f8ac79f556fe456d27324c5955e5c6b909ac8e1 `automata.navigation.py.dot_path_map`/DotPathMap#_build_module_dotpath_to_fpath_map().: Symbol(scip-python python automata 8f8ac79f556fe456d27324c5955e5c6b909ac8e1 `automata.navigation.py.dot_path_map`/DotPathMap#_build_module_dotpath_to_fpath_map()., scip-python, Package(python automata 8f8ac79f556fe456d27324c5955e5c6b909ac8e1), (Descriptor(automata.navigation.py.dot_path_map, 1), Descriptor(DotPathMap, 2), Descriptor(_build_module_dotpath_to_fpath_map, 4)))\n",
      "Error processing scip-python python automata 8f8ac79f556fe456d27324c5955e5c6b909ac8e1 `automata.navigation.py.dot_path_map`/DotPathMap#contains_dotpath().: Symbol(scip-python python automata 8f8ac79f556fe456d27324c5955e5c6b909ac8e1 `automata.navigation.py.dot_path_map`/DotPathMap#contains_dotpath()., scip-python, Package(python automata 8f8ac79f556fe456d27324c5955e5c6b909ac8e1), (Descriptor(automata.navigation.py.dot_path_map, 1), Descriptor(DotPathMap, 2), Descriptor(contains_dotpath, 4)))\n",
      "Error processing scip-python python automata 8f8ac79f556fe456d27324c5955e5c6b909ac8e1 `automata.navigation.py.dot_path_map`/DotPathMap#contains_fpath().: Symbol(scip-python python automata 8f8ac79f556fe456d27324c5955e5c6b909ac8e1 `automata.navigation.py.dot_path_map`/DotPathMap#contains_fpath()., scip-python, Package(python automata 8f8ac79f556fe456d27324c5955e5c6b909ac8e1), (Descriptor(automata.navigation.py.dot_path_map, 1), Descriptor(DotPathMap, 2), Descriptor(contains_fpath, 4)))\n"
     ]
    },
    {
     "name": "stderr",
     "output_type": "stream",
     "text": [
      "Error processing scip-python python automata 8f8ac79f556fe456d27324c5955e5c6b909ac8e1 `automata.navigation.py.dot_path_map`/DotPathMap#get_module_dotpath_by_fpath().: Symbol(scip-python python automata 8f8ac79f556fe456d27324c5955e5c6b909ac8e1 `automata.navigation.py.dot_path_map`/DotPathMap#get_module_dotpath_by_fpath()., scip-python, Package(python automata 8f8ac79f556fe456d27324c5955e5c6b909ac8e1), (Descriptor(automata.navigation.py.dot_path_map, 1), Descriptor(DotPathMap, 2), Descriptor(get_module_dotpath_by_fpath, 4)))\n",
      "Error processing scip-python python automata 8f8ac79f556fe456d27324c5955e5c6b909ac8e1 `automata.navigation.py.dot_path_map`/DotPathMap#get_module_fpath_by_dotpath().: Symbol(scip-python python automata 8f8ac79f556fe456d27324c5955e5c6b909ac8e1 `automata.navigation.py.dot_path_map`/DotPathMap#get_module_fpath_by_dotpath()., scip-python, Package(python automata 8f8ac79f556fe456d27324c5955e5c6b909ac8e1), (Descriptor(automata.navigation.py.dot_path_map, 1), Descriptor(DotPathMap, 2), Descriptor(get_module_fpath_by_dotpath, 4)))\n",
      "Error processing scip-python python automata 8f8ac79f556fe456d27324c5955e5c6b909ac8e1 `automata.navigation.py.dot_path_map`/DotPathMap#items().: Symbol(scip-python python automata 8f8ac79f556fe456d27324c5955e5c6b909ac8e1 `automata.navigation.py.dot_path_map`/DotPathMap#items()., scip-python, Package(python automata 8f8ac79f556fe456d27324c5955e5c6b909ac8e1), (Descriptor(automata.navigation.py.dot_path_map, 1), Descriptor(DotPathMap, 2), Descriptor(items, 4)))\n",
      "Error processing scip-python python automata 8f8ac79f556fe456d27324c5955e5c6b909ac8e1 `automata.navigation.py.dot_path_map`/DotPathMap#put_module().: Symbol(scip-python python automata 8f8ac79f556fe456d27324c5955e5c6b909ac8e1 `automata.navigation.py.dot_path_map`/DotPathMap#put_module()., scip-python, Package(python automata 8f8ac79f556fe456d27324c5955e5c6b909ac8e1), (Descriptor(automata.navigation.py.dot_path_map, 1), Descriptor(DotPathMap, 2), Descriptor(put_module, 4)))\n",
      "Error processing scip-python python automata 8f8ac79f556fe456d27324c5955e5c6b909ac8e1 `automata.navigation.py.dot_path_map`/convert_fpath_to_module_dotpath().: Symbol(scip-python python automata 8f8ac79f556fe456d27324c5955e5c6b909ac8e1 `automata.navigation.py.dot_path_map`/convert_fpath_to_module_dotpath()., scip-python, Package(python automata 8f8ac79f556fe456d27324c5955e5c6b909ac8e1), (Descriptor(automata.navigation.py.dot_path_map, 1), Descriptor(convert_fpath_to_module_dotpath, 4)))\n",
      " 82%|█████████████████████████████████████████████████████████████████████████████████████████████████████████████████████████████████████████████████████████████████████████████████████████████████████████████████████████████████████████████████████████████████████████▍                                                         | 521/634 [00:04<00:01, 66.95it/s]Error processing scip-python python automata 8f8ac79f556fe456d27324c5955e5c6b909ac8e1 `automata.symbol_embedding.base`/JSONSymbolEmbeddingVectorDatabase#: Symbol(scip-python python automata 8f8ac79f556fe456d27324c5955e5c6b909ac8e1 `automata.symbol_embedding.base`/JSONSymbolEmbeddingVectorDatabase#, scip-python, Package(python automata 8f8ac79f556fe456d27324c5955e5c6b909ac8e1), (Descriptor(automata.symbol_embedding.base, 1), Descriptor(JSONSymbolEmbeddingVectorDatabase, 2)))\n",
      "Error processing scip-python python automata 8f8ac79f556fe456d27324c5955e5c6b909ac8e1 `automata.symbol_embedding.base`/JSONSymbolEmbeddingVectorDatabase#__init__().: Symbol(scip-python python automata 8f8ac79f556fe456d27324c5955e5c6b909ac8e1 `automata.symbol_embedding.base`/JSONSymbolEmbeddingVectorDatabase#__init__()., scip-python, Package(python automata 8f8ac79f556fe456d27324c5955e5c6b909ac8e1), (Descriptor(automata.symbol_embedding.base, 1), Descriptor(JSONSymbolEmbeddingVectorDatabase, 2), Descriptor(__init__, 4)))\n",
      "Error processing scip-python python automata 8f8ac79f556fe456d27324c5955e5c6b909ac8e1 `automata.symbol_embedding.base`/JSONSymbolEmbeddingVectorDatabase#entry_to_key().: Symbol(scip-python python automata 8f8ac79f556fe456d27324c5955e5c6b909ac8e1 `automata.symbol_embedding.base`/JSONSymbolEmbeddingVectorDatabase#entry_to_key()., scip-python, Package(python automata 8f8ac79f556fe456d27324c5955e5c6b909ac8e1), (Descriptor(automata.symbol_embedding.base, 1), Descriptor(JSONSymbolEmbeddingVectorDatabase, 2), Descriptor(entry_to_key, 4)))\n",
      "Error processing scip-python python automata 8f8ac79f556fe456d27324c5955e5c6b909ac8e1 `automata.symbol_embedding.base`/JSONSymbolEmbeddingVectorDatabase#get_ordered_embeddings().: Symbol(scip-python python automata 8f8ac79f556fe456d27324c5955e5c6b909ac8e1 `automata.symbol_embedding.base`/JSONSymbolEmbeddingVectorDatabase#get_ordered_embeddings()., scip-python, Package(python automata 8f8ac79f556fe456d27324c5955e5c6b909ac8e1), (Descriptor(automata.symbol_embedding.base, 1), Descriptor(JSONSymbolEmbeddingVectorDatabase, 2), Descriptor(get_ordered_embeddings, 4)))\n",
      " 84%|██████████████████████████████████████████████████████████████████████████████████████████████████████████████████████████████████████████████████████████████████████████████████████████████████████████████████████████████████████████████████████████████████████████████▌                                                    | 531/634 [00:04<00:01, 66.93it/s]Error processing scip-python python automata 8f8ac79f556fe456d27324c5955e5c6b909ac8e1 `automata.symbol_embedding.base`/SymbolEmbeddingHandler#: Symbol(scip-python python automata 8f8ac79f556fe456d27324c5955e5c6b909ac8e1 `automata.symbol_embedding.base`/SymbolEmbeddingHandler#, scip-python, Package(python automata 8f8ac79f556fe456d27324c5955e5c6b909ac8e1), (Descriptor(automata.symbol_embedding.base, 1), Descriptor(SymbolEmbeddingHandler, 2)))\n",
      "Error processing scip-python python automata 8f8ac79f556fe456d27324c5955e5c6b909ac8e1 `automata.symbol_embedding.base`/SymbolEmbeddingHandler#__init__().: Symbol(scip-python python automata 8f8ac79f556fe456d27324c5955e5c6b909ac8e1 `automata.symbol_embedding.base`/SymbolEmbeddingHandler#__init__()., scip-python, Package(python automata 8f8ac79f556fe456d27324c5955e5c6b909ac8e1), (Descriptor(automata.symbol_embedding.base, 1), Descriptor(SymbolEmbeddingHandler, 2), Descriptor(__init__, 4)))\n",
      "Error processing scip-python python automata 8f8ac79f556fe456d27324c5955e5c6b909ac8e1 `automata.symbol_embedding.base`/SymbolEmbeddingHandler#_get_sorted_supported_symbols().: Symbol(scip-python python automata 8f8ac79f556fe456d27324c5955e5c6b909ac8e1 `automata.symbol_embedding.base`/SymbolEmbeddingHandler#_get_sorted_supported_symbols()., scip-python, Package(python automata 8f8ac79f556fe456d27324c5955e5c6b909ac8e1), (Descriptor(automata.symbol_embedding.base, 1), Descriptor(SymbolEmbeddingHandler, 2), Descriptor(_get_sorted_supported_symbols, 4)))\n",
      "Error processing scip-python python automata 8f8ac79f556fe456d27324c5955e5c6b909ac8e1 `automata.symbol_embedding.base`/SymbolEmbeddingHandler#filter_symbols().: Symbol(scip-python python automata 8f8ac79f556fe456d27324c5955e5c6b909ac8e1 `automata.symbol_embedding.base`/SymbolEmbeddingHandler#filter_symbols()., scip-python, Package(python automata 8f8ac79f556fe456d27324c5955e5c6b909ac8e1), (Descriptor(automata.symbol_embedding.base, 1), Descriptor(SymbolEmbeddingHandler, 2), Descriptor(filter_symbols, 4)))\n",
      "Error processing scip-python python automata 8f8ac79f556fe456d27324c5955e5c6b909ac8e1 `automata.symbol_embedding.base`/SymbolEmbeddingHandler#get_embedding().: Symbol(scip-python python automata 8f8ac79f556fe456d27324c5955e5c6b909ac8e1 `automata.symbol_embedding.base`/SymbolEmbeddingHandler#get_embedding()., scip-python, Package(python automata 8f8ac79f556fe456d27324c5955e5c6b909ac8e1), (Descriptor(automata.symbol_embedding.base, 1), Descriptor(SymbolEmbeddingHandler, 2), Descriptor(get_embedding, 4)))\n",
      "Error processing scip-python python automata 8f8ac79f556fe456d27324c5955e5c6b909ac8e1 `automata.symbol_embedding.base`/SymbolEmbeddingHandler#get_ordered_embeddings().: Symbol(scip-python python automata 8f8ac79f556fe456d27324c5955e5c6b909ac8e1 `automata.symbol_embedding.base`/SymbolEmbeddingHandler#get_ordered_embeddings()., scip-python, Package(python automata 8f8ac79f556fe456d27324c5955e5c6b909ac8e1), (Descriptor(automata.symbol_embedding.base, 1), Descriptor(SymbolEmbeddingHandler, 2), Descriptor(get_ordered_embeddings, 4)))\n"
     ]
    },
    {
     "name": "stderr",
     "output_type": "stream",
     "text": [
      "Error processing scip-python python automata 8f8ac79f556fe456d27324c5955e5c6b909ac8e1 `automata.symbol_embedding.base`/SymbolEmbeddingHandler#process_embedding().: Symbol(scip-python python automata 8f8ac79f556fe456d27324c5955e5c6b909ac8e1 `automata.symbol_embedding.base`/SymbolEmbeddingHandler#process_embedding()., scip-python, Package(python automata 8f8ac79f556fe456d27324c5955e5c6b909ac8e1), (Descriptor(automata.symbol_embedding.base, 1), Descriptor(SymbolEmbeddingHandler, 2), Descriptor(process_embedding, 4)))\n",
      "100%|██████████████████████████████████████████████████████████████████████████████████████████████████████████████████████████████████████████████████████████████████████████████████████████████████████████████████████████████████████████████████████████████████████████████████████████████████████████████████████████████████| 634/634 [00:06<00:00, 102.73it/s]\n"
     ]
    },
    {
     "name": "stdout",
     "output_type": "stream",
     "text": [
      "Demonstrating SymbolRank\n",
      "\n",
      "rank 0 = automata.symbol.base.Symbol with rank 0.007\n",
      "rank 1 = automata.agent.providers.OpenAIAutomataAgent with rank 0.004\n",
      "rank 2 = automata.code_handling.py.writer.PyWriter with rank 0.004\n",
      "rank 3 = automata.symbol.graph.SymbolGraph with rank 0.004\n",
      "rank 4 = automata.singletons.dependency_factory.DependencyFactory with rank 0.003\n",
      "rank 5 = automata.singletons.py_module_loader.PyModuleLoader with rank 0.003\n",
      "rank 6 = automata.retrievers.py.context.PyContextRetriever with rank 0.003\n",
      "rank 7 = automata.experimental.search.symbol_search.SymbolSearch with rank 0.003\n",
      "rank 8 = automata.core.base.database.vector.VectorDatabaseProvider with rank 0.003\n",
      "rank 9 = automata.tasks.environment.AutomataTaskEnvironment with rank 0.003\n"
     ]
    }
   ],
   "source": [
    "raw_ranks = symbol_search.symbol_rank.get_ranks()\n",
    "print(\"Demonstrating SymbolRank\\n\")\n",
    "for i,rank in enumerate(raw_ranks[0:10]):\n",
    "    print(f\"rank {i} = {rank[0].dotpath} with rank {rank[1]:.3f}\")"
   ]
  },
  {
   "cell_type": "code",
   "execution_count": 4,
   "id": "2ce0bb66",
   "metadata": {
    "scrolled": true
   },
   "outputs": [
    {
     "name": "stdout",
     "output_type": "stream",
     "text": [
      "Demonstrating SymbolRank results for query = `SymbolGraph`\n",
      "\n",
      "rank 0 = automata.symbol.base.Symbol with rank 0.012\n",
      "rank 1 = automata.symbol.graph.SymbolGraph with rank 0.011\n",
      "rank 2 = automata.symbol.graph.GraphBuilder with rank 0.006\n",
      "rank 3 = automata.experimental.search.symbol_search.SymbolSearch with rank 0.005\n",
      "rank 4 = automata.singletons.dependency_factory.DependencyFactory.create_symbol_graph with rank 0.005\n",
      "rank 5 = automata.retrievers.py.context.PyContextRetriever with rank 0.005\n",
      "rank 6 = automata.singletons.dependency_factory.DependencyFactory.create_subgraph with rank 0.005\n",
      "rank 7 = automata.symbol_embedding.base.SymbolDocEmbedding with rank 0.005\n",
      "rank 8 = automata.singletons.dependency_factory.DependencyFactory with rank 0.005\n",
      "rank 9 = automata.symbol.graph._RelationshipProcessor with rank 0.005\n"
     ]
    }
   ],
   "source": [
    "query = \"SymbolGraph\"\n",
    "symbol_rank_search_results = symbol_search.symbol_rank_search(query)\n",
    "print(\"Demonstrating SymbolRank results for query = `SymbolGraph`\\n\")\n",
    "raw_ranks = symbol_search.symbol_rank.get_ranks()\n",
    "for i,rank in enumerate(symbol_rank_search_results[0:10]):\n",
    "    print(f\"rank {i} = {rank[0].dotpath} with rank {rank[1]:.3f}\")"
   ]
  },
  {
   "cell_type": "code",
   "execution_count": 5,
   "id": "4ec627fb",
   "metadata": {},
   "outputs": [
    {
     "name": "stdout",
     "output_type": "stream",
     "text": [
      "Demonstrating code embedding search results for query = `SymbolGraph`\n",
      "\n",
      "rank 0 = automata.symbol.graph.SymbolGraph with distance 0.785\n",
      "rank 1 = automata.singletons.dependency_factory.DependencyFactory.create_symbol_graph with distance 0.761\n",
      "rank 2 = automata.singletons.dependency_factory.DependencyFactory.create_subgraph with distance 0.758\n",
      "rank 3 = automata.symbol.graph.SymbolGraph.filter_symbols with distance 0.753\n",
      "rank 4 = automata.symbol.graph.GraphBuilder._add_symbol_vertices with distance 0.745\n",
      "rank 5 = automata.symbol.graph.GraphBuilder with distance 0.744\n",
      "rank 6 = automata.symbol.graph._SymbolGraphNavigator.get_symbol_relationships with distance 0.744\n",
      "rank 7 = automata.symbol.graph._SymbolGraphNavigator.get_sorted_supported_symbols with distance 0.744\n",
      "rank 8 = automata.symbol.graph._CallerCalleeProcessor.__init__ with distance 0.743\n",
      "rank 9 = automata.experimental.search.symbol_search.SymbolSearch.symbol_rank with distance 0.741\n"
     ]
    }
   ],
   "source": [
    "embedding_similarity_calculator = dependency_factory.get('embedding_similarity_calculator')\n",
    "code_embeddings = symbol_code_embedding_handler.get_ordered_embeddings()\n",
    "\n",
    "print(\"Demonstrating code embedding search results for query = `SymbolGraph`\\n\")\n",
    "code_similarity_results = embedding_similarity_calculator.calculate_query_similarity_dict(code_embeddings, query)\n",
    "for i,rank in enumerate(list(code_similarity_results.items())[0:10]):\n",
    "    print(f\"rank {i} = {rank[0].dotpath} with distance {rank[1]:.3f}\")"
   ]
  },
  {
   "cell_type": "code",
   "execution_count": 6,
   "id": "eb9c2a74",
   "metadata": {},
   "outputs": [
    {
     "name": "stdout",
     "output_type": "stream",
     "text": [
      "Demonstrating doc embedding search results for query = `SymbolGraph`\n",
      "\n",
      "rank 0 = automata.symbol.graph.SymbolGraph.default_rankable_subgraph with distance 0.827\n",
      "rank 1 = automata.symbol.graph.SymbolGraph._build_default_rankable_subgraph with distance 0.822\n",
      "rank 2 = automata.symbol.graph.SymbolGraph.__init__ with distance 0.816\n",
      "rank 3 = automata.symbol.graph.SymbolGraph.filter_symbols with distance 0.813\n",
      "rank 4 = automata.symbol.graph.GraphBuilder.__init__ with distance 0.809\n",
      "rank 5 = automata.symbol.graph._SymbolGraphNavigator.__init__ with distance 0.809\n",
      "rank 6 = automata.symbol.graph.SymbolGraph.get_references_to_symbol with distance 0.805\n",
      "rank 7 = automata.symbol.graph._SymbolGraphNavigator.get_symbol_relationships with distance 0.805\n",
      "rank 8 = automata.symbol.graph.GraphBuilder._process_relationships with distance 0.805\n",
      "rank 9 = automata.singletons.dependency_factory.DependencyFactory.create_subgraph with distance 0.803\n"
     ]
    }
   ],
   "source": [
    "doc_embeddings = symbol_doc_embedding_handler.get_ordered_embeddings()\n",
    "\n",
    "print(\"Demonstrating doc embedding search results for query = `SymbolGraph`\\n\")\n",
    "doc_similarity_results = embedding_similarity_calculator.calculate_query_similarity_dict(doc_embeddings, query)\n",
    "for i,rank in enumerate(list(doc_similarity_results.items())[0:10]):\n",
    "    print(f\"rank {i} = {rank[0].dotpath} with distance {rank[1]:.3f}\")"
   ]
  }
 ],
 "metadata": {
  "kernelspec": {
   "display_name": "Python 3 (ipykernel)",
   "language": "python",
   "name": "python3"
  },
  "language_info": {
   "codemirror_mode": {
    "name": "ipython",
    "version": 3
   },
   "file_extension": ".py",
   "mimetype": "text/x-python",
   "name": "python",
   "nbconvert_exporter": "python",
   "pygments_lexer": "ipython3",
   "version": "3.9.13"
  }
 },
 "nbformat": 4,
 "nbformat_minor": 5
}
