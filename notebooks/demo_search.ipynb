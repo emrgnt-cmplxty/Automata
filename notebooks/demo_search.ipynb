{
 "cells": [
  {
   "cell_type": "code",
   "execution_count": 1,
   "id": "659850e4",
   "metadata": {},
   "outputs": [],
   "source": [
    "import logging\n",
    "from typing import Any, Set\n",
    "\n",
    "from automata.config.base import AgentConfigName\n",
    "from automata.core.singletons.dependency_factory import dependency_factory\n",
    "from automata.core.singletons.py_module_loader import py_module_loader\n",
    "from automata.core.context_providers.symbol_synchronization import (\n",
    "    SymbolProviderSynchronizationContext,\n",
    ")\n",
    "    \n",
    "logger = logging.getLogger(__name__)\n",
    "\n",
    "py_module_loader.initialize()"
   ]
  },
  {
   "cell_type": "code",
   "execution_count": 2,
   "id": "9389cb3f",
   "metadata": {
    "scrolled": true
   },
   "outputs": [],
   "source": [
    "symbol_search = dependency_factory.get('symbol_search')\n",
    "symbol_code_embedding_handler = dependency_factory.get('symbol_code_embedding_handler')\n",
    "symbol_doc_embedding_handler = dependency_factory.get('symbol_doc_embedding_handler')"
   ]
  },
  {
   "cell_type": "code",
   "execution_count": 3,
   "id": "988b52cc",
   "metadata": {
    "scrolled": true
   },
   "outputs": [
    {
     "name": "stderr",
     "output_type": "stream",
     "text": [
      "100%|████████████████████████████████████████████████████████████████████████████████████████████████████████████████████████████████████████████████████████████████████████| 814/814 [00:05<00:00, 161.58it/s]"
     ]
    },
    {
     "name": "stdout",
     "output_type": "stream",
     "text": [
      "Demonstrating SymbolRank\n",
      "\n",
      "rank 0 = automata.core.symbol.base.Symbol with rank 0.006\n",
      "rank 1 = automata.core.agent.providers.OpenAIAutomataAgent with rank 0.003\n",
      "rank 2 = automata.core.code_handling.py.writer.PyWriter with rank 0.003\n",
      "rank 3 = automata.core.symbol.graph.SymbolGraph with rank 0.003\n",
      "rank 4 = automata.core.tasks.tasks.AutomataTask with rank 0.003\n",
      "rank 5 = automata.core.code_handling.py.reader.PyReader with rank 0.003\n",
      "rank 6 = automata.core.tools.base.Tool with rank 0.003\n",
      "rank 7 = automata.core.retrievers.py.context.PyContextRetriever with rank 0.002\n",
      "rank 8 = automata.core.singletons.dependency_factory.DependencyFactory with rank 0.002\n",
      "rank 9 = automata.core.llm.foundation.LLMChatMessage with rank 0.002\n"
     ]
    },
    {
     "name": "stderr",
     "output_type": "stream",
     "text": [
      "\n"
     ]
    }
   ],
   "source": [
    "raw_ranks = symbol_search.symbol_rank.get_ranks()\n",
    "print(\"Demonstrating SymbolRank\\n\")\n",
    "for i,rank in enumerate(raw_ranks[0:10]):\n",
    "    print(f\"rank {i} = {rank[0].dotpath} with rank {rank[1]:.3f}\")"
   ]
  },
  {
   "cell_type": "code",
   "execution_count": 4,
   "id": "2ce0bb66",
   "metadata": {
    "scrolled": true
   },
   "outputs": [
    {
     "name": "stdout",
     "output_type": "stream",
     "text": [
      "Demonstrating SymbolRank results for query = `SymbolGraph`\n",
      "\n",
      "rank 0 = automata.core.symbol.graph.SymbolGraph with rank 0.019\n",
      "rank 1 = automata.core.symbol.base.Symbol with rank 0.011\n",
      "rank 2 = automata.tests.unit.test_symbol_graph.test_build_real_graph with rank 0.010\n",
      "rank 3 = automata.tests.unit.test_symbol_graph.test_build_real_graph_and_subgraph with rank 0.010\n",
      "rank 4 = automata.tests.unit.test_symbol_rank.test_get_ranks_small_graph with rank 0.010\n",
      "rank 5 = automata.core.singletons.dependency_factory.DependencyFactory.create_symbol_graph with rank 0.008\n",
      "rank 6 = automata.core.symbol.graph.GraphBuilder with rank 0.008\n",
      "rank 7 = automata.tests.unit.test_synchronizer.test_build_graph_and_handler_and_synchronize with rank 0.008\n",
      "rank 8 = automata.core.singletons.dependency_factory.DependencyFactory.create_subgraph with rank 0.007\n",
      "rank 9 = automata.tests.utils.factories.symbol_graph_static_test with rank 0.007\n"
     ]
    }
   ],
   "source": [
    "query = \"SymbolGraph\"\n",
    "symbol_rank_search_results = symbol_search.symbol_rank_search(query)\n",
    "print(\"Demonstrating SymbolRank results for query = `SymbolGraph`\\n\")\n",
    "raw_ranks = symbol_search.symbol_rank.get_ranks()\n",
    "for i,rank in enumerate(symbol_rank_search_results[0:10]):\n",
    "    print(f\"rank {i} = {rank[0].dotpath} with rank {rank[1]:.3f}\")"
   ]
  },
  {
   "cell_type": "code",
   "execution_count": 5,
   "id": "4ec627fb",
   "metadata": {},
   "outputs": [
    {
     "name": "stdout",
     "output_type": "stream",
     "text": [
      "Demonstrating code embedding search results for query = `SymbolGraph`\n",
      "\n",
      "rank 0 = automata.core.symbol.graph.SymbolGraph with distance 0.784\n",
      "rank 1 = automata.tests.unit.test_symbol_graph.test_build_real_graph with distance 0.769\n",
      "rank 2 = automata.tests.unit.test_symbol_graph.test_build_real_graph_and_subgraph with distance 0.768\n",
      "rank 3 = automata.tests.unit.test_symbol_rank.test_get_ranks_small_graph with distance 0.766\n",
      "rank 4 = automata.core.singletons.dependency_factory.DependencyFactory.create_symbol_graph with distance 0.761\n",
      "rank 5 = automata.core.singletons.dependency_factory.DependencyFactory.create_subgraph with distance 0.758\n",
      "rank 6 = automata.tests.unit.test_synchronizer.test_build_graph_and_handler_and_synchronize with distance 0.756\n",
      "rank 7 = automata.core.symbol.graph.SymbolGraph.filter_symbols with distance 0.753\n",
      "rank 8 = automata.tests.utils.factories.symbol_graph_static_test with distance 0.751\n",
      "rank 9 = automata.tests.conftest.symbol_graph_mock with distance 0.750\n"
     ]
    }
   ],
   "source": [
    "embedding_similarity_calculator = dependency_factory.get('embedding_similarity_calculator')\n",
    "code_embeddings = symbol_code_embedding_handler.get_ordered_embeddings()\n",
    "\n",
    "print(\"Demonstrating code embedding search results for query = `SymbolGraph`\\n\")\n",
    "code_similarity_results = embedding_similarity_calculator.calculate_query_similarity_dict(code_embeddings, query)\n",
    "for i,rank in enumerate(list(code_similarity_results.items())[0:10]):\n",
    "    print(f\"rank {i} = {rank[0].dotpath} with distance {rank[1]:.3f}\")"
   ]
  },
  {
   "cell_type": "code",
   "execution_count": 6,
   "id": "eb9c2a74",
   "metadata": {},
   "outputs": [
    {
     "name": "stdout",
     "output_type": "stream",
     "text": [
      "Demonstrating doc embedding search results for query = `SymbolGraph`\n",
      "\n",
      "rank 0 = automata.tests.unit.test_symbol_graph.test_build_real_graph_and_subgraph with distance 0.836\n",
      "rank 1 = automata.tests.unit.test_symbol_graph.test_build_real_graph with distance 0.833\n",
      "rank 2 = automata.core.symbol.graph.SymbolGraph.default_rankable_subgraph with distance 0.827\n",
      "rank 3 = automata.tests.unit.test_symbol_rank.test_generate_random_graph with distance 0.824\n",
      "rank 4 = automata.core.symbol.graph.SymbolGraph._build_default_rankable_subgraph with distance 0.822\n",
      "rank 5 = automata.core.symbol.graph.SymbolGraph.__init__ with distance 0.816\n",
      "rank 6 = automata.tests.unit.test_symbol_rank.test_get_ranks_small_graph with distance 0.815\n",
      "rank 7 = automata.core.symbol.graph.SymbolGraph.filter_symbols with distance 0.813\n",
      "rank 8 = automata.tests.unit.test_symbol_graph.test_get_all_symbols with distance 0.811\n",
      "rank 9 = automata.core.symbol.graph.GraphBuilder.__init__ with distance 0.809\n"
     ]
    }
   ],
   "source": [
    "doc_embeddings = symbol_doc_embedding_handler.get_ordered_embeddings()\n",
    "\n",
    "print(\"Demonstrating doc embedding search results for query = `SymbolGraph`\\n\")\n",
    "doc_similarity_results = embedding_similarity_calculator.calculate_query_similarity_dict(doc_embeddings, query)\n",
    "for i,rank in enumerate(list(doc_similarity_results.items())[0:10]):\n",
    "    print(f\"rank {i} = {rank[0].dotpath} with distance {rank[1]:.3f}\")"
   ]
  }
 ],
 "metadata": {
  "kernelspec": {
   "display_name": "Python 3 (ipykernel)",
   "language": "python",
   "name": "python3"
  },
  "language_info": {
   "codemirror_mode": {
    "name": "ipython",
    "version": 3
   },
   "file_extension": ".py",
   "mimetype": "text/x-python",
   "name": "python",
   "nbconvert_exporter": "python",
   "pygments_lexer": "ipython3",
   "version": "3.9.13"
  }
 },
 "nbformat": 4,
 "nbformat_minor": 5
}
