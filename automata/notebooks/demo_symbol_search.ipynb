{
 "cells": [
  {
   "cell_type": "code",
   "execution_count": 1,
   "id": "659850e4",
   "metadata": {},
   "outputs": [
    {
     "ename": "ModuleNotFoundError",
     "evalue": "No module named 'automata.core.agent.tool'",
     "output_type": "error",
     "traceback": [
      "\u001b[0;31m---------------------------------------------------------------------------\u001b[0m",
      "\u001b[0;31mModuleNotFoundError\u001b[0m                       Traceback (most recent call last)",
      "Cell \u001b[0;32mIn[1], line 5\u001b[0m\n\u001b[1;32m      2\u001b[0m \u001b[38;5;28;01mfrom\u001b[39;00m \u001b[38;5;21;01mtyping\u001b[39;00m \u001b[38;5;28;01mimport\u001b[39;00m Any, Set\n\u001b[1;32m      4\u001b[0m \u001b[38;5;28;01mfrom\u001b[39;00m \u001b[38;5;21;01mautomata\u001b[39;00m\u001b[38;5;21;01m.\u001b[39;00m\u001b[38;5;21;01mconfig\u001b[39;00m\u001b[38;5;21;01m.\u001b[39;00m\u001b[38;5;21;01mbase\u001b[39;00m \u001b[38;5;28;01mimport\u001b[39;00m AgentConfigName\n\u001b[0;32m----> 5\u001b[0m \u001b[38;5;28;01mfrom\u001b[39;00m \u001b[38;5;21;01mautomata\u001b[39;00m\u001b[38;5;21;01m.\u001b[39;00m\u001b[38;5;21;01mcore\u001b[39;00m\u001b[38;5;21;01m.\u001b[39;00m\u001b[38;5;21;01magent\u001b[39;00m\u001b[38;5;21;01m.\u001b[39;00m\u001b[38;5;21;01mtool\u001b[39;00m\u001b[38;5;21;01m.\u001b[39;00m\u001b[38;5;21;01mtool_utils\u001b[39;00m \u001b[38;5;28;01mimport\u001b[39;00m DependencyFactory\n\u001b[1;32m      6\u001b[0m \u001b[38;5;28;01mfrom\u001b[39;00m \u001b[38;5;21;01mautomata\u001b[39;00m\u001b[38;5;21;01m.\u001b[39;00m\u001b[38;5;21;01mcore\u001b[39;00m\u001b[38;5;21;01m.\u001b[39;00m\u001b[38;5;21;01mcoding\u001b[39;00m\u001b[38;5;21;01m.\u001b[39;00m\u001b[38;5;21;01mpy\u001b[39;00m\u001b[38;5;21;01m.\u001b[39;00m\u001b[38;5;21;01mmodule_loader\u001b[39;00m \u001b[38;5;28;01mimport\u001b[39;00m py_module_loader\n\u001b[1;32m      9\u001b[0m logger \u001b[38;5;241m=\u001b[39m logging\u001b[38;5;241m.\u001b[39mgetLogger(\u001b[38;5;18m__name__\u001b[39m)\n",
      "\u001b[0;31mModuleNotFoundError\u001b[0m: No module named 'automata.core.agent.tool'"
     ]
    }
   ],
   "source": [
    "import logging\n",
    "from typing import Any, Set\n",
    "\n",
    "from automata.config.base import AgentConfigName\n",
    "from automata.core.agent.tool.tool_utils import DependencyFactory\n",
    "from automata.core.coding.py.module_loader import py_module_loader\n",
    "\n",
    "    \n",
    "logger = logging.getLogger(__name__)\n",
    "\n",
    "py_module_loader.initialize()"
   ]
  },
  {
   "cell_type": "code",
   "execution_count": null,
   "id": "9389cb3f",
   "metadata": {
    "scrolled": true
   },
   "outputs": [],
   "source": [
    "symbol_search = DependencyFactory().get('symbol_search')"
   ]
  },
  {
   "cell_type": "code",
   "execution_count": null,
   "id": "ddea41cb",
   "metadata": {},
   "outputs": [],
   "source": [
    "graph_symbols = symbol_search.symbol_graph.get_all_available_symbols()\n",
    "embedding_symbols = symbol_search.symbol_code_similarity.embedding_handler.get_all_supported_symbols()\n",
    "available_symbols = set(graph_symbols).intersection(set(embedding_symbols))"
   ]
  },
  {
   "cell_type": "code",
   "execution_count": null,
   "id": "b2e15a48",
   "metadata": {},
   "outputs": [],
   "source": [
    "print(f\"The search symbol_graph has {len(graph_symbols)} symbols\")"
   ]
  },
  {
   "cell_type": "code",
   "execution_count": null,
   "id": "d5d1e571",
   "metadata": {},
   "outputs": [],
   "source": [
    "print(f\"The search embedding has {len(embedding_symbols)}\")"
   ]
  },
  {
   "cell_type": "code",
   "execution_count": 2,
   "id": "2ddadc12",
   "metadata": {},
   "outputs": [
    {
     "ename": "NameError",
     "evalue": "name 'available_symbols' is not defined",
     "output_type": "error",
     "traceback": [
      "\u001b[0;31m---------------------------------------------------------------------------\u001b[0m",
      "\u001b[0;31mNameError\u001b[0m                                 Traceback (most recent call last)",
      "Cell \u001b[0;32mIn[2], line 1\u001b[0m\n\u001b[0;32m----> 1\u001b[0m \u001b[38;5;28mprint\u001b[39m(\u001b[38;5;124mf\u001b[39m\u001b[38;5;124m\"\u001b[39m\u001b[38;5;124mThe intersection of the symbol_graph and the embedding \u001b[39m\u001b[38;5;132;01m{\u001b[39;00m\u001b[38;5;28mlen\u001b[39m(available_symbols)\u001b[38;5;132;01m}\u001b[39;00m\u001b[38;5;124m symbols\u001b[39m\u001b[38;5;124m\"\u001b[39m)\n",
      "\u001b[0;31mNameError\u001b[0m: name 'available_symbols' is not defined"
     ]
    }
   ],
   "source": [
    "print(f\"The intersection of the symbol_graph and the embedding {len(available_symbols)} symbols\")"
   ]
  },
  {
   "cell_type": "code",
   "execution_count": 7,
   "id": "988b52cc",
   "metadata": {
    "scrolled": true
   },
   "outputs": [
    {
     "name": "stdout",
     "output_type": "stream",
     "text": [
      "rank 0 = automata.core.coding.py.writer.PyWriter with rank 0.003\n",
      "rank 1 = automata.core.symbol.graph.SymbolGraph with rank 0.003\n",
      "rank 2 = automata.core.base.database.vector.JSONVectorDatabase with rank 0.003\n",
      "rank 3 = automata.core.agent.task.task.AutomataTask with rank 0.003\n",
      "rank 4 = automata.core.base.tool.Tool with rank 0.003\n",
      "rank 5 = automata.core.coding.py.reader.PyReader with rank 0.003\n",
      "rank 6 = automata.core.context.py.retriever.PyContextRetriever with rank 0.003\n",
      "rank 7 = automata.core.agent.tool.tool_utils.DependencyFactory with rank 0.003\n",
      "rank 8 = automata.core.symbol.search.symbol_search.SymbolSearch with rank 0.003\n",
      "rank 9 = automata.core.symbol.parser.parse_symbol with rank 0.003\n"
     ]
    }
   ],
   "source": [
    "raw_ranks = symbol_search.symbol_rank.get_ranks()\n",
    "for i,rank in enumerate(raw_ranks[0:10]):\n",
    "    print(f\"rank {i} = {rank[0].dotpath} with rank {rank[1]:.3f}\")"
   ]
  },
  {
   "cell_type": "code",
   "execution_count": 8,
   "id": "2ce0bb66",
   "metadata": {
    "scrolled": true
   },
   "outputs": [
    {
     "name": "stdout",
     "output_type": "stream",
     "text": [
      "rank 0 = automata.core.symbol.graph.SymbolGraph with rank 0.024\n",
      "rank 1 = automata.core.symbol.graph.SymbolGraph.SubGraph with rank 0.013\n",
      "rank 2 = automata.tests.unit.test_symbol_rank.test_get_ranks_small_graph with rank 0.011\n",
      "rank 3 = automata.tests.unit.test_symbol_graph.test_get_all_symbols with rank 0.011\n",
      "rank 4 = automata.core.agent.tool.tool_utils.DependencyFactory.create_symbol_graph with rank 0.010\n",
      "rank 5 = automata.core.symbol.graph.GraphBuilder with rank 0.010\n",
      "rank 6 = automata.tests.utils.factories.symbol_graph_static_test with rank 0.008\n",
      "rank 7 = automata.tests.conftest.symbol_graph_mock with rank 0.008\n",
      "rank 8 = automata.core.symbol.graph._SymbolGraphNavigator.get_all_available_symbols with rank 0.008\n",
      "rank 9 = automata.core.agent.tool.tool_utils.DependencyFactory.create_subgraph with rank 0.007\n"
     ]
    }
   ],
   "source": [
    "symbol_rank_search_results = symbol_search.symbol_rank_search(\"SymbolGraph\")\n",
    "raw_ranks = symbol_search.symbol_rank.get_ranks()\n",
    "for i,rank in enumerate(symbol_rank_search_results[0:10]):\n",
    "    print(f\"rank {i} = {rank[0].dotpath} with rank {rank[1]:.3f}\")"
   ]
  }
 ],
 "metadata": {
  "kernelspec": {
   "display_name": "Python 3 (ipykernel)",
   "language": "python",
   "name": "python3"
  },
  "language_info": {
   "codemirror_mode": {
    "name": "ipython",
    "version": 3
   },
   "file_extension": ".py",
   "mimetype": "text/x-python",
   "name": "python",
   "nbconvert_exporter": "python",
   "pygments_lexer": "ipython3",
   "version": "3.9.13"
  }
 },
 "nbformat": 4,
 "nbformat_minor": 5
}
