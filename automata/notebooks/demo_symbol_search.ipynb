{
 "cells": [
  {
   "cell_type": "code",
   "execution_count": 1,
   "id": "659850e4",
   "metadata": {},
   "outputs": [],
   "source": [
    "import logging\n",
    "from typing import Any, Set\n",
    "\n",
    "from automata.config.agent_config_builder import AutomataAgentConfigBuilder\n",
    "from automata.config.config_types import AgentConfigName\n",
    "from automata.core.agent.agent import AutomataAgent\n",
    "from automata.core.agent.tools.tool_utils import (\n",
    "    AgentToolFactory,\n",
    "    DependencyFactory,\n",
    "    build_llm_toolkits,\n",
    ")\n",
    "from automata.core.base.tool import ToolkitType\n",
    "\n",
    "logger = logging.getLogger(__name__)\n",
    "\n"
   ]
  },
  {
   "cell_type": "code",
   "execution_count": 2,
   "id": "9389cb3f",
   "metadata": {
    "scrolled": true
   },
   "outputs": [
    {
     "name": "stderr",
     "output_type": "stream",
     "text": [
      "100%|███████████████████████████████████████████████████████████████████████████████████████████████████████████████████████████████████████████████████████████████████████| 698/698 [00:00<00:00, 3385.18it/s]\n"
     ]
    }
   ],
   "source": [
    "symbol_search = DependencyFactory().get('symbol_search')"
   ]
  },
  {
   "cell_type": "code",
   "execution_count": 3,
   "id": "ddea41cb",
   "metadata": {},
   "outputs": [],
   "source": [
    "graph_symbols = symbol_search.symbol_graph.get_all_available_symbols()\n",
    "embedding_symbols = symbol_search.symbol_code_similarity.embedding_handler.get_all_supported_symbols()\n",
    "available_symbols = set(graph_symbols).intersection(set(embedding_symbols))"
   ]
  },
  {
   "cell_type": "code",
   "execution_count": 4,
   "id": "b2e15a48",
   "metadata": {},
   "outputs": [
    {
     "name": "stdout",
     "output_type": "stream",
     "text": [
      "The search symbol_graph has 2427 symbols\n"
     ]
    }
   ],
   "source": [
    "print(f\"The search symbol_graph has {len(graph_symbols)} symbols\")"
   ]
  },
  {
   "cell_type": "code",
   "execution_count": 5,
   "id": "d5d1e571",
   "metadata": {},
   "outputs": [
    {
     "name": "stdout",
     "output_type": "stream",
     "text": [
      "The search embedding has 698\n"
     ]
    }
   ],
   "source": [
    "print(f\"The search embedding has {len(embedding_symbols)}\")"
   ]
  },
  {
   "cell_type": "code",
   "execution_count": 6,
   "id": "2ddadc12",
   "metadata": {},
   "outputs": [
    {
     "name": "stdout",
     "output_type": "stream",
     "text": [
      "The intersection of the symbol_graph and the embedding 698 symbols\n"
     ]
    }
   ],
   "source": [
    "print(f\"The intersection of the symbol_graph and the embedding {len(available_symbols)} symbols\")"
   ]
  },
  {
   "cell_type": "code",
   "execution_count": 7,
   "id": "988b52cc",
   "metadata": {
    "scrolled": true
   },
   "outputs": [
    {
     "name": "stdout",
     "output_type": "stream",
     "text": [
      "rank 0 = automata.core.symbol.symbol_types.Symbol with rank 0.007\n",
      "rank 1 = automata.core.agent.agent.AutomataAgent with rank 0.004\n",
      "rank 2 = automata.core.coding.py_coding.writer.PyCodeWriter with rank 0.004\n",
      "rank 3 = automata.core.symbol.graph.SymbolGraph with rank 0.003\n",
      "rank 4 = automata.core.base.tool.Tool with rank 0.003\n",
      "rank 5 = automata.core.database.vector.JSONVectorDatabase with rank 0.003\n",
      "rank 6 = automata.config.config_types.AgentConfigName with rank 0.003\n",
      "rank 7 = automata.core.coding.py_coding.module_tree.LazyModuleTreeMap with rank 0.003\n",
      "rank 8 = automata.core.coding.py_coding.retriever.PyCodeRetriever with rank 0.003\n",
      "rank 9 = automata.core.agent.action.AutomataActionExtractor with rank 0.003\n"
     ]
    }
   ],
   "source": [
    "raw_ranks = symbol_search.symbol_rank.get_ranks()\n",
    "for i,rank in enumerate(raw_ranks[0:10]):\n",
    "    print(f\"rank {i} = {rank[0].dotpath} with rank {rank[1]:.3f}\")"
   ]
  },
  {
   "cell_type": "code",
   "execution_count": 8,
   "id": "c2e917cb",
   "metadata": {},
   "outputs": [],
   "source": [
    "symbol_rank_search_results = symbol_search.symbol_rank_search(\"SymbolRank\")"
   ]
  },
  {
   "cell_type": "code",
   "execution_count": 9,
   "id": "2ce0bb66",
   "metadata": {
    "scrolled": true
   },
   "outputs": [
    {
     "name": "stdout",
     "output_type": "stream",
     "text": [
      "rank 0 = automata.tests.unit.test_symbol_search_tool.test_symbol_rank_search with rank 0.014\n",
      "rank 1 = automata.tests.unit.test_symbol_rank.test_get_ranks with rank 0.014\n",
      "rank 2 = automata.tests.unit.test_symbol_rank.test_get_ranks_small_graph with rank 0.011\n",
      "rank 3 = automata.core.symbol.symbol_types.Symbol with rank 0.010\n",
      "rank 4 = automata.tests.unit.test_symbol_rank.test_prepare_initial_ranks with rank 0.010\n",
      "rank 5 = automata.core.symbol.search.rank.SymbolRank with rank 0.009\n",
      "rank 6 = automata.core.symbol.search.rank.SymbolRankConfig with rank 0.008\n",
      "rank 7 = automata.tests.regression.test_symbol_searcher_regression.test_symbol_rank_search_on_symbol with rank 0.007\n",
      "rank 8 = automata.tests.unit.test_symbol_graph.test_build_real_graph_and_subgraph with rank 0.006\n",
      "rank 9 = automata.core.symbol.search.rank.SymbolRank.get_ranks with rank 0.006\n"
     ]
    }
   ],
   "source": [
    "raw_ranks = symbol_search.symbol_rank.get_ranks()\n",
    "for i,rank in enumerate(symbol_rank_search_results[0:10]):\n",
    "    print(f\"rank {i} = {rank[0].dotpath} with rank {rank[1]:.3f}\")\n",
    "    \n",
    "# TODO - Why do test classes and methods rank so highly??"
   ]
  }
 ],
 "metadata": {
  "kernelspec": {
   "display_name": "Python 3 (ipykernel)",
   "language": "python",
   "name": "python3"
  },
  "language_info": {
   "codemirror_mode": {
    "name": "ipython",
    "version": 3
   },
   "file_extension": ".py",
   "mimetype": "text/x-python",
   "name": "python",
   "nbconvert_exporter": "python",
   "pygments_lexer": "ipython3",
   "version": "3.9.13"
  }
 },
 "nbformat": 4,
 "nbformat_minor": 5
}
