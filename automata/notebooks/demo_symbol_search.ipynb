{
 "cells": [
  {
   "cell_type": "code",
   "execution_count": 1,
   "id": "659850e4",
   "metadata": {},
   "outputs": [],
   "source": [
    "import logging\n",
    "from typing import Any, Set\n",
    "\n",
    "from automata.config.base import AgentConfigName\n",
    "from automata.core.singletons.dependency_factory import dependency_factory\n",
    "from automata.core.singletons.py_module_loader import py_module_loader\n",
    "from automata.core.context_providers.symbol_synchronization import (\n",
    "    SymbolProviderSynchronizationContext,\n",
    ")\n",
    "    \n",
    "logger = logging.getLogger(__name__)\n",
    "\n",
    "py_module_loader.initialize()"
   ]
  },
  {
   "cell_type": "code",
   "execution_count": 2,
   "id": "9389cb3f",
   "metadata": {
    "scrolled": true
   },
   "outputs": [],
   "source": [
    "symbol_search = dependency_factory.get('symbol_search')"
   ]
  },
  {
   "cell_type": "code",
   "execution_count": 3,
   "id": "ddea41cb",
   "metadata": {},
   "outputs": [],
   "source": [
    "with SymbolProviderSynchronizationContext() as synchronization_context:\n",
    "    synchronization_context.register_provider(symbol_search.symbol_graph)\n",
    "    synchronization_context.register_provider(symbol_search.search_embedding_handler)\n",
    "    synchronization_context.synchronize()\n",
    "\n",
    "graph_symbols = symbol_search.symbol_graph.get_sorted_supported_symbols()\n",
    "embedding_symbols = symbol_search.search_embedding_handler.get_sorted_supported_symbols()\n",
    "available_symbols = set(graph_symbols).intersection(set(embedding_symbols))"
   ]
  },
  {
   "cell_type": "code",
   "execution_count": 4,
   "id": "b2e15a48",
   "metadata": {},
   "outputs": [
    {
     "name": "stdout",
     "output_type": "stream",
     "text": [
      "The search symbol_graph has 816 symbols\n"
     ]
    }
   ],
   "source": [
    "print(f\"The search symbol_graph has {len(graph_symbols)} symbols\")"
   ]
  },
  {
   "cell_type": "code",
   "execution_count": 5,
   "id": "d5d1e571",
   "metadata": {},
   "outputs": [
    {
     "name": "stdout",
     "output_type": "stream",
     "text": [
      "The search embedding has 816\n"
     ]
    }
   ],
   "source": [
    "print(f\"The search embedding has {len(embedding_symbols)}\")"
   ]
  },
  {
   "cell_type": "code",
   "execution_count": 6,
   "id": "2ddadc12",
   "metadata": {},
   "outputs": [
    {
     "name": "stdout",
     "output_type": "stream",
     "text": [
      "The intersection of the symbol_graph and the embedding 816 symbols\n"
     ]
    }
   ],
   "source": [
    "print(f\"The intersection of the symbol_graph and the embedding {len(available_symbols)} symbols\")"
   ]
  },
  {
   "cell_type": "code",
   "execution_count": null,
   "id": "988b52cc",
   "metadata": {
    "scrolled": false
   },
   "outputs": [
    {
     "name": "stderr",
     "output_type": "stream",
     "text": [
      "Error computing bounding box for scip-python python automata 0cc8e17eb22689787fe72715fc99e5bca7cfab0e `automata.cli.scripts.run_doc_embedding_l2`/main().: Module descriptor automata.cli.scripts.run_doc_embedding_l2 not found\n",
      "Error computing bounding box for scip-python python automata 0cc8e17eb22689787fe72715fc99e5bca7cfab0e `automata.cli.scripts.run_doc_embedding_l3`/main().: Module descriptor automata.cli.scripts.run_doc_embedding_l3 not found\n"
     ]
    }
   ],
   "source": [
    "raw_ranks = symbol_search.symbol_rank.get_ranks()\n",
    "for i,rank in enumerate(raw_ranks[0:10]):\n",
    "    print(f\"rank {i} = {rank[0].dotpath} with rank {rank[1]:.3f}\")"
   ]
  },
  {
   "cell_type": "code",
   "execution_count": null,
   "id": "2ce0bb66",
   "metadata": {
    "scrolled": true
   },
   "outputs": [],
   "source": [
    "symbol_rank_search_results = symbol_search.symbol_rank_search(\"SymbolGraph\")\n",
    "raw_ranks = symbol_search.symbol_rank.get_ranks()\n",
    "for i,rank in enumerate(symbol_rank_search_results[0:10]):\n",
    "    print(f\"rank {i} = {rank[0].dotpath} with rank {rank[1]:.3f}\")"
   ]
  }
 ],
 "metadata": {
  "kernelspec": {
   "display_name": "Python 3 (ipykernel)",
   "language": "python",
   "name": "python3"
  },
  "language_info": {
   "codemirror_mode": {
    "name": "ipython",
    "version": 3
   },
   "file_extension": ".py",
   "mimetype": "text/x-python",
   "name": "python",
   "nbconvert_exporter": "python",
   "pygments_lexer": "ipython3",
   "version": "3.9.13"
  }
 },
 "nbformat": 4,
 "nbformat_minor": 5
}
