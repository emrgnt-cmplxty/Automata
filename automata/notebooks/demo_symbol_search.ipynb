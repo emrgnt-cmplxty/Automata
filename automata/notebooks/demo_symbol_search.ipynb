{
 "cells": [
  {
   "cell_type": "code",
   "execution_count": 1,
   "id": "659850e4",
   "metadata": {},
   "outputs": [],
   "source": [
    "import logging\n",
    "from typing import Any, Set\n",
    "\n",
    "from automata.config.base import AgentConfigName\n",
    "from automata.core.singletons.dependency_factory import dependency_factory\n",
    "from automata.core.singletons.py_module_loader import py_module_loader\n",
    "from automata.core.context_providers.symbol_synchronization import (\n",
    "    SymbolProviderSynchronizationContext,\n",
    ")\n",
    "    \n",
    "logger = logging.getLogger(__name__)\n",
    "\n",
    "py_module_loader.initialize()"
   ]
  },
  {
   "cell_type": "code",
   "execution_count": 2,
   "id": "9389cb3f",
   "metadata": {
    "scrolled": true
   },
   "outputs": [],
   "source": [
    "symbol_search = dependency_factory.get('symbol_search')"
   ]
  },
  {
   "cell_type": "code",
   "execution_count": 3,
   "id": "ddea41cb",
   "metadata": {},
   "outputs": [],
   "source": [
    "with SymbolProviderSynchronizationContext() as synchronization_context:\n",
    "    synchronization_context.register_provider(symbol_search.symbol_graph)\n",
    "    synchronization_context.register_provider(symbol_search.search_embedding_handler)\n",
    "    synchronization_context.synchronize()\n",
    "\n",
    "graph_symbols = symbol_search.symbol_graph.get_sorted_supported_symbols()\n",
    "embedding_symbols = symbol_search.search_embedding_handler.get_sorted_supported_symbols()\n",
    "available_symbols = set(graph_symbols).intersection(set(embedding_symbols))"
   ]
  },
  {
   "cell_type": "code",
   "execution_count": 4,
   "id": "b2e15a48",
   "metadata": {},
   "outputs": [
    {
     "name": "stdout",
     "output_type": "stream",
     "text": [
      "The search symbol_graph has 816 symbols\n"
     ]
    }
   ],
   "source": [
    "print(f\"The search symbol_graph has {len(graph_symbols)} symbols\")"
   ]
  },
  {
   "cell_type": "code",
   "execution_count": 5,
   "id": "d5d1e571",
   "metadata": {},
   "outputs": [
    {
     "name": "stdout",
     "output_type": "stream",
     "text": [
      "The search embedding has 816\n"
     ]
    }
   ],
   "source": [
    "print(f\"The search embedding has {len(embedding_symbols)}\")"
   ]
  },
  {
   "cell_type": "code",
   "execution_count": 6,
   "id": "2ddadc12",
   "metadata": {},
   "outputs": [
    {
     "name": "stdout",
     "output_type": "stream",
     "text": [
      "The intersection of the symbol_graph and the embedding 816 symbols\n"
     ]
    }
   ],
   "source": [
    "print(f\"The intersection of the symbol_graph and the embedding {len(available_symbols)} symbols\")"
   ]
  },
  {
   "cell_type": "code",
   "execution_count": 7,
   "id": "988b52cc",
   "metadata": {
    "scrolled": false
   },
   "outputs": [
    {
     "name": "stderr",
     "output_type": "stream",
     "text": [
      "Error computing bounding box for scip-python python automata 0cc8e17eb22689787fe72715fc99e5bca7cfab0e `automata.cli.scripts.run_doc_embedding_l2`/main().: Module descriptor automata.cli.scripts.run_doc_embedding_l2 not found\n",
      "Error computing bounding box for scip-python python automata 0cc8e17eb22689787fe72715fc99e5bca7cfab0e `automata.cli.scripts.run_doc_embedding_l3`/main().: Module descriptor automata.cli.scripts.run_doc_embedding_l3 not found\n",
      "  1%|██▎                                                                                                                                                                            | 11/816 [00:00<00:07, 107.25it/s]Error processing scip-python python automata 0cc8e17eb22689787fe72715fc99e5bca7cfab0e `automata.cli.scripts.run_doc_embedding_l2`/main().: Symbol(scip-python python automata 0cc8e17eb22689787fe72715fc99e5bca7cfab0e `automata.cli.scripts.run_doc_embedding_l2`/main()., scip-python, Package(python automata 0cc8e17eb22689787fe72715fc99e5bca7cfab0e), (Descriptor(automata.cli.scripts.run_doc_embedding_l2, 1), Descriptor(main, 4)))\n",
      "Error processing scip-python python automata 0cc8e17eb22689787fe72715fc99e5bca7cfab0e `automata.cli.scripts.run_doc_embedding_l3`/main().: Symbol(scip-python python automata 0cc8e17eb22689787fe72715fc99e5bca7cfab0e `automata.cli.scripts.run_doc_embedding_l3`/main()., scip-python, Package(python automata 0cc8e17eb22689787fe72715fc99e5bca7cfab0e), (Descriptor(automata.cli.scripts.run_doc_embedding_l3, 1), Descriptor(main, 4)))\n",
      "100%|██████████████████████████████████████████████████████████████████████████████████████████████████████████████████████████████████████████████████████████████████████████████| 816/816 [00:05<00:00, 157.08it/s]"
     ]
    },
    {
     "name": "stdout",
     "output_type": "stream",
     "text": [
      "rank 0 = automata.core.symbol.base.Symbol with rank 0.006\n",
      "rank 1 = automata.core.agent.providers.OpenAIAutomataAgent with rank 0.003\n",
      "rank 2 = automata.core.code_handling.py.writer.PyWriter with rank 0.003\n",
      "rank 3 = automata.core.symbol.graph.SymbolGraph with rank 0.003\n",
      "rank 4 = automata.core.tasks.tasks.AutomataTask with rank 0.003\n",
      "rank 5 = automata.core.code_handling.py.reader.PyReader with rank 0.003\n",
      "rank 6 = automata.core.tools.base.Tool with rank 0.003\n",
      "rank 7 = automata.core.llm.foundation.LLMChatMessage with rank 0.002\n",
      "rank 8 = automata.core.symbol_embedding.base.JSONSymbolEmbeddingVectorDatabase with rank 0.002\n",
      "rank 9 = automata.core.singletons.dependency_factory.DependencyFactory with rank 0.002\n"
     ]
    },
    {
     "name": "stderr",
     "output_type": "stream",
     "text": [
      "\n"
     ]
    }
   ],
   "source": [
    "raw_ranks = symbol_search.symbol_rank.get_ranks()\n",
    "for i,rank in enumerate(raw_ranks[0:10]):\n",
    "    print(f\"rank {i} = {rank[0].dotpath} with rank {rank[1]:.3f}\")"
   ]
  },
  {
   "cell_type": "code",
   "execution_count": 8,
   "id": "2ce0bb66",
   "metadata": {
    "scrolled": true
   },
   "outputs": [
    {
     "name": "stdout",
     "output_type": "stream",
     "text": [
      "rank 0 = automata.core.symbol.graph.SymbolGraph with rank 0.020\n",
      "rank 1 = automata.core.symbol.base.Symbol with rank 0.012\n",
      "rank 2 = automata.tests.unit.test_symbol_graph.test_build_real_graph with rank 0.010\n",
      "rank 3 = automata.tests.unit.test_symbol_graph.test_build_real_graph_and_subgraph with rank 0.010\n",
      "rank 4 = automata.tests.unit.test_symbol_rank.test_get_ranks_small_graph with rank 0.010\n",
      "rank 5 = automata.core.singletons.dependency_factory.DependencyFactory.create_symbol_graph with rank 0.009\n",
      "rank 6 = automata.core.singletons.dependency_factory.DependencyFactory.create_subgraph with rank 0.008\n",
      "rank 7 = automata.core.symbol.graph.GraphBuilder with rank 0.008\n",
      "rank 8 = automata.tests.unit.test_synchronizer.test_build_graph_and_handler_and_synchronize with rank 0.008\n",
      "rank 9 = automata.core.symbol.graph.SymbolGraph.filter_symbols with rank 0.007\n"
     ]
    }
   ],
   "source": [
    "symbol_rank_search_results = symbol_search.symbol_rank_search(\"SymbolGraph\")\n",
    "raw_ranks = symbol_search.symbol_rank.get_ranks()\n",
    "for i,rank in enumerate(symbol_rank_search_results[0:10]):\n",
    "    print(f\"rank {i} = {rank[0].dotpath} with rank {rank[1]:.3f}\")"
   ]
  }
 ],
 "metadata": {
  "kernelspec": {
   "display_name": "Python 3 (ipykernel)",
   "language": "python",
   "name": "python3"
  },
  "language_info": {
   "codemirror_mode": {
    "name": "ipython",
    "version": 3
   },
   "file_extension": ".py",
   "mimetype": "text/x-python",
   "name": "python",
   "nbconvert_exporter": "python",
   "pygments_lexer": "ipython3",
   "version": "3.9.13"
  }
 },
 "nbformat": 4,
 "nbformat_minor": 5
}
