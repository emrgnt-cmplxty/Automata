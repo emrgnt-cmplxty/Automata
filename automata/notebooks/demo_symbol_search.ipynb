{
 "cells": [
  {
   "cell_type": "code",
   "execution_count": 1,
   "id": "659850e4",
   "metadata": {},
   "outputs": [],
   "source": [
    "import logging\n",
    "from typing import Any, Set\n",
    "\n",
    "from automata.config.base import AgentConfigName\n",
    "from automata.core.agent.tool.tool_utils import DependencyFactory\n",
    "from automata.core.coding.py.module_loader import py_module_loader\n",
    "\n",
    "    \n",
    "logger = logging.getLogger(__name__)\n",
    "\n",
    "py_module_loader.initialize()"
   ]
  },
  {
   "cell_type": "code",
   "execution_count": 2,
   "id": "9389cb3f",
   "metadata": {
    "scrolled": true
   },
   "outputs": [
    {
     "name": "stderr",
     "output_type": "stream",
     "text": [
      "Error computing bounding box for scip-python python automata 7d8b52f4284df1ae476fe618b0c221c7ee14a7fd `automata.cli.scripts.run_agent_task`/main().: Module descriptor automata.cli.scripts.run_agent_task not found\n",
      "Error computing bounding box for scip-python python automata 7d8b52f4284df1ae476fe618b0c221c7ee14a7fd `automata.core.agent.agents`/AutomataOpenAIAgent#: Module descriptor automata.core.agent.agents not found\n",
      "Error computing bounding box for scip-python python automata 7d8b52f4284df1ae476fe618b0c221c7ee14a7fd `automata.core.agent.agents`/AutomataOpenAIAgent#run().: Module descriptor automata.core.agent.agents not found\n",
      "Error computing bounding box for scip-python python automata 7d8b52f4284df1ae476fe618b0c221c7ee14a7fd `automata.cli.scripts.run_agent_task`/process_issues().: Module descriptor automata.cli.scripts.run_agent_task not found\n",
      "Error computing bounding box for scip-python python automata 7d8b52f4284df1ae476fe618b0c221c7ee14a7fd `automata.core.symbol.symbol_types`/Symbol#dotpath().: Module descriptor automata.core.symbol.symbol_types not found\n",
      "Error computing bounding box for scip-python python automata 7d8b52f4284df1ae476fe618b0c221c7ee14a7fd `automata.core.symbol.symbol_types`/SymbolDescriptor#: Module descriptor automata.core.symbol.symbol_types not found\n",
      "Error computing bounding box for scip-python python automata 7d8b52f4284df1ae476fe618b0c221c7ee14a7fd `automata.core.symbol.symbol_types`/Symbol#symbol_kind_by_suffix().: Module descriptor automata.core.symbol.symbol_types not found\n",
      "Error computing bounding box for scip-python python automata 7d8b52f4284df1ae476fe618b0c221c7ee14a7fd `automata.core.symbol.symbol_types`/SymbolDescriptor#PyKind#: Module descriptor automata.core.symbol.symbol_types not found\n",
      "Error computing bounding box for scip-python python automata 7d8b52f4284df1ae476fe618b0c221c7ee14a7fd `automata.core.agent.agents`/AutomataOpenAIAgent#__init__().: Module descriptor automata.core.agent.agents not found\n",
      "Error computing bounding box for scip-python python automata 7d8b52f4284df1ae476fe618b0c221c7ee14a7fd `automata.core.agent.agents`/AutomataOpenAIAgent#__iter__().: Module descriptor automata.core.agent.agents not found\n",
      "Error computing bounding box for scip-python python automata 7d8b52f4284df1ae476fe618b0c221c7ee14a7fd `automata.core.agent.agents`/AutomataOpenAIAgent#__next__().: Module descriptor automata.core.agent.agents not found\n",
      "Error computing bounding box for scip-python python automata 7d8b52f4284df1ae476fe618b0c221c7ee14a7fd `automata.core.agent.agents`/AutomataOpenAIAgent#tools().: Module descriptor automata.core.agent.agents not found\n",
      "Error computing bounding box for scip-python python automata 7d8b52f4284df1ae476fe618b0c221c7ee14a7fd `automata.core.agent.agents`/AutomataOpenAIAgent#functions().: Module descriptor automata.core.agent.agents not found\n",
      "Error computing bounding box for scip-python python automata 7d8b52f4284df1ae476fe618b0c221c7ee14a7fd `automata.core.agent.agents`/AutomataOpenAIAgent#set_database_provider().: Module descriptor automata.core.agent.agents not found\n",
      "Error computing bounding box for scip-python python automata 7d8b52f4284df1ae476fe618b0c221c7ee14a7fd `automata.core.agent.agents`/AutomataOpenAIAgent#_build_initial_messages().: Module descriptor automata.core.agent.agents not found\n",
      "Error computing bounding box for scip-python python automata 7d8b52f4284df1ae476fe618b0c221c7ee14a7fd `automata.core.agent.agents`/AutomataOpenAIAgent#_get_next_user_response().: Module descriptor automata.core.agent.agents not found\n",
      "Error computing bounding box for scip-python python automata 7d8b52f4284df1ae476fe618b0c221c7ee14a7fd `automata.core.llm.providers.openai`/OpenAIAgent#__init__().: Method descriptor found without module or class descriptor\n",
      "Error computing bounding box for scip-python python automata 7d8b52f4284df1ae476fe618b0c221c7ee14a7fd `automata.core.llm.providers.openai`/OpenAIAgent#_get_termination_tool().: Method descriptor found without module or class descriptor\n",
      "Error computing bounding box for scip-python python automata 7d8b52f4284df1ae476fe618b0c221c7ee14a7fd `automata.core.llm.providers.openai`/OpenAIAgent#: Symbol Symbol(scip-python python automata 7d8b52f4284df1ae476fe618b0c221c7ee14a7fd `automata.core.llm.providers.openai`/OpenAIAgent#, scip-python, Package(python automata 7d8b52f4284df1ae476fe618b0c221c7ee14a7fd), (Descriptor(automata.core.llm.providers.openai, 1), Descriptor(OpenAIAgent, 2))) not found\n",
      "Error computing bounding box for scip-python python automata 7d8b52f4284df1ae476fe618b0c221c7ee14a7fd `automata.core.agent.instances`/AutomataOpenAIAgentInstance#: Symbol Symbol(scip-python python automata 7d8b52f4284df1ae476fe618b0c221c7ee14a7fd `automata.core.agent.instances`/AutomataOpenAIAgentInstance#, scip-python, Package(python automata 7d8b52f4284df1ae476fe618b0c221c7ee14a7fd), (Descriptor(automata.core.agent.instances, 1), Descriptor(AutomataOpenAIAgentInstance, 2))) not found\n",
      "Error computing bounding box for scip-python python automata 7d8b52f4284df1ae476fe618b0c221c7ee14a7fd `automata.core.agent.instances`/AutomataOpenAIAgentInstance#run().: Method descriptor found without module or class descriptor\n",
      "Error computing bounding box for scip-python python automata 7d8b52f4284df1ae476fe618b0c221c7ee14a7fd `automata.core.agent.instances`/AutomataOpenAIAgentInstance#Config#: Class descriptor found without module descriptor\n",
      "Error computing bounding box for scip-python python automata 7d8b52f4284df1ae476fe618b0c221c7ee14a7fd `automata.core.llm.providers.openai`/OpenAIAgentToolBuilder#: Symbol Symbol(scip-python python automata 7d8b52f4284df1ae476fe618b0c221c7ee14a7fd `automata.core.llm.providers.openai`/OpenAIAgentToolBuilder#, scip-python, Package(python automata 7d8b52f4284df1ae476fe618b0c221c7ee14a7fd), (Descriptor(automata.core.llm.providers.openai, 1), Descriptor(OpenAIAgentToolBuilder, 2))) not found\n",
      "Error computing bounding box for scip-python python automata 7d8b52f4284df1ae476fe618b0c221c7ee14a7fd `automata.core.llm.providers.openai`/OpenAIAgentToolBuilder#can_handle().: Method descriptor found without module or class descriptor\n",
      "Error computing bounding box for scip-python python automata 7d8b52f4284df1ae476fe618b0c221c7ee14a7fd `automata.core.llm.providers.openai`/OpenAIAgentToolBuilder#build_for_open_ai().: Method descriptor found without module or class descriptor\n",
      "Error computing bounding box for scip-python python automata 7d8b52f4284df1ae476fe618b0c221c7ee14a7fd `automata.core.symbol.symbol_types`/Symbol#: Module descriptor automata.core.symbol.symbol_types not found\n",
      "Error computing bounding box for scip-python python automata 7d8b52f4284df1ae476fe618b0c221c7ee14a7fd `automata.core.symbol.symbol_types`/SymbolEmbedding#: Module descriptor automata.core.symbol.symbol_types not found\n",
      "Error computing bounding box for scip-python python automata 7d8b52f4284df1ae476fe618b0c221c7ee14a7fd `automata.core.symbol.symbol_types`/SymbolDocEmbedding#: Module descriptor automata.core.symbol.symbol_types not found\n",
      "Error computing bounding box for scip-python python automata 7d8b52f4284df1ae476fe618b0c221c7ee14a7fd `automata.core.symbol.symbol_types`/SymbolCodeEmbedding#: Module descriptor automata.core.symbol.symbol_types not found\n",
      "Error computing bounding box for scip-python python automata 7d8b52f4284df1ae476fe618b0c221c7ee14a7fd `automata.core.embedding.symbol_similarity`/SymbolSimilarityCalculator#ordered_embeddings().: Symbol Symbol(scip-python python automata 7d8b52f4284df1ae476fe618b0c221c7ee14a7fd `automata.core.embedding.symbol_similarity`/SymbolSimilarityCalculator#ordered_embeddings()., scip-python, Package(python automata 7d8b52f4284df1ae476fe618b0c221c7ee14a7fd), (Descriptor(automata.core.embedding.symbol_similarity, 1), Descriptor(SymbolSimilarityCalculator, 2), Descriptor(ordered_embeddings, 4))) not found\n",
      "Error computing bounding box for scip-python python automata 7d8b52f4284df1ae476fe618b0c221c7ee14a7fd `automata.core.llm.providers.openai`/OpenAIAgent#terminate().: Method descriptor found without module or class descriptor\n",
      "Error computing bounding box for scip-python python automata 7d8b52f4284df1ae476fe618b0c221c7ee14a7fd `automata.core.llm.providers.openai`/OpenAIAgent#_get_available_functions().: Method descriptor found without module or class descriptor\n"
     ]
    },
    {
     "name": "stderr",
     "output_type": "stream",
     "text": [
      "Error computing bounding box for scip-python python automata 7d8b52f4284df1ae476fe618b0c221c7ee14a7fd `automata.core.symbol.symbol_types`/SymbolFile#: Module descriptor automata.core.symbol.symbol_types not found\n",
      "Error computing bounding box for scip-python python automata 7d8b52f4284df1ae476fe618b0c221c7ee14a7fd `automata.core.symbol.symbol_types`/SymbolReference#: Module descriptor automata.core.symbol.symbol_types not found\n",
      "Error computing bounding box for scip-python python automata 7d8b52f4284df1ae476fe618b0c221c7ee14a7fd `automata.core.symbol.symbol_types`/SymbolPackage#: Module descriptor automata.core.symbol.symbol_types not found\n",
      "Error computing bounding box for scip-python python automata 7d8b52f4284df1ae476fe618b0c221c7ee14a7fd `automata.core.symbol.symbol_types`/SymbolDescriptor#__init__().: Module descriptor automata.core.symbol.symbol_types not found\n",
      "Error computing bounding box for scip-python python automata 7d8b52f4284df1ae476fe618b0c221c7ee14a7fd `automata.core.symbol.symbol_types`/SymbolDescriptor#__repr__().: Module descriptor automata.core.symbol.symbol_types not found\n",
      "Error computing bounding box for scip-python python automata 7d8b52f4284df1ae476fe618b0c221c7ee14a7fd `automata.core.symbol.symbol_types`/SymbolDescriptor#unparse().: Module descriptor automata.core.symbol.symbol_types not found\n",
      "Error computing bounding box for scip-python python automata 7d8b52f4284df1ae476fe618b0c221c7ee14a7fd `automata.core.symbol.symbol_types`/SymbolDescriptor#get_escaped_name().: Module descriptor automata.core.symbol.symbol_types not found\n",
      "Error computing bounding box for scip-python python automata 7d8b52f4284df1ae476fe618b0c221c7ee14a7fd `automata.core.symbol.symbol_types`/SymbolDescriptor#is_simple_identifier().: Module descriptor automata.core.symbol.symbol_types not found\n",
      "Error computing bounding box for scip-python python automata 7d8b52f4284df1ae476fe618b0c221c7ee14a7fd `automata.core.symbol.symbol_types`/SymbolDescriptor#convert_scip_to_python_suffix().: Module descriptor automata.core.symbol.symbol_types not found\n",
      "Error computing bounding box for scip-python python automata 7d8b52f4284df1ae476fe618b0c221c7ee14a7fd `automata.core.symbol.symbol_types`/SymbolPackage#__repr__().: Module descriptor automata.core.symbol.symbol_types not found\n",
      "Error computing bounding box for scip-python python automata 7d8b52f4284df1ae476fe618b0c221c7ee14a7fd `automata.core.symbol.symbol_types`/SymbolPackage#unparse().: Module descriptor automata.core.symbol.symbol_types not found\n",
      "Error computing bounding box for scip-python python automata 7d8b52f4284df1ae476fe618b0c221c7ee14a7fd `automata.core.symbol.symbol_types`/Symbol#__repr__().: Module descriptor automata.core.symbol.symbol_types not found\n",
      "Error computing bounding box for scip-python python automata 7d8b52f4284df1ae476fe618b0c221c7ee14a7fd `automata.core.symbol.symbol_types`/Symbol#__hash__().: Module descriptor automata.core.symbol.symbol_types not found\n",
      "Error computing bounding box for scip-python python automata 7d8b52f4284df1ae476fe618b0c221c7ee14a7fd `automata.core.symbol.symbol_types`/Symbol#__eq__().: Module descriptor automata.core.symbol.symbol_types not found\n",
      "Error computing bounding box for scip-python python automata 7d8b52f4284df1ae476fe618b0c221c7ee14a7fd `automata.core.symbol.symbol_types`/Symbol#symbol_raw_kind_by_suffix().: Module descriptor automata.core.symbol.symbol_types not found\n",
      "Error computing bounding box for scip-python python automata 7d8b52f4284df1ae476fe618b0c221c7ee14a7fd `automata.core.symbol.symbol_types`/Symbol#parent().: Module descriptor automata.core.symbol.symbol_types not found\n",
      "Error computing bounding box for scip-python python automata 7d8b52f4284df1ae476fe618b0c221c7ee14a7fd `automata.core.symbol.symbol_types`/Symbol#module_name().: Module descriptor automata.core.symbol.symbol_types not found\n",
      "Error computing bounding box for scip-python python automata 7d8b52f4284df1ae476fe618b0c221c7ee14a7fd `automata.core.symbol.symbol_types`/Symbol#is_local().: Module descriptor automata.core.symbol.symbol_types not found\n",
      "Error computing bounding box for scip-python python automata 7d8b52f4284df1ae476fe618b0c221c7ee14a7fd `automata.core.symbol.symbol_types`/Symbol#is_meta().: Module descriptor automata.core.symbol.symbol_types not found\n",
      "Error computing bounding box for scip-python python automata 7d8b52f4284df1ae476fe618b0c221c7ee14a7fd `automata.core.symbol.symbol_types`/Symbol#is_parameter().: Module descriptor automata.core.symbol.symbol_types not found\n",
      "Error computing bounding box for scip-python python automata 7d8b52f4284df1ae476fe618b0c221c7ee14a7fd `automata.core.symbol.symbol_types`/Symbol#is_protobuf().: Module descriptor automata.core.symbol.symbol_types not found\n",
      "Error computing bounding box for scip-python python automata 7d8b52f4284df1ae476fe618b0c221c7ee14a7fd `automata.core.symbol.symbol_types`/Symbol#from_string().: Module descriptor automata.core.symbol.symbol_types not found\n",
      "Error computing bounding box for scip-python python automata 7d8b52f4284df1ae476fe618b0c221c7ee14a7fd `automata.core.symbol.symbol_types`/SymbolReference#__hash__().: Module descriptor automata.core.symbol.symbol_types not found\n",
      "Error computing bounding box for scip-python python automata 7d8b52f4284df1ae476fe618b0c221c7ee14a7fd `automata.core.symbol.symbol_types`/SymbolReference#__eq__().: Module descriptor automata.core.symbol.symbol_types not found\n",
      "Error computing bounding box for scip-python python automata 7d8b52f4284df1ae476fe618b0c221c7ee14a7fd `automata.core.symbol.symbol_types`/SymbolFile#__hash__().: Module descriptor automata.core.symbol.symbol_types not found\n",
      "Error computing bounding box for scip-python python automata 7d8b52f4284df1ae476fe618b0c221c7ee14a7fd `automata.core.symbol.symbol_types`/SymbolFile#__eq__().: Module descriptor automata.core.symbol.symbol_types not found\n",
      "Error computing bounding box for scip-python python automata 7d8b52f4284df1ae476fe618b0c221c7ee14a7fd `automata.core.symbol.symbol_types`/SymbolEmbedding#__init__().: Module descriptor automata.core.symbol.symbol_types not found\n",
      "Error computing bounding box for scip-python python automata 7d8b52f4284df1ae476fe618b0c221c7ee14a7fd `automata.core.symbol.symbol_types`/SymbolEmbedding#__str__().: Module descriptor automata.core.symbol.symbol_types not found\n",
      "Error computing bounding box for scip-python python automata 7d8b52f4284df1ae476fe618b0c221c7ee14a7fd `automata.core.symbol.symbol_types`/SymbolCodeEmbedding#__init__().: Module descriptor automata.core.symbol.symbol_types not found\n",
      "Error computing bounding box for scip-python python automata 7d8b52f4284df1ae476fe618b0c221c7ee14a7fd `automata.core.symbol.symbol_types`/SymbolCodeEmbedding#__str__().: Module descriptor automata.core.symbol.symbol_types not found\n",
      "Error computing bounding box for scip-python python automata 7d8b52f4284df1ae476fe618b0c221c7ee14a7fd `automata.core.symbol.symbol_types`/SymbolDocEmbedding#__init__().: Module descriptor automata.core.symbol.symbol_types not found\n",
      "Error computing bounding box for scip-python python automata 7d8b52f4284df1ae476fe618b0c221c7ee14a7fd `automata.core.symbol.symbol_types`/SymbolDocEmbedding#__str__().: Module descriptor automata.core.symbol.symbol_types not found\n",
      "  0%|                                                                                                                                                                                       | 0/783 [00:00<?, ?it/s]Error processing scip-python python automata 7d8b52f4284df1ae476fe618b0c221c7ee14a7fd `automata.core.llm.providers.openai`/OpenAIAgent#_get_termination_tool().: Symbol(scip-python python automata 7d8b52f4284df1ae476fe618b0c221c7ee14a7fd `automata.core.llm.providers.openai`/OpenAIAgent#_get_termination_tool()., scip-python, Package(python automata 7d8b52f4284df1ae476fe618b0c221c7ee14a7fd), (Descriptor(automata.core.llm.providers.openai, 1), Descriptor(OpenAIAgent, 2), Descriptor(_get_termination_tool, 4)))\n",
      "Error processing scip-python python automata 7d8b52f4284df1ae476fe618b0c221c7ee14a7fd `automata.core.agent.agents`/AutomataOpenAIAgent#functions().: Symbol(scip-python python automata 7d8b52f4284df1ae476fe618b0c221c7ee14a7fd `automata.core.agent.agents`/AutomataOpenAIAgent#functions()., scip-python, Package(python automata 7d8b52f4284df1ae476fe618b0c221c7ee14a7fd), (Descriptor(automata.core.agent.agents, 1), Descriptor(AutomataOpenAIAgent, 2), Descriptor(functions, 4)))\n"
     ]
    },
    {
     "name": "stderr",
     "output_type": "stream",
     "text": [
      "Error processing scip-python python automata 7d8b52f4284df1ae476fe618b0c221c7ee14a7fd `automata.core.symbol.symbol_types`/SymbolFile#: Symbol(scip-python python automata 7d8b52f4284df1ae476fe618b0c221c7ee14a7fd `automata.core.symbol.symbol_types`/SymbolFile#, scip-python, Package(python automata 7d8b52f4284df1ae476fe618b0c221c7ee14a7fd), (Descriptor(automata.core.symbol.symbol_types, 1), Descriptor(SymbolFile, 2)))\n",
      "Error processing scip-python python automata 7d8b52f4284df1ae476fe618b0c221c7ee14a7fd `automata.core.symbol.symbol_types`/SymbolFile#__eq__().: Symbol(scip-python python automata 7d8b52f4284df1ae476fe618b0c221c7ee14a7fd `automata.core.symbol.symbol_types`/SymbolFile#__eq__()., scip-python, Package(python automata 7d8b52f4284df1ae476fe618b0c221c7ee14a7fd), (Descriptor(automata.core.symbol.symbol_types, 1), Descriptor(SymbolFile, 2), Descriptor(__eq__, 4)))\n",
      "Error processing scip-python python automata 7d8b52f4284df1ae476fe618b0c221c7ee14a7fd `automata.core.symbol.symbol_types`/SymbolCodeEmbedding#: Symbol(scip-python python automata 7d8b52f4284df1ae476fe618b0c221c7ee14a7fd `automata.core.symbol.symbol_types`/SymbolCodeEmbedding#, scip-python, Package(python automata 7d8b52f4284df1ae476fe618b0c221c7ee14a7fd), (Descriptor(automata.core.symbol.symbol_types, 1), Descriptor(SymbolCodeEmbedding, 2)))\n",
      "Error processing scip-python python automata 7d8b52f4284df1ae476fe618b0c221c7ee14a7fd `automata.core.symbol.symbol_types`/SymbolPackage#__repr__().: Symbol(scip-python python automata 7d8b52f4284df1ae476fe618b0c221c7ee14a7fd `automata.core.symbol.symbol_types`/SymbolPackage#__repr__()., scip-python, Package(python automata 7d8b52f4284df1ae476fe618b0c221c7ee14a7fd), (Descriptor(automata.core.symbol.symbol_types, 1), Descriptor(SymbolPackage, 2), Descriptor(__repr__, 4)))\n",
      "Error processing scip-python python automata 7d8b52f4284df1ae476fe618b0c221c7ee14a7fd `automata.core.agent.instances`/AutomataOpenAIAgentInstance#Config#: Symbol(scip-python python automata 7d8b52f4284df1ae476fe618b0c221c7ee14a7fd `automata.core.agent.instances`/AutomataOpenAIAgentInstance#Config#, scip-python, Package(python automata 7d8b52f4284df1ae476fe618b0c221c7ee14a7fd), (Descriptor(automata.core.agent.instances, 1), Descriptor(AutomataOpenAIAgentInstance, 2), Descriptor(Config, 2)))\n",
      "Error processing scip-python python automata 7d8b52f4284df1ae476fe618b0c221c7ee14a7fd `automata.core.symbol.symbol_types`/SymbolDescriptor#is_simple_identifier().: Symbol(scip-python python automata 7d8b52f4284df1ae476fe618b0c221c7ee14a7fd `automata.core.symbol.symbol_types`/SymbolDescriptor#is_simple_identifier()., scip-python, Package(python automata 7d8b52f4284df1ae476fe618b0c221c7ee14a7fd), (Descriptor(automata.core.symbol.symbol_types, 1), Descriptor(SymbolDescriptor, 2), Descriptor(is_simple_identifier, 4)))\n",
      "Error processing scip-python python automata 7d8b52f4284df1ae476fe618b0c221c7ee14a7fd `automata.core.agent.agents`/AutomataOpenAIAgent#: Symbol(scip-python python automata 7d8b52f4284df1ae476fe618b0c221c7ee14a7fd `automata.core.agent.agents`/AutomataOpenAIAgent#, scip-python, Package(python automata 7d8b52f4284df1ae476fe618b0c221c7ee14a7fd), (Descriptor(automata.core.agent.agents, 1), Descriptor(AutomataOpenAIAgent, 2)))\n",
      "Error processing scip-python python automata 7d8b52f4284df1ae476fe618b0c221c7ee14a7fd `automata.core.symbol.symbol_types`/SymbolDocEmbedding#: Symbol(scip-python python automata 7d8b52f4284df1ae476fe618b0c221c7ee14a7fd `automata.core.symbol.symbol_types`/SymbolDocEmbedding#, scip-python, Package(python automata 7d8b52f4284df1ae476fe618b0c221c7ee14a7fd), (Descriptor(automata.core.symbol.symbol_types, 1), Descriptor(SymbolDocEmbedding, 2)))\n",
      "Error processing scip-python python automata 7d8b52f4284df1ae476fe618b0c221c7ee14a7fd `automata.core.symbol.symbol_types`/SymbolCodeEmbedding#__str__().: Symbol(scip-python python automata 7d8b52f4284df1ae476fe618b0c221c7ee14a7fd `automata.core.symbol.symbol_types`/SymbolCodeEmbedding#__str__()., scip-python, Package(python automata 7d8b52f4284df1ae476fe618b0c221c7ee14a7fd), (Descriptor(automata.core.symbol.symbol_types, 1), Descriptor(SymbolCodeEmbedding, 2), Descriptor(__str__, 4)))\n",
      "Error processing scip-python python automata 7d8b52f4284df1ae476fe618b0c221c7ee14a7fd `automata.core.symbol.symbol_types`/SymbolPackage#unparse().: Symbol(scip-python python automata 7d8b52f4284df1ae476fe618b0c221c7ee14a7fd `automata.core.symbol.symbol_types`/SymbolPackage#unparse()., scip-python, Package(python automata 7d8b52f4284df1ae476fe618b0c221c7ee14a7fd), (Descriptor(automata.core.symbol.symbol_types, 1), Descriptor(SymbolPackage, 2), Descriptor(unparse, 4)))\n",
      "Error processing scip-python python automata 7d8b52f4284df1ae476fe618b0c221c7ee14a7fd `automata.core.agent.agents`/AutomataOpenAIAgent#__next__().: Symbol(scip-python python automata 7d8b52f4284df1ae476fe618b0c221c7ee14a7fd `automata.core.agent.agents`/AutomataOpenAIAgent#__next__()., scip-python, Package(python automata 7d8b52f4284df1ae476fe618b0c221c7ee14a7fd), (Descriptor(automata.core.agent.agents, 1), Descriptor(AutomataOpenAIAgent, 2), Descriptor(__next__, 4)))\n",
      "Error processing scip-python python automata 7d8b52f4284df1ae476fe618b0c221c7ee14a7fd `automata.core.agent.agents`/AutomataOpenAIAgent#_build_initial_messages().: Symbol(scip-python python automata 7d8b52f4284df1ae476fe618b0c221c7ee14a7fd `automata.core.agent.agents`/AutomataOpenAIAgent#_build_initial_messages()., scip-python, Package(python automata 7d8b52f4284df1ae476fe618b0c221c7ee14a7fd), (Descriptor(automata.core.agent.agents, 1), Descriptor(AutomataOpenAIAgent, 2), Descriptor(_build_initial_messages, 4)))\n",
      "Error processing scip-python python automata 7d8b52f4284df1ae476fe618b0c221c7ee14a7fd `automata.core.llm.providers.openai`/OpenAIAgentToolBuilder#: Symbol(scip-python python automata 7d8b52f4284df1ae476fe618b0c221c7ee14a7fd `automata.core.llm.providers.openai`/OpenAIAgentToolBuilder#, scip-python, Package(python automata 7d8b52f4284df1ae476fe618b0c221c7ee14a7fd), (Descriptor(automata.core.llm.providers.openai, 1), Descriptor(OpenAIAgentToolBuilder, 2)))\n",
      "Error processing scip-python python automata 7d8b52f4284df1ae476fe618b0c221c7ee14a7fd `automata.core.llm.providers.openai`/OpenAIAgentToolBuilder#can_handle().: Symbol(scip-python python automata 7d8b52f4284df1ae476fe618b0c221c7ee14a7fd `automata.core.llm.providers.openai`/OpenAIAgentToolBuilder#can_handle()., scip-python, Package(python automata 7d8b52f4284df1ae476fe618b0c221c7ee14a7fd), (Descriptor(automata.core.llm.providers.openai, 1), Descriptor(OpenAIAgentToolBuilder, 2), Descriptor(can_handle, 4)))\n",
      "Error processing scip-python python automata 7d8b52f4284df1ae476fe618b0c221c7ee14a7fd `automata.core.symbol.symbol_types`/Symbol#__hash__().: Symbol(scip-python python automata 7d8b52f4284df1ae476fe618b0c221c7ee14a7fd `automata.core.symbol.symbol_types`/Symbol#__hash__()., scip-python, Package(python automata 7d8b52f4284df1ae476fe618b0c221c7ee14a7fd), (Descriptor(automata.core.symbol.symbol_types, 1), Descriptor(Symbol, 2), Descriptor(__hash__, 4)))\n",
      "Error processing scip-python python automata 7d8b52f4284df1ae476fe618b0c221c7ee14a7fd `automata.core.symbol.symbol_types`/Symbol#symbol_raw_kind_by_suffix().: Symbol(scip-python python automata 7d8b52f4284df1ae476fe618b0c221c7ee14a7fd `automata.core.symbol.symbol_types`/Symbol#symbol_raw_kind_by_suffix()., scip-python, Package(python automata 7d8b52f4284df1ae476fe618b0c221c7ee14a7fd), (Descriptor(automata.core.symbol.symbol_types, 1), Descriptor(Symbol, 2), Descriptor(symbol_raw_kind_by_suffix, 4)))\n",
      "Error processing scip-python python automata 7d8b52f4284df1ae476fe618b0c221c7ee14a7fd `automata.core.symbol.symbol_types`/Symbol#module_name().: Symbol(scip-python python automata 7d8b52f4284df1ae476fe618b0c221c7ee14a7fd `automata.core.symbol.symbol_types`/Symbol#module_name()., scip-python, Package(python automata 7d8b52f4284df1ae476fe618b0c221c7ee14a7fd), (Descriptor(automata.core.symbol.symbol_types, 1), Descriptor(Symbol, 2), Descriptor(module_name, 4)))\n",
      "Error processing scip-python python automata 7d8b52f4284df1ae476fe618b0c221c7ee14a7fd `automata.core.llm.providers.openai`/OpenAIAgent#terminate().: Symbol(scip-python python automata 7d8b52f4284df1ae476fe618b0c221c7ee14a7fd `automata.core.llm.providers.openai`/OpenAIAgent#terminate()., scip-python, Package(python automata 7d8b52f4284df1ae476fe618b0c221c7ee14a7fd), (Descriptor(automata.core.llm.providers.openai, 1), Descriptor(OpenAIAgent, 2), Descriptor(terminate, 4)))\n"
     ]
    },
    {
     "name": "stderr",
     "output_type": "stream",
     "text": [
      "Error processing scip-python python automata 7d8b52f4284df1ae476fe618b0c221c7ee14a7fd `automata.core.symbol.symbol_types`/Symbol#is_protobuf().: Symbol(scip-python python automata 7d8b52f4284df1ae476fe618b0c221c7ee14a7fd `automata.core.symbol.symbol_types`/Symbol#is_protobuf()., scip-python, Package(python automata 7d8b52f4284df1ae476fe618b0c221c7ee14a7fd), (Descriptor(automata.core.symbol.symbol_types, 1), Descriptor(Symbol, 2), Descriptor(is_protobuf, 4)))\n",
      "Error processing scip-python python automata 7d8b52f4284df1ae476fe618b0c221c7ee14a7fd `automata.core.symbol.symbol_types`/SymbolEmbedding#: Symbol(scip-python python automata 7d8b52f4284df1ae476fe618b0c221c7ee14a7fd `automata.core.symbol.symbol_types`/SymbolEmbedding#, scip-python, Package(python automata 7d8b52f4284df1ae476fe618b0c221c7ee14a7fd), (Descriptor(automata.core.symbol.symbol_types, 1), Descriptor(SymbolEmbedding, 2)))\n",
      "Error processing scip-python python automata 7d8b52f4284df1ae476fe618b0c221c7ee14a7fd `automata.core.symbol.symbol_types`/Symbol#from_string().: Symbol(scip-python python automata 7d8b52f4284df1ae476fe618b0c221c7ee14a7fd `automata.core.symbol.symbol_types`/Symbol#from_string()., scip-python, Package(python automata 7d8b52f4284df1ae476fe618b0c221c7ee14a7fd), (Descriptor(automata.core.symbol.symbol_types, 1), Descriptor(Symbol, 2), Descriptor(from_string, 4)))\n",
      "Error processing scip-python python automata 7d8b52f4284df1ae476fe618b0c221c7ee14a7fd `automata.core.symbol.symbol_types`/Symbol#__repr__().: Symbol(scip-python python automata 7d8b52f4284df1ae476fe618b0c221c7ee14a7fd `automata.core.symbol.symbol_types`/Symbol#__repr__()., scip-python, Package(python automata 7d8b52f4284df1ae476fe618b0c221c7ee14a7fd), (Descriptor(automata.core.symbol.symbol_types, 1), Descriptor(Symbol, 2), Descriptor(__repr__, 4)))\n",
      "Error processing scip-python python automata 7d8b52f4284df1ae476fe618b0c221c7ee14a7fd `automata.core.symbol.symbol_types`/SymbolDescriptor#get_escaped_name().: Symbol(scip-python python automata 7d8b52f4284df1ae476fe618b0c221c7ee14a7fd `automata.core.symbol.symbol_types`/SymbolDescriptor#get_escaped_name()., scip-python, Package(python automata 7d8b52f4284df1ae476fe618b0c221c7ee14a7fd), (Descriptor(automata.core.symbol.symbol_types, 1), Descriptor(SymbolDescriptor, 2), Descriptor(get_escaped_name, 4)))\n",
      "Error processing scip-python python automata 7d8b52f4284df1ae476fe618b0c221c7ee14a7fd `automata.core.symbol.symbol_types`/SymbolDescriptor#convert_scip_to_python_suffix().: Symbol(scip-python python automata 7d8b52f4284df1ae476fe618b0c221c7ee14a7fd `automata.core.symbol.symbol_types`/SymbolDescriptor#convert_scip_to_python_suffix()., scip-python, Package(python automata 7d8b52f4284df1ae476fe618b0c221c7ee14a7fd), (Descriptor(automata.core.symbol.symbol_types, 1), Descriptor(SymbolDescriptor, 2), Descriptor(convert_scip_to_python_suffix, 4)))\n",
      "Error processing scip-python python automata 7d8b52f4284df1ae476fe618b0c221c7ee14a7fd `automata.core.llm.providers.openai`/OpenAIAgent#__init__().: Symbol(scip-python python automata 7d8b52f4284df1ae476fe618b0c221c7ee14a7fd `automata.core.llm.providers.openai`/OpenAIAgent#__init__()., scip-python, Package(python automata 7d8b52f4284df1ae476fe618b0c221c7ee14a7fd), (Descriptor(automata.core.llm.providers.openai, 1), Descriptor(OpenAIAgent, 2), Descriptor(__init__, 4)))\n",
      "Error processing scip-python python automata 7d8b52f4284df1ae476fe618b0c221c7ee14a7fd `automata.core.symbol.symbol_types`/Symbol#parent().: Symbol(scip-python python automata 7d8b52f4284df1ae476fe618b0c221c7ee14a7fd `automata.core.symbol.symbol_types`/Symbol#parent()., scip-python, Package(python automata 7d8b52f4284df1ae476fe618b0c221c7ee14a7fd), (Descriptor(automata.core.symbol.symbol_types, 1), Descriptor(Symbol, 2), Descriptor(parent, 4)))\n",
      "Error processing scip-python python automata 7d8b52f4284df1ae476fe618b0c221c7ee14a7fd `automata.core.symbol.symbol_types`/Symbol#dotpath().: Symbol(scip-python python automata 7d8b52f4284df1ae476fe618b0c221c7ee14a7fd `automata.core.symbol.symbol_types`/Symbol#dotpath()., scip-python, Package(python automata 7d8b52f4284df1ae476fe618b0c221c7ee14a7fd), (Descriptor(automata.core.symbol.symbol_types, 1), Descriptor(Symbol, 2), Descriptor(dotpath, 4)))\n",
      "Error processing scip-python python automata 7d8b52f4284df1ae476fe618b0c221c7ee14a7fd `automata.core.agent.instances`/AutomataOpenAIAgentInstance#: Symbol(scip-python python automata 7d8b52f4284df1ae476fe618b0c221c7ee14a7fd `automata.core.agent.instances`/AutomataOpenAIAgentInstance#, scip-python, Package(python automata 7d8b52f4284df1ae476fe618b0c221c7ee14a7fd), (Descriptor(automata.core.agent.instances, 1), Descriptor(AutomataOpenAIAgentInstance, 2)))\n",
      "Error processing scip-python python automata 7d8b52f4284df1ae476fe618b0c221c7ee14a7fd `automata.core.embedding.symbol_similarity`/SymbolSimilarityCalculator#ordered_embeddings().: Symbol(scip-python python automata 7d8b52f4284df1ae476fe618b0c221c7ee14a7fd `automata.core.embedding.symbol_similarity`/SymbolSimilarityCalculator#ordered_embeddings()., scip-python, Package(python automata 7d8b52f4284df1ae476fe618b0c221c7ee14a7fd), (Descriptor(automata.core.embedding.symbol_similarity, 1), Descriptor(SymbolSimilarityCalculator, 2), Descriptor(ordered_embeddings, 4)))\n",
      "Error processing scip-python python automata 7d8b52f4284df1ae476fe618b0c221c7ee14a7fd `automata.core.symbol.symbol_types`/Symbol#: Symbol(scip-python python automata 7d8b52f4284df1ae476fe618b0c221c7ee14a7fd `automata.core.symbol.symbol_types`/Symbol#, scip-python, Package(python automata 7d8b52f4284df1ae476fe618b0c221c7ee14a7fd), (Descriptor(automata.core.symbol.symbol_types, 1), Descriptor(Symbol, 2)))\n",
      "Error processing scip-python python automata 7d8b52f4284df1ae476fe618b0c221c7ee14a7fd `automata.core.symbol.symbol_types`/SymbolEmbedding#__str__().: Symbol(scip-python python automata 7d8b52f4284df1ae476fe618b0c221c7ee14a7fd `automata.core.symbol.symbol_types`/SymbolEmbedding#__str__()., scip-python, Package(python automata 7d8b52f4284df1ae476fe618b0c221c7ee14a7fd), (Descriptor(automata.core.symbol.symbol_types, 1), Descriptor(SymbolEmbedding, 2), Descriptor(__str__, 4)))\n",
      "Error processing scip-python python automata 7d8b52f4284df1ae476fe618b0c221c7ee14a7fd `automata.core.symbol.symbol_types`/Symbol#is_local().: Symbol(scip-python python automata 7d8b52f4284df1ae476fe618b0c221c7ee14a7fd `automata.core.symbol.symbol_types`/Symbol#is_local()., scip-python, Package(python automata 7d8b52f4284df1ae476fe618b0c221c7ee14a7fd), (Descriptor(automata.core.symbol.symbol_types, 1), Descriptor(Symbol, 2), Descriptor(is_local, 4)))\n",
      "Error processing scip-python python automata 7d8b52f4284df1ae476fe618b0c221c7ee14a7fd `automata.core.agent.agents`/AutomataOpenAIAgent#tools().: Symbol(scip-python python automata 7d8b52f4284df1ae476fe618b0c221c7ee14a7fd `automata.core.agent.agents`/AutomataOpenAIAgent#tools()., scip-python, Package(python automata 7d8b52f4284df1ae476fe618b0c221c7ee14a7fd), (Descriptor(automata.core.agent.agents, 1), Descriptor(AutomataOpenAIAgent, 2), Descriptor(tools, 4)))\n",
      "Error processing scip-python python automata 7d8b52f4284df1ae476fe618b0c221c7ee14a7fd `automata.core.llm.providers.openai`/OpenAIAgent#: Symbol(scip-python python automata 7d8b52f4284df1ae476fe618b0c221c7ee14a7fd `automata.core.llm.providers.openai`/OpenAIAgent#, scip-python, Package(python automata 7d8b52f4284df1ae476fe618b0c221c7ee14a7fd), (Descriptor(automata.core.llm.providers.openai, 1), Descriptor(OpenAIAgent, 2)))\n",
      "Error processing scip-python python automata 7d8b52f4284df1ae476fe618b0c221c7ee14a7fd `automata.core.symbol.symbol_types`/SymbolDescriptor#: Symbol(scip-python python automata 7d8b52f4284df1ae476fe618b0c221c7ee14a7fd `automata.core.symbol.symbol_types`/SymbolDescriptor#, scip-python, Package(python automata 7d8b52f4284df1ae476fe618b0c221c7ee14a7fd), (Descriptor(automata.core.symbol.symbol_types, 1), Descriptor(SymbolDescriptor, 2)))\n",
      "Error processing scip-python python automata 7d8b52f4284df1ae476fe618b0c221c7ee14a7fd `automata.core.symbol.symbol_types`/SymbolFile#__hash__().: Symbol(scip-python python automata 7d8b52f4284df1ae476fe618b0c221c7ee14a7fd `automata.core.symbol.symbol_types`/SymbolFile#__hash__()., scip-python, Package(python automata 7d8b52f4284df1ae476fe618b0c221c7ee14a7fd), (Descriptor(automata.core.symbol.symbol_types, 1), Descriptor(SymbolFile, 2), Descriptor(__hash__, 4)))\n"
     ]
    },
    {
     "name": "stderr",
     "output_type": "stream",
     "text": [
      "Error processing scip-python python automata 7d8b52f4284df1ae476fe618b0c221c7ee14a7fd `automata.core.symbol.symbol_types`/SymbolDescriptor#unparse().: Symbol(scip-python python automata 7d8b52f4284df1ae476fe618b0c221c7ee14a7fd `automata.core.symbol.symbol_types`/SymbolDescriptor#unparse()., scip-python, Package(python automata 7d8b52f4284df1ae476fe618b0c221c7ee14a7fd), (Descriptor(automata.core.symbol.symbol_types, 1), Descriptor(SymbolDescriptor, 2), Descriptor(unparse, 4)))\n",
      " 62%|██████████████████████████████████████████████████████████████████████████████████████████████████████████▏                                                                | 486/783 [00:00<00:00, 4855.24it/s]Error processing scip-python python automata 7d8b52f4284df1ae476fe618b0c221c7ee14a7fd `automata.core.symbol.symbol_types`/SymbolCodeEmbedding#__init__().: Symbol(scip-python python automata 7d8b52f4284df1ae476fe618b0c221c7ee14a7fd `automata.core.symbol.symbol_types`/SymbolCodeEmbedding#__init__()., scip-python, Package(python automata 7d8b52f4284df1ae476fe618b0c221c7ee14a7fd), (Descriptor(automata.core.symbol.symbol_types, 1), Descriptor(SymbolCodeEmbedding, 2), Descriptor(__init__, 4)))\n",
      "Error processing scip-python python automata 7d8b52f4284df1ae476fe618b0c221c7ee14a7fd `automata.core.symbol.symbol_types`/SymbolDescriptor#__init__().: Symbol(scip-python python automata 7d8b52f4284df1ae476fe618b0c221c7ee14a7fd `automata.core.symbol.symbol_types`/SymbolDescriptor#__init__()., scip-python, Package(python automata 7d8b52f4284df1ae476fe618b0c221c7ee14a7fd), (Descriptor(automata.core.symbol.symbol_types, 1), Descriptor(SymbolDescriptor, 2), Descriptor(__init__, 4)))\n",
      "Error processing scip-python python automata 7d8b52f4284df1ae476fe618b0c221c7ee14a7fd `automata.core.symbol.symbol_types`/SymbolReference#__hash__().: Symbol(scip-python python automata 7d8b52f4284df1ae476fe618b0c221c7ee14a7fd `automata.core.symbol.symbol_types`/SymbolReference#__hash__()., scip-python, Package(python automata 7d8b52f4284df1ae476fe618b0c221c7ee14a7fd), (Descriptor(automata.core.symbol.symbol_types, 1), Descriptor(SymbolReference, 2), Descriptor(__hash__, 4)))\n",
      "Error processing scip-python python automata 7d8b52f4284df1ae476fe618b0c221c7ee14a7fd `automata.core.symbol.symbol_types`/Symbol#symbol_kind_by_suffix().: Symbol(scip-python python automata 7d8b52f4284df1ae476fe618b0c221c7ee14a7fd `automata.core.symbol.symbol_types`/Symbol#symbol_kind_by_suffix()., scip-python, Package(python automata 7d8b52f4284df1ae476fe618b0c221c7ee14a7fd), (Descriptor(automata.core.symbol.symbol_types, 1), Descriptor(Symbol, 2), Descriptor(symbol_kind_by_suffix, 4)))\n",
      "Error processing scip-python python automata 7d8b52f4284df1ae476fe618b0c221c7ee14a7fd `automata.core.agent.agents`/AutomataOpenAIAgent#__iter__().: Symbol(scip-python python automata 7d8b52f4284df1ae476fe618b0c221c7ee14a7fd `automata.core.agent.agents`/AutomataOpenAIAgent#__iter__()., scip-python, Package(python automata 7d8b52f4284df1ae476fe618b0c221c7ee14a7fd), (Descriptor(automata.core.agent.agents, 1), Descriptor(AutomataOpenAIAgent, 2), Descriptor(__iter__, 4)))\n",
      "Error processing scip-python python automata 7d8b52f4284df1ae476fe618b0c221c7ee14a7fd `automata.core.symbol.symbol_types`/SymbolDocEmbedding#__str__().: Symbol(scip-python python automata 7d8b52f4284df1ae476fe618b0c221c7ee14a7fd `automata.core.symbol.symbol_types`/SymbolDocEmbedding#__str__()., scip-python, Package(python automata 7d8b52f4284df1ae476fe618b0c221c7ee14a7fd), (Descriptor(automata.core.symbol.symbol_types, 1), Descriptor(SymbolDocEmbedding, 2), Descriptor(__str__, 4)))\n",
      "Error processing scip-python python automata 7d8b52f4284df1ae476fe618b0c221c7ee14a7fd `automata.core.agent.agents`/AutomataOpenAIAgent#set_database_provider().: Symbol(scip-python python automata 7d8b52f4284df1ae476fe618b0c221c7ee14a7fd `automata.core.agent.agents`/AutomataOpenAIAgent#set_database_provider()., scip-python, Package(python automata 7d8b52f4284df1ae476fe618b0c221c7ee14a7fd), (Descriptor(automata.core.agent.agents, 1), Descriptor(AutomataOpenAIAgent, 2), Descriptor(set_database_provider, 4)))\n",
      "Error processing scip-python python automata 7d8b52f4284df1ae476fe618b0c221c7ee14a7fd `automata.core.symbol.symbol_types`/SymbolPackage#: Symbol(scip-python python automata 7d8b52f4284df1ae476fe618b0c221c7ee14a7fd `automata.core.symbol.symbol_types`/SymbolPackage#, scip-python, Package(python automata 7d8b52f4284df1ae476fe618b0c221c7ee14a7fd), (Descriptor(automata.core.symbol.symbol_types, 1), Descriptor(SymbolPackage, 2)))\n",
      "Error processing scip-python python automata 7d8b52f4284df1ae476fe618b0c221c7ee14a7fd `automata.core.symbol.symbol_types`/SymbolEmbedding#__init__().: Symbol(scip-python python automata 7d8b52f4284df1ae476fe618b0c221c7ee14a7fd `automata.core.symbol.symbol_types`/SymbolEmbedding#__init__()., scip-python, Package(python automata 7d8b52f4284df1ae476fe618b0c221c7ee14a7fd), (Descriptor(automata.core.symbol.symbol_types, 1), Descriptor(SymbolEmbedding, 2), Descriptor(__init__, 4)))\n",
      "Error processing scip-python python automata 7d8b52f4284df1ae476fe618b0c221c7ee14a7fd `automata.core.symbol.symbol_types`/Symbol#is_parameter().: Symbol(scip-python python automata 7d8b52f4284df1ae476fe618b0c221c7ee14a7fd `automata.core.symbol.symbol_types`/Symbol#is_parameter()., scip-python, Package(python automata 7d8b52f4284df1ae476fe618b0c221c7ee14a7fd), (Descriptor(automata.core.symbol.symbol_types, 1), Descriptor(Symbol, 2), Descriptor(is_parameter, 4)))\n",
      "Error processing scip-python python automata 7d8b52f4284df1ae476fe618b0c221c7ee14a7fd `automata.cli.scripts.run_agent_task`/main().: Symbol(scip-python python automata 7d8b52f4284df1ae476fe618b0c221c7ee14a7fd `automata.cli.scripts.run_agent_task`/main()., scip-python, Package(python automata 7d8b52f4284df1ae476fe618b0c221c7ee14a7fd), (Descriptor(automata.cli.scripts.run_agent_task, 1), Descriptor(main, 4)))\n",
      "Error processing scip-python python automata 7d8b52f4284df1ae476fe618b0c221c7ee14a7fd `automata.core.symbol.symbol_types`/Symbol#is_meta().: Symbol(scip-python python automata 7d8b52f4284df1ae476fe618b0c221c7ee14a7fd `automata.core.symbol.symbol_types`/Symbol#is_meta()., scip-python, Package(python automata 7d8b52f4284df1ae476fe618b0c221c7ee14a7fd), (Descriptor(automata.core.symbol.symbol_types, 1), Descriptor(Symbol, 2), Descriptor(is_meta, 4)))\n",
      "Error processing scip-python python automata 7d8b52f4284df1ae476fe618b0c221c7ee14a7fd `automata.core.symbol.symbol_types`/Symbol#__eq__().: Symbol(scip-python python automata 7d8b52f4284df1ae476fe618b0c221c7ee14a7fd `automata.core.symbol.symbol_types`/Symbol#__eq__()., scip-python, Package(python automata 7d8b52f4284df1ae476fe618b0c221c7ee14a7fd), (Descriptor(automata.core.symbol.symbol_types, 1), Descriptor(Symbol, 2), Descriptor(__eq__, 4)))\n",
      "Error processing scip-python python automata 7d8b52f4284df1ae476fe618b0c221c7ee14a7fd `automata.core.symbol.symbol_types`/SymbolDocEmbedding#__init__().: Symbol(scip-python python automata 7d8b52f4284df1ae476fe618b0c221c7ee14a7fd `automata.core.symbol.symbol_types`/SymbolDocEmbedding#__init__()., scip-python, Package(python automata 7d8b52f4284df1ae476fe618b0c221c7ee14a7fd), (Descriptor(automata.core.symbol.symbol_types, 1), Descriptor(SymbolDocEmbedding, 2), Descriptor(__init__, 4)))\n",
      "Error processing scip-python python automata 7d8b52f4284df1ae476fe618b0c221c7ee14a7fd `automata.core.symbol.symbol_types`/SymbolDescriptor#PyKind#: Symbol(scip-python python automata 7d8b52f4284df1ae476fe618b0c221c7ee14a7fd `automata.core.symbol.symbol_types`/SymbolDescriptor#PyKind#, scip-python, Package(python automata 7d8b52f4284df1ae476fe618b0c221c7ee14a7fd), (Descriptor(automata.core.symbol.symbol_types, 1), Descriptor(SymbolDescriptor, 2), Descriptor(PyKind, 2)))\n",
      "Error processing scip-python python automata 7d8b52f4284df1ae476fe618b0c221c7ee14a7fd `automata.core.agent.agents`/AutomataOpenAIAgent#__init__().: Symbol(scip-python python automata 7d8b52f4284df1ae476fe618b0c221c7ee14a7fd `automata.core.agent.agents`/AutomataOpenAIAgent#__init__()., scip-python, Package(python automata 7d8b52f4284df1ae476fe618b0c221c7ee14a7fd), (Descriptor(automata.core.agent.agents, 1), Descriptor(AutomataOpenAIAgent, 2), Descriptor(__init__, 4)))\n"
     ]
    },
    {
     "name": "stderr",
     "output_type": "stream",
     "text": [
      "Error processing scip-python python automata 7d8b52f4284df1ae476fe618b0c221c7ee14a7fd `automata.cli.scripts.run_agent_task`/process_issues().: Symbol(scip-python python automata 7d8b52f4284df1ae476fe618b0c221c7ee14a7fd `automata.cli.scripts.run_agent_task`/process_issues()., scip-python, Package(python automata 7d8b52f4284df1ae476fe618b0c221c7ee14a7fd), (Descriptor(automata.cli.scripts.run_agent_task, 1), Descriptor(process_issues, 4)))\n",
      "Error processing scip-python python automata 7d8b52f4284df1ae476fe618b0c221c7ee14a7fd `automata.core.llm.providers.openai`/OpenAIAgent#_get_available_functions().: Symbol(scip-python python automata 7d8b52f4284df1ae476fe618b0c221c7ee14a7fd `automata.core.llm.providers.openai`/OpenAIAgent#_get_available_functions()., scip-python, Package(python automata 7d8b52f4284df1ae476fe618b0c221c7ee14a7fd), (Descriptor(automata.core.llm.providers.openai, 1), Descriptor(OpenAIAgent, 2), Descriptor(_get_available_functions, 4)))\n",
      "Error processing scip-python python automata 7d8b52f4284df1ae476fe618b0c221c7ee14a7fd `automata.core.llm.providers.openai`/OpenAIAgentToolBuilder#build_for_open_ai().: Symbol(scip-python python automata 7d8b52f4284df1ae476fe618b0c221c7ee14a7fd `automata.core.llm.providers.openai`/OpenAIAgentToolBuilder#build_for_open_ai()., scip-python, Package(python automata 7d8b52f4284df1ae476fe618b0c221c7ee14a7fd), (Descriptor(automata.core.llm.providers.openai, 1), Descriptor(OpenAIAgentToolBuilder, 2), Descriptor(build_for_open_ai, 4)))\n",
      "Error processing scip-python python automata 7d8b52f4284df1ae476fe618b0c221c7ee14a7fd `automata.core.agent.agents`/AutomataOpenAIAgent#_get_next_user_response().: Symbol(scip-python python automata 7d8b52f4284df1ae476fe618b0c221c7ee14a7fd `automata.core.agent.agents`/AutomataOpenAIAgent#_get_next_user_response()., scip-python, Package(python automata 7d8b52f4284df1ae476fe618b0c221c7ee14a7fd), (Descriptor(automata.core.agent.agents, 1), Descriptor(AutomataOpenAIAgent, 2), Descriptor(_get_next_user_response, 4)))\n",
      "Error processing scip-python python automata 7d8b52f4284df1ae476fe618b0c221c7ee14a7fd `automata.core.agent.agents`/AutomataOpenAIAgent#run().: Symbol(scip-python python automata 7d8b52f4284df1ae476fe618b0c221c7ee14a7fd `automata.core.agent.agents`/AutomataOpenAIAgent#run()., scip-python, Package(python automata 7d8b52f4284df1ae476fe618b0c221c7ee14a7fd), (Descriptor(automata.core.agent.agents, 1), Descriptor(AutomataOpenAIAgent, 2), Descriptor(run, 4)))\n",
      "Error processing scip-python python automata 7d8b52f4284df1ae476fe618b0c221c7ee14a7fd `automata.core.agent.instances`/AutomataOpenAIAgentInstance#run().: Symbol(scip-python python automata 7d8b52f4284df1ae476fe618b0c221c7ee14a7fd `automata.core.agent.instances`/AutomataOpenAIAgentInstance#run()., scip-python, Package(python automata 7d8b52f4284df1ae476fe618b0c221c7ee14a7fd), (Descriptor(automata.core.agent.instances, 1), Descriptor(AutomataOpenAIAgentInstance, 2), Descriptor(run, 4)))\n",
      "Error processing scip-python python automata 7d8b52f4284df1ae476fe618b0c221c7ee14a7fd `automata.core.symbol.symbol_types`/SymbolReference#__eq__().: Symbol(scip-python python automata 7d8b52f4284df1ae476fe618b0c221c7ee14a7fd `automata.core.symbol.symbol_types`/SymbolReference#__eq__()., scip-python, Package(python automata 7d8b52f4284df1ae476fe618b0c221c7ee14a7fd), (Descriptor(automata.core.symbol.symbol_types, 1), Descriptor(SymbolReference, 2), Descriptor(__eq__, 4)))\n",
      "Error processing scip-python python automata 7d8b52f4284df1ae476fe618b0c221c7ee14a7fd `automata.core.symbol.symbol_types`/SymbolReference#: Symbol(scip-python python automata 7d8b52f4284df1ae476fe618b0c221c7ee14a7fd `automata.core.symbol.symbol_types`/SymbolReference#, scip-python, Package(python automata 7d8b52f4284df1ae476fe618b0c221c7ee14a7fd), (Descriptor(automata.core.symbol.symbol_types, 1), Descriptor(SymbolReference, 2)))\n",
      "Error processing scip-python python automata 7d8b52f4284df1ae476fe618b0c221c7ee14a7fd `automata.core.symbol.symbol_types`/SymbolDescriptor#__repr__().: Symbol(scip-python python automata 7d8b52f4284df1ae476fe618b0c221c7ee14a7fd `automata.core.symbol.symbol_types`/SymbolDescriptor#__repr__()., scip-python, Package(python automata 7d8b52f4284df1ae476fe618b0c221c7ee14a7fd), (Descriptor(automata.core.symbol.symbol_types, 1), Descriptor(SymbolDescriptor, 2), Descriptor(__repr__, 4)))\n",
      "100%|███████████████████████████████████████████████████████████████████████████████████████████████████████████████████████████████████████████████████████████████████████████| 783/783 [00:00<00:00, 4851.75it/s]\n"
     ]
    }
   ],
   "source": [
    "symbol_search = DependencyFactory().get('symbol_search')"
   ]
  },
  {
   "cell_type": "code",
   "execution_count": 3,
   "id": "ddea41cb",
   "metadata": {},
   "outputs": [],
   "source": [
    "graph_symbols = symbol_search.symbol_graph.get_all_available_symbols()\n",
    "embedding_symbols = symbol_search.symbol_code_similarity.embedding_handler.get_all_supported_symbols()\n",
    "available_symbols = set(graph_symbols).intersection(set(embedding_symbols))"
   ]
  },
  {
   "cell_type": "code",
   "execution_count": 4,
   "id": "b2e15a48",
   "metadata": {},
   "outputs": [
    {
     "name": "stdout",
     "output_type": "stream",
     "text": [
      "The search symbol_graph has 2731 symbols\n"
     ]
    }
   ],
   "source": [
    "print(f\"The search symbol_graph has {len(graph_symbols)} symbols\")"
   ]
  },
  {
   "cell_type": "code",
   "execution_count": 5,
   "id": "d5d1e571",
   "metadata": {},
   "outputs": [
    {
     "name": "stdout",
     "output_type": "stream",
     "text": [
      "The search embedding has 901\n"
     ]
    }
   ],
   "source": [
    "print(f\"The search embedding has {len(embedding_symbols)}\")"
   ]
  },
  {
   "cell_type": "code",
   "execution_count": 6,
   "id": "2ddadc12",
   "metadata": {},
   "outputs": [
    {
     "name": "stdout",
     "output_type": "stream",
     "text": [
      "The intersection of the symbol_graph and the embedding 733 symbols\n"
     ]
    }
   ],
   "source": [
    "print(f\"The intersection of the symbol_graph and the embedding {len(available_symbols)} symbols\")"
   ]
  },
  {
   "cell_type": "code",
   "execution_count": 7,
   "id": "988b52cc",
   "metadata": {
    "scrolled": true
   },
   "outputs": [
    {
     "name": "stdout",
     "output_type": "stream",
     "text": [
      "rank 0 = automata.core.coding.py.writer.PyWriter with rank 0.003\n",
      "rank 1 = automata.core.symbol.graph.SymbolGraph with rank 0.003\n",
      "rank 2 = automata.core.base.database.vector.JSONVectorDatabase with rank 0.003\n",
      "rank 3 = automata.core.agent.task.task.AutomataTask with rank 0.003\n",
      "rank 4 = automata.core.base.tool.Tool with rank 0.003\n",
      "rank 5 = automata.core.coding.py.reader.PyReader with rank 0.003\n",
      "rank 6 = automata.core.context.py.retriever.PyContextRetriever with rank 0.003\n",
      "rank 7 = automata.core.agent.tool.tool_utils.DependencyFactory with rank 0.003\n",
      "rank 8 = automata.core.symbol.search.symbol_search.SymbolSearch with rank 0.003\n",
      "rank 9 = automata.core.symbol.parser.parse_symbol with rank 0.003\n"
     ]
    }
   ],
   "source": [
    "raw_ranks = symbol_search.symbol_rank.get_ranks()\n",
    "for i,rank in enumerate(raw_ranks[0:10]):\n",
    "    print(f\"rank {i} = {rank[0].dotpath} with rank {rank[1]:.3f}\")"
   ]
  },
  {
   "cell_type": "code",
   "execution_count": 8,
   "id": "2ce0bb66",
   "metadata": {
    "scrolled": true
   },
   "outputs": [
    {
     "name": "stdout",
     "output_type": "stream",
     "text": [
      "rank 0 = automata.core.symbol.graph.SymbolGraph with rank 0.024\n",
      "rank 1 = automata.core.symbol.graph.SymbolGraph.SubGraph with rank 0.013\n",
      "rank 2 = automata.tests.unit.test_symbol_rank.test_get_ranks_small_graph with rank 0.011\n",
      "rank 3 = automata.tests.unit.test_symbol_graph.test_get_all_symbols with rank 0.011\n",
      "rank 4 = automata.core.agent.tool.tool_utils.DependencyFactory.create_symbol_graph with rank 0.010\n",
      "rank 5 = automata.core.symbol.graph.GraphBuilder with rank 0.010\n",
      "rank 6 = automata.tests.utils.factories.symbol_graph_static_test with rank 0.008\n",
      "rank 7 = automata.tests.conftest.symbol_graph_mock with rank 0.008\n",
      "rank 8 = automata.core.symbol.graph._SymbolGraphNavigator.get_all_available_symbols with rank 0.008\n",
      "rank 9 = automata.core.agent.tool.tool_utils.DependencyFactory.create_subgraph with rank 0.007\n"
     ]
    }
   ],
   "source": [
    "symbol_rank_search_results = symbol_search.symbol_rank_search(\"SymbolGraph\")\n",
    "raw_ranks = symbol_search.symbol_rank.get_ranks()\n",
    "for i,rank in enumerate(symbol_rank_search_results[0:10]):\n",
    "    print(f\"rank {i} = {rank[0].dotpath} with rank {rank[1]:.3f}\")"
   ]
  }
 ],
 "metadata": {
  "kernelspec": {
   "display_name": "Python 3 (ipykernel)",
   "language": "python",
   "name": "python3"
  },
  "language_info": {
   "codemirror_mode": {
    "name": "ipython",
    "version": 3
   },
   "file_extension": ".py",
   "mimetype": "text/x-python",
   "name": "python",
   "nbconvert_exporter": "python",
   "pygments_lexer": "ipython3",
   "version": "3.9.13"
  }
 },
 "nbformat": 4,
 "nbformat_minor": 5
}
