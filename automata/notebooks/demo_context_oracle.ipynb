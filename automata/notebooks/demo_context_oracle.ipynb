{
 "cells": [
  {
   "cell_type": "code",
   "execution_count": 2,
   "id": "25b4c489",
   "metadata": {},
   "outputs": [],
   "source": [
    "import logging\n",
    "from typing import Any, Set\n",
    "\n",
    "from automata.config.base import AgentConfigName\n",
    "from automata.core.singletons.dependency_factory import dependency_factory\n",
    "from automata.core.singletons.py_module_loader import py_module_loader\n",
    "from automata.core.context_providers.symbol_synchronization import (\n",
    "    SymbolProviderSynchronizationContext,\n",
    ")\n",
    "    \n",
    "from automata.core.tools.base import Tool\n",
    "from automata.core.tools.builders.context_oracle import ContextOracleToolkitBuilder\n",
    "\n",
    "logger = logging.getLogger(__name__)\n",
    "\n",
    "py_module_loader.initialize()"
   ]
  },
  {
   "cell_type": "code",
   "execution_count": 19,
   "id": "df78604c",
   "metadata": {},
   "outputs": [],
   "source": [
    "symbol_code_embedding_handler = dependency_factory.get('symbol_code_embedding_handler')\n",
    "symbol_doc_embedding_handler = dependency_factory.get('symbol_doc_embedding_handler')\n",
    "embedding_similarity_calculator = dependency_factory.get('embedding_similarity_calculator')"
   ]
  },
  {
   "cell_type": "code",
   "execution_count": 11,
   "id": "4615391b",
   "metadata": {},
   "outputs": [],
   "source": [
    "with SymbolProviderSynchronizationContext() as synchronization_context:\n",
    "    synchronization_context.register_provider(symbol_search.symbol_graph)\n",
    "    synchronization_context.register_provider(symbol_search.search_embedding_handler)\n",
    "    synchronization_context.synchronize()\n",
    "\n",
    "graph_symbols = symbol_search.symbol_graph.get_sorted_supported_symbols()\n",
    "embedding_symbols = symbol_search.search_embedding_handler.get_sorted_supported_symbols()\n",
    "available_symbols = set(graph_symbols).intersection(set(embedding_symbols))"
   ]
  },
  {
   "cell_type": "code",
   "execution_count": 23,
   "id": "d9b0114c",
   "metadata": {},
   "outputs": [],
   "source": [
    "\n",
    "context_oracle = ContextOracleToolkitBuilder(symbol_doc_embedding_handler, symbol_code_embedding_handler, embedding_similarity_calculator)"
   ]
  },
  {
   "cell_type": "code",
   "execution_count": 24,
   "id": "ba92d460",
   "metadata": {
    "scrolled": true
   },
   "outputs": [],
   "source": [
    "context = context_oracle._get_context(\"Provide new code which refactors the SymbolDocEmbeddingHandler class to be more robust.\")"
   ]
  },
  {
   "cell_type": "code",
   "execution_count": 25,
   "id": "35c3b343",
   "metadata": {
    "scrolled": false
   },
   "outputs": [
    {
     "name": "stdout",
     "output_type": "stream",
     "text": [
      "class SymbolDocEmbeddingHandler(SymbolEmbeddingHandler):\n",
      "    \"\"\"A class to handle the embedding of symbols\"\"\"\n",
      "\n",
      "    def __init__(\n",
      "        self,\n",
      "        embedding_db: JSONSymbolEmbeddingVectorDatabase,\n",
      "        embedding_builder: SymbolDocEmbeddingBuilder,\n",
      "    ) -> None:\n",
      "        super().__init__(embedding_db, embedding_builder)\n",
      "\n",
      "    def get_embedding(self, symbol: Symbol) -> SymbolDocEmbedding:\n",
      "        return self.embedding_db.get(symbol.dotpath)\n",
      "\n",
      "    def process_embedding(self, symbol: Symbol) -> None:\n",
      "        \"\"\"\n",
      "        Process the embedding for a `Symbol` -\n",
      "        Currently we do nothing if the symbol is already contained\n",
      "        \"\"\"\n",
      "\n",
      "        source_code = self.embedding_builder.fetch_embedding_source_code(symbol)\n",
      "\n",
      "        if not source_code:\n",
      "            raise ValueError(f\"Symbol {symbol} has no source code\")\n",
      "\n",
      "        if self.embedding_db.contains(symbol.dotpath):\n",
      "            self.update_existing_embedding(source_code, symbol)\n",
      "            return\n",
      "        # else:\n",
      "        symbol_embedding = self.embedding_builder.build(source_code, symbol)\n",
      "        self.embedding_db.add(symbol_embedding)\n",
      "\n",
      "    def update_existing_embedding(self, source_code: str, symbol: Symbol) -> None:\n",
      "        existing_embedding = self.embedding_db.get(symbol.dotpath)\n",
      "        if existing_embedding.symbol != symbol or existing_embedding.source_code != source_code:\n",
      "            logger.debug(\n",
      "                f\"Rolling forward the embedding for {existing_embedding.symbol} to {symbol}\"\n",
      "            )\n",
      "            self.embedding_db.discard(symbol.dotpath)\n",
      "            existing_embedding.symbol = symbol\n",
      "            existing_embedding.source_code = source_code\n",
      "            self.embedding_db.add(existing_embedding)\n",
      "        else:\n",
      "            logger.debug(\"Passing for %s\", symbol)\n",
      "Documentation Summary:\n",
      "\n",
      "The SymbolDocEmbeddingHandler is a class that manages the process of embedding symbols, including retrieving existing symbol embeddings, processing them, and updating them as necessary. It operates by using a database of symbol embeddings (JSONSymbolEmbeddingVectorDatabase) and a builder for symbol document embeddings (SymbolDocEmbeddingBuilder). An example of how to use SymbolDocEmbeddingHandler is provided in the documentation. However, it assumes that all symbols have the available source code for embedding, failing which, a ValueError is raised. It also does not make any changes if the symbol already exists in the database with its source code unchanged. Further clarity on the embedding process, its utilization, downstream usage of the generated embeddings, future plans to proactively handle changes in a symbol's source code, and scalability of the current implementation were identified as areas of discussion.\n",
      "Fetching related context now for 1 symbols...\n",
      "\n",
      "automata.core.symbol_embedding.base.SymbolEmbeddingHandler\n",
      "\n",
      "`SymbolEmbeddingHandler` is an abstract class used to handle symbol embeddings for different elements of Python code such as classes, methods or local variables. This is aimed at converting these symbols into a form that machine learning algorithms can process. The class consists of abstract methods that are meant to be implemented by child classes, which handle the specifics of the symbol embedding process. This can include methods for establishing initial settings for the embedding database and builders, filtering symbols, and fetching and processing symbol embeddings. The class also contains methods to fetch embeddings in the order they were added.\n",
      "\n",
      "Notably, the actual functionality and performance of `SymbolEmbeddingHandler` heavily relies on its child classes. For instance, child classes like `SymbolDocEmbeddingHandler` and `SymbolCodeEmbeddingHandler` can be instantiated to manage different databases of symbol embeddings. Here's an example usage with a mock setup:\n",
      "\n",
      "```python\n",
      "# Mock EmbeddingBuilder and JSONSymbolEmbeddingVectorDatabase\n",
      "mock_provider = Mock(EmbeddingBuilder)\n",
      "mock_db = MagicMock(JSONSymbolEmbeddingVectorDatabase)\n",
      "  \n",
      "# Create an instance of SymbolCodeEmbeddingHandler \n",
      "embedding_handler = SymbolCodeEmbeddingHandler(embedding_builder=mock_provider, embedding_db=mock_db)\n",
      " \n",
      "# Use the get_embedding method\n",
      "symbol_embedding = embedding_handler.get_embedding(Symbol(\"test\"))\n",
      "```\n",
      "\n",
      "In this context, `EmbeddingBuilder` and `JSONSymbolEmbeddingVectorDatabase` should be replaced with their actual implementations in a real-world scenario.\n",
      "\n",
      "\n"
     ]
    }
   ],
   "source": [
    "print(context)"
   ]
  }
 ],
 "metadata": {
  "kernelspec": {
   "display_name": "Python 3 (ipykernel)",
   "language": "python",
   "name": "python3"
  },
  "language_info": {
   "codemirror_mode": {
    "name": "ipython",
    "version": 3
   },
   "file_extension": ".py",
   "mimetype": "text/x-python",
   "name": "python",
   "nbconvert_exporter": "python",
   "pygments_lexer": "ipython3",
   "version": "3.9.13"
  }
 },
 "nbformat": 4,
 "nbformat_minor": 5
}
